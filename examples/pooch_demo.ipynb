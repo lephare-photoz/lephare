{
 "cells": [
  {
   "cell_type": "code",
   "execution_count": 1,
   "id": "571cf701-c5d0-44b6-b815-2e7bc038016d",
   "metadata": {
    "tags": []
   },
   "outputs": [],
   "source": [
    "import os\n",
    "\n",
    "if \"LEPHAREDIR\" not in os.environ:\n",
    "    os.environ[\"LEPHAREDIR\"] = \"/pscratch/sd/o/olynn/lephare-dev/\"\n",
    "if \"LEPHAREWORK\" not in os.environ:\n",
    "    os.environ[\"LEPHAREWORK\"] = \"/pscratch/sd/o/olynn/lephare-dev/work/\"\n",
    "\n",
    "import lephare"
   ]
  },
  {
   "cell_type": "code",
   "execution_count": 2,
   "id": "396751cc-c68e-425f-8277-f7ba566a7f8a",
   "metadata": {
    "tags": []
   },
   "outputs": [],
   "source": [
    "# Toggles\n",
    "#Note: put data into LEPHAREDIR\n",
    "# consider this already being in some kind of lephare.data_marshaller or something\n",
    "# this is something raph is working on\n",
    "# and the user could then set the data_marshaller.data_location from default if desired\n",
    "\n",
    "GET_FILE_NAMES_FROM_LIST_FILE = True\n",
    "GET_FILE_NAMES_FROM_LIST_OF_DIRS = False\n",
    "\n",
    "DOWNLOAD_REGISTRY_FROM_GITHUB = True\n",
    "\n",
    "DOWNLOAD_FILES = True\n",
    "\n",
    "# Vars\n",
    "\n",
    "owner = \"OliviaLynn\"\n",
    "repo = \"LEPHARE-data\"\n",
    "registry_file = \"data-registry.txt\" # TODO: place this in the data dir, rather than haphazardly wherever\n",
    "#list_file = \"STAR_MOD_ALL.list\"\n",
    "list_file = \"https://raw.githubusercontent.com/OliviaLynn/LEPHARE-data/91006fcdf6a4b36932f1b5938e8d2084aca4a2e0/sed/QSO/QSO_MOD.list\"\n",
    "\n",
    "# Needs manual prefix - this is bc these list files are not in the right place wrt relative paths of files they point to\n",
    "#list_file = \"https://raw.githubusercontent.com/OliviaLynn/LEPHARE-data/91006fcdf6a4b36932f1b5938e8d2084aca4a2e0/sed/GAL/SK06/SK06_0.35kpc.list\"\n",
    "#list_file = \"https://raw.githubusercontent.com/OliviaLynn/LEPHARE-data/91006fcdf6a4b36932f1b5938e8d2084aca4a2e0/examples/UVISTA_MOD.list\"\n",
    "\n",
    "\n",
    "# Helpers\n",
    "\n",
    "def partial_print(print_list, number_lines):\n",
    "    print(f\"{len(print_list)} lines in list:\\n\")\n",
    "    if len(print_list) < 2 * number_lines:\n",
    "        for line in print_list:\n",
    "            print(line)\n",
    "    else:\n",
    "        for line in print_list[:number_lines]:\n",
    "            print(line)\n",
    "        print(\"...\")\n",
    "        for line in print_list[-number_lines:]:\n",
    "            print(line)"
   ]
  },
  {
   "cell_type": "code",
   "execution_count": 3,
   "id": "9e5124e7-1a30-473a-82da-3914dd1014b3",
   "metadata": {
    "tags": []
   },
   "outputs": [
    {
     "name": "stdout",
     "output_type": "stream",
     "text": [
      "11 lines in list:\n",
      "\n",
      "sed/QSO/qso_template_norm.sed\n",
      "sed/QSO/qso_low_template_norm.sed\n",
      "sed/QSO/qso_high_template_norm.sed\n",
      "sed/QSO/QSO_SDSS.sed\n",
      "...\n",
      "sed/QSO/QSO_SYNTH-1.0_84.sed\n",
      "sed/QSO/Redqso_template_norm.sed\n",
      "sed/QSO/MR_QSO1.sed\n",
      "sed/QSO/MR_QSO2.sed\n"
     ]
    }
   ],
   "source": [
    "if GET_FILE_NAMES_FROM_LIST_FILE: # add url list file option\n",
    "    file_names = lephare.data_retrieval.read_list_file(list_file, prefix=\"\") #! TODO, the prefix/list file mapping may want some consideration\n",
    "    partial_print(file_names, 4)\n",
    "    \n",
    "elif GET_FILE_NAMES_FROM_LIST_OF_DIRS:\n",
    "    dirs = [\"sed/GAL/\", \"filt/lsst/\"]\n",
    "    file_names = lephare.data_retrieval.filter_files_by_prefix(registry_file, dirs)\n",
    "    partial_print(file_names, 4)"
   ]
  },
  {
   "cell_type": "code",
   "execution_count": 4,
   "id": "044c490f-c022-43b2-b12e-4e256b7050f6",
   "metadata": {
    "tags": []
   },
   "outputs": [
    {
     "name": "stdout",
     "output_type": "stream",
     "text": [
      "File downloaded and saved as data-registry.txt\n"
     ]
    }
   ],
   "source": [
    "if DOWNLOAD_REGISTRY_FROM_GITHUB:\n",
    "    registry_url = f\"https://raw.githubusercontent.com/{owner}/{repo}/main/{registry_file}\"\n",
    "    lephare.data_retrieval.download_registry_from_github(registry_url, registry_file)"
   ]
  },
  {
   "cell_type": "code",
   "execution_count": 5,
   "id": "f51d15c5-9d0b-480a-947f-8ba727f2f4a4",
   "metadata": {
    "tags": []
   },
   "outputs": [
    {
     "name": "stderr",
     "output_type": "stream",
     "text": [
      "Downloading file 'sed/QSO/qso_template_norm.sed' from 'https://raw.githubusercontent.com/OliviaLynn/LEPHARE-data/main/sed/QSO/qso_template_norm.sed' to '/pscratch/sd/o/olynn/lephare-dev/examples'.\n",
      "Downloading file 'sed/QSO/qso_low_template_norm.sed' from 'https://raw.githubusercontent.com/OliviaLynn/LEPHARE-data/main/sed/QSO/qso_low_template_norm.sed' to '/pscratch/sd/o/olynn/lephare-dev/examples'.\n",
      "Downloading file 'sed/QSO/qso_high_template_norm.sed' from 'https://raw.githubusercontent.com/OliviaLynn/LEPHARE-data/main/sed/QSO/qso_high_template_norm.sed' to '/pscratch/sd/o/olynn/lephare-dev/examples'.\n"
     ]
    },
    {
     "name": "stdout",
     "output_type": "stream",
     "text": [
      "Created directory: sed/QSO\n",
      "Checking/downloading 3 files...\n",
      "3 completed.\n"
     ]
    }
   ],
   "source": [
    "if DOWNLOAD_FILES:\n",
    "    import tqdm\n",
    "    data_path = \".\" # Overriding default cache location; consider changing back for PyPI installation\n",
    "    base_url = f\"https://raw.githubusercontent.com/{owner}/{repo}/main/\" # Would change a bit with versioning\n",
    "    \n",
    "    retriever = lephare.data_retrieval.make_retriever(base_url, registry_file, data_path=data_path)\n",
    "    \n",
    "    lephare.data_retrieval.download_all_files(retriever, file_names[:3])\n",
    "    \n",
    "    # Currently in progress (working on ignore_registry)\n",
    "    #lephare.data_retrieval.download_all_files(retriever, file_names[:3], ignore_registry=True) # TODO would like an option to download even without registry matchup, or at least \n",
    "    # have some outout that explains the situation, and suggests either updating the registry or checking the prefix of the file"
   ]
  },
  {
   "cell_type": "code",
   "execution_count": null,
   "id": "9d9a6cd6-90e1-4a69-a2f8-c3f8c987fb84",
   "metadata": {},
   "outputs": [],
   "source": []
  }
 ],
 "metadata": {
  "kernelspec": {
   "display_name": "Python (lph)",
   "language": "python",
   "name": "myenv"
  },
  "language_info": {
   "codemirror_mode": {
    "name": "ipython",
    "version": 3
   },
   "file_extension": ".py",
   "mimetype": "text/x-python",
   "name": "python",
   "nbconvert_exporter": "python",
   "pygments_lexer": "ipython3",
   "version": "3.10.14"
  }
 },
 "nbformat": 4,
 "nbformat_minor": 5
}
