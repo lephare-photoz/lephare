{
 "cells": [
  {
   "cell_type": "markdown",
   "id": "694d217b-ec1a-42b7-b8e6-dde10c3490b1",
   "metadata": {},
   "source": [
    "# Data retrieval example\n",
    "\n",
    "In order to run lephare we must download some input data. In this short notebook we a simple example which uses pooch to check if the required files have already been downloaded and to download them if not."
   ]
  },
  {
   "cell_type": "code",
   "execution_count": 1,
   "id": "571cf701-c5d0-44b6-b815-2e7bc038016d",
   "metadata": {
    "tags": []
   },
   "outputs": [
    {
     "name": "stdout",
     "output_type": "stream",
     "text": [
      "Lephare default working directory already exists at\n",
      "                    /Users/rshirley/Library/Caches/lephare/work.\n"
     ]
    }
   ],
   "source": [
    "import os\n",
    "import lephare"
   ]
  },
  {
   "cell_type": "code",
   "execution_count": 2,
   "id": "396751cc-c68e-425f-8277-f7ba566a7f8a",
   "metadata": {
    "tags": []
   },
   "outputs": [],
   "source": [
    "# Helper function for use in this notebook\n",
    "\n",
    "\n",
    "def partial_print(print_list, number_lines):\n",
    "    print(f\"{len(print_list)} lines in list:\\n\")\n",
    "    if len(print_list) < 2 * number_lines:\n",
    "        for line in print_list:\n",
    "            print(line)\n",
    "    else:\n",
    "        for line in print_list[:number_lines]:\n",
    "            print(line)\n",
    "        print(\"...\")\n",
    "        for line in print_list[-number_lines:]:\n",
    "            print(line)"
   ]
  },
  {
   "cell_type": "code",
   "execution_count": 3,
   "id": "9e5124e7-1a30-473a-82da-3914dd1014b3",
   "metadata": {
    "tags": []
   },
   "outputs": [
    {
     "name": "stdout",
     "output_type": "stream",
     "text": [
      "11 lines in list:\n",
      "\n",
      "sed/QSO/qso_template_norm.sed\n",
      "sed/QSO/qso_low_template_norm.sed\n",
      "sed/QSO/qso_high_template_norm.sed\n",
      "...\n",
      "sed/QSO/Redqso_template_norm.sed\n",
      "sed/QSO/MR_QSO1.sed\n",
      "sed/QSO/MR_QSO2.sed\n"
     ]
    }
   ],
   "source": [
    "# Getting a list of file names from a list file\n",
    "# The list file can be a url or a path to a local list file\n",
    "\n",
    "list_file = \"https://raw.githubusercontent.com/OliviaLynn/LEPHARE-data/91006fcdf6a4b36932f1b5938e8d2084aca4a2e0/sed/QSO/QSO_MOD.list\"\n",
    "file_names = lephare.data_retrieval.read_list_file(list_file, prefix=\"\")\n",
    "\n",
    "partial_print(file_names, 3)"
   ]
  },
  {
   "cell_type": "code",
   "execution_count": 4,
   "id": "2769d438-03fc-44a1-882a-9d3554dab7b0",
   "metadata": {},
   "outputs": [],
   "source": [
    "# Or, alternatively, you can download files by subdirectory\n",
    "# Here, we specify our desired subdirectories and get a list of the files they contain\n",
    "\n",
    "# target_dirs = [\"sed/GAL/\", \"filt/lsst/\"]\n",
    "# file_names = lephare.data_retrieval.filter_files_by_prefix(registry_file, target_dirs)\n",
    "# partial_print(file_names, 4)"
   ]
  },
  {
   "cell_type": "code",
   "execution_count": 5,
   "id": "99446731-e9c6-46a5-b7b3-63a683d37df8",
   "metadata": {},
   "outputs": [],
   "source": [
    "# A third way to get data is to grab the zip file from OSF,\n",
    "# which can be found in: https://osf.io/mvpks/files/osfstorage\n",
    "\n",
    "# TODO: extend this in a future PR"
   ]
  },
  {
   "cell_type": "code",
   "execution_count": 6,
   "id": "044c490f-c022-43b2-b12e-4e256b7050f6",
   "metadata": {
    "tags": []
   },
   "outputs": [
    {
     "name": "stdout",
     "output_type": "stream",
     "text": [
      "File downloaded and saved as data_registry.txt\n"
     ]
    }
   ],
   "source": [
    "# Download the registry file\n",
    "# This will default to the default registry location at the default base url,\n",
    "# then output as the default registry file name, but these can be overridden\n",
    "# with the url and outfile keywords\n",
    "\n",
    "lephare.data_retrieval.download_registry_from_github()"
   ]
  },
  {
   "cell_type": "code",
   "execution_count": 7,
   "id": "f51d15c5-9d0b-480a-947f-8ba727f2f4a4",
   "metadata": {
    "tags": []
   },
   "outputs": [
    {
     "name": "stderr",
     "output_type": "stream",
     "text": [
      "Downloading file 'sed/QSO/qso_low_template_norm.sed' from 'https://raw.githubusercontent.com/OliviaLynn/LEPHARE-data/main/sed/QSO/qso_low_template_norm.sed' to '/Users/rshirley/Documents/github/lincc/lephare-dev/docs/notebooks/data'.\n",
      "Downloading file 'sed/QSO/qso_template_norm.sed' from 'https://raw.githubusercontent.com/OliviaLynn/LEPHARE-data/main/sed/QSO/qso_template_norm.sed' to '/Users/rshirley/Documents/github/lincc/lephare-dev/docs/notebooks/data'.\n",
      "Downloading file 'sed/QSO/qso_high_template_norm.sed' from 'https://raw.githubusercontent.com/OliviaLynn/LEPHARE-data/main/sed/QSO/qso_high_template_norm.sed' to '/Users/rshirley/Documents/github/lincc/lephare-dev/docs/notebooks/data'.\n",
      "Downloading file 'sed/QSO/QSO_SDSS.sed' from 'https://raw.githubusercontent.com/OliviaLynn/LEPHARE-data/main/sed/QSO/QSO_SDSS.sed' to '/Users/rshirley/Documents/github/lincc/lephare-dev/docs/notebooks/data'.\n",
      "Downloading file 'sed/QSO/MR_QSO1.sed' from 'https://raw.githubusercontent.com/OliviaLynn/LEPHARE-data/main/sed/QSO/MR_QSO1.sed' to '/Users/rshirley/Documents/github/lincc/lephare-dev/docs/notebooks/data'.\n",
      "Downloading file 'sed/QSO/QSO_Cristiani.sed' from 'https://raw.githubusercontent.com/OliviaLynn/LEPHARE-data/main/sed/QSO/QSO_Cristiani.sed' to '/Users/rshirley/Documents/github/lincc/lephare-dev/docs/notebooks/data'.\n",
      "Downloading file 'sed/QSO/QSO_SYNTH-0.7_84.sed' from 'https://raw.githubusercontent.com/OliviaLynn/LEPHARE-data/main/sed/QSO/QSO_SYNTH-0.7_84.sed' to '/Users/rshirley/Documents/github/lincc/lephare-dev/docs/notebooks/data'.\n",
      "Downloading file 'sed/QSO/MR_QSO2.sed' from 'https://raw.githubusercontent.com/OliviaLynn/LEPHARE-data/main/sed/QSO/MR_QSO2.sed' to '/Users/rshirley/Documents/github/lincc/lephare-dev/docs/notebooks/data'.\n",
      "Downloading file 'sed/QSO/QSO_VVDS.sed' from 'https://raw.githubusercontent.com/OliviaLynn/LEPHARE-data/main/sed/QSO/QSO_VVDS.sed' to '/Users/rshirley/Documents/github/lincc/lephare-dev/docs/notebooks/data'.\n",
      "Downloading file 'sed/QSO/Redqso_template_norm.sed' from 'https://raw.githubusercontent.com/OliviaLynn/LEPHARE-data/main/sed/QSO/Redqso_template_norm.sed' to '/Users/rshirley/Documents/github/lincc/lephare-dev/docs/notebooks/data'.\n",
      "Downloading file 'sed/QSO/QSO_SYNTH-1.0_84.sed' from 'https://raw.githubusercontent.com/OliviaLynn/LEPHARE-data/main/sed/QSO/QSO_SYNTH-1.0_84.sed' to '/Users/rshirley/Documents/github/lincc/lephare-dev/docs/notebooks/data'.\n"
     ]
    },
    {
     "name": "stdout",
     "output_type": "stream",
     "text": [
      "Created directory: sed/QSO\n",
      "Checking/downloading 11 files...\n",
      "11 completed.\n",
      "All files downloaded successfully and are non-empty.\n"
     ]
    }
   ],
   "source": [
    "# Download the data files\n",
    "\n",
    "# The parameters here are already the default values in the function,\n",
    "# but we explictly define them for examples' sake\n",
    "base_url = lephare.data_retrieval.DEFAULT_BASE_DATA_URL\n",
    "registry_file = lephare.data_retrieval.DEFAULT_REGISTRY_FILE\n",
    "data_path = lephare.data_retrieval.DEFAULT_LOCAL_DATA_PATH\n",
    "\n",
    "retriever = lephare.data_retrieval.make_retriever(\n",
    "    base_url=base_url, registry_file=registry_file, data_path=data_path\n",
    ")\n",
    "\n",
    "lephare.data_retrieval.download_all_files(retriever, file_names, ignore_registry=False)"
   ]
  },
  {
   "cell_type": "code",
   "execution_count": 8,
   "id": "8ba1d5c5-09ea-48b8-b9f0-85019728466c",
   "metadata": {},
   "outputs": [
    {
     "data": {
      "text/plain": [
       "('https://raw.githubusercontent.com/OliviaLynn/LEPHARE-data/main/',\n",
       " 'data_registry.txt',\n",
       " './data')"
      ]
     },
     "execution_count": 8,
     "metadata": {},
     "output_type": "execute_result"
    }
   ],
   "source": [
    "base_url, registry_file, data_path"
   ]
  },
  {
   "cell_type": "code",
   "execution_count": 9,
   "id": "073037eb-40ab-4f79-ae88-3488fe46af59",
   "metadata": {},
   "outputs": [
    {
     "data": {
      "text/plain": [
       "('/Users/rshirley/Library/Caches/lephare/data',\n",
       " '/Users/rshirley/Library/Caches/lephare/work')"
      ]
     },
     "execution_count": 9,
     "metadata": {},
     "output_type": "execute_result"
    }
   ],
   "source": [
    "os.environ[\"LEPHAREDIR\"],os.environ[\"LEPHAREWORK\"]"
   ]
  },
  {
   "cell_type": "code",
   "execution_count": 11,
   "id": "fb792b02-ec35-4dbd-b7b5-b8ea74fdd721",
   "metadata": {},
   "outputs": [
    {
     "name": "stderr",
     "output_type": "stream",
     "text": [
      "Downloading file 'sed/QSO/MR_QSO1.sed' from 'https://raw.githubusercontent.com/OliviaLynn/LEPHARE-data/main/sed/QSO/MR_QSO1.sed' to '/Users/rshirley/Library/Caches/lephare/data'.\n"
     ]
    },
    {
     "name": "stdout",
     "output_type": "stream",
     "text": [
      "Checking/downloading 11 files...\n",
      "11 completed.\n",
      "All files downloaded successfully and are non-empty.\n"
     ]
    }
   ],
   "source": [
    "base_url = lephare.data_retrieval.DEFAULT_BASE_DATA_URL\n",
    "registry_file = lephare.data_retrieval.DEFAULT_REGISTRY_FILE\n",
    "data_path = os.environ[\"LEPHAREDIR\"]\n",
    "\n",
    "retriever = lephare.data_retrieval.make_retriever(\n",
    "    base_url=base_url, registry_file=registry_file, data_path=data_path\n",
    ")\n",
    "\n",
    "lephare.data_retrieval.download_all_files(retriever, file_names, ignore_registry=False)"
   ]
  },
  {
   "cell_type": "code",
   "execution_count": null,
   "id": "e06bf9c3-1f94-4204-a399-28e81faee00f",
   "metadata": {},
   "outputs": [],
   "source": []
  }
 ],
 "metadata": {
  "kernelspec": {
   "display_name": "lincc",
   "language": "python",
   "name": "lincc"
  },
  "language_info": {
   "codemirror_mode": {
    "name": "ipython",
    "version": 3
   },
   "file_extension": ".py",
   "mimetype": "text/x-python",
   "name": "python",
   "nbconvert_exporter": "python",
   "pygments_lexer": "ipython3",
   "version": "3.10.13"
  }
 },
 "nbformat": 4,
 "nbformat_minor": 5
}
