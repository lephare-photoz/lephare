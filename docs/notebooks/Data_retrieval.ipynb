{
 "cells": [
  {
   "cell_type": "markdown",
   "id": "694d217b-ec1a-42b7-b8e6-dde10c3490b1",
   "metadata": {},
   "source": [
    "# Data retrieval example\n",
    "\n",
    "In order to run lephare we must download some input data. \n",
    "\n",
    "In this short notebook we a simple example which uses pooch to check if the required files have already been downloaded and to download them if not."
   ]
  },
  {
   "cell_type": "code",
   "execution_count": null,
   "id": "571cf701-c5d0-44b6-b815-2e7bc038016d",
   "metadata": {
    "tags": []
   },
   "outputs": [],
   "source": [
    "import os\n",
    "import lephare"
   ]
  },
  {
   "cell_type": "code",
   "execution_count": null,
   "id": "396751cc-c68e-425f-8277-f7ba566a7f8a",
   "metadata": {
    "tags": []
   },
   "outputs": [],
   "source": [
    "# Helper function for use in this notebook\n",
    "\n",
    "\n",
    "def partial_print(print_list, number_lines):\n",
    "    print(f\"{len(print_list)} lines in list:\\n\")\n",
    "    if len(print_list) < 2 * number_lines:\n",
    "        for line in print_list:\n",
    "            print(line)\n",
    "    else:\n",
    "        for line in print_list[:number_lines]:\n",
    "            print(line)\n",
    "        print(\"...\")\n",
    "        for line in print_list[-number_lines:]:\n",
    "            print(line)"
   ]
  },
  {
   "cell_type": "markdown",
   "id": "3279e220",
   "metadata": {},
   "source": [
    "## Getting a list of file names to download\n",
    "\n",
    "There are a couple ways to do this:\n",
    "1. Using a list file, such as `QSO_MOD.list`\n",
    "2. Using a list of target subdirectories, such as `[\"sed/GAL/\", \"filt/lsst/\"]`\n",
    "\n",
    "_(If you don't know what subset of data you need, we have included methods\n",
    "    of downloading all of the data at once in the last section of this notebook.)_"
   ]
  },
  {
   "cell_type": "code",
   "execution_count": null,
   "id": "9e5124e7-1a30-473a-82da-3914dd1014b3",
   "metadata": {
    "tags": []
   },
   "outputs": [],
   "source": [
    "# Getting a list of file names from a list file\n",
    "# The list file can be a url or a path to a local list file\n",
    "\n",
    "list_file = \"https://raw.githubusercontent.com/OliviaLynn/LEPHARE-data/91006fcdf6a4b36932f1b5938e8d2084aca4a2e0/sed/QSO/QSO_MOD.list\"\n",
    "file_names = lephare.data_retrieval.read_list_file(list_file, prefix=\"\")\n",
    "\n",
    "partial_print(file_names, 3)"
   ]
  },
  {
   "cell_type": "code",
   "execution_count": null,
   "id": "85ab538b-7693-4358-ac36-5e0a42b6a383",
   "metadata": {},
   "outputs": [],
   "source": [
    "file_names[0]"
   ]
  },
  {
   "cell_type": "code",
   "execution_count": null,
   "id": "2769d438-03fc-44a1-882a-9d3554dab7b0",
   "metadata": {},
   "outputs": [],
   "source": [
    "# Or, alternatively, you can download files by subdirectory\n",
    "# Here, we specify our desired subdirectories and get a list of the files they contain\n",
    "\n",
    "# target_dirs = [\"sed/GAL/\", \"filt/lsst/\"]\n",
    "# file_names = lephare.data_retrieval.filter_files_by_prefix(registry_file, target_dirs)\n",
    "# partial_print(file_names, 4)"
   ]
  },
  {
   "cell_type": "markdown",
   "id": "583a5bf5",
   "metadata": {},
   "source": [
    "## Download the registry file\n",
    "This will default to the default registry location at the default base url,\n",
    "then output as the default registry file name, but these can be overridden\n",
    "with the url and outfile keywords."
   ]
  },
  {
   "cell_type": "code",
   "execution_count": null,
   "id": "044c490f-c022-43b2-b12e-4e256b7050f6",
   "metadata": {
    "tags": []
   },
   "outputs": [],
   "source": [
    "lephare.data_retrieval.download_registry_from_github()\n",
    "\n",
    "# Or specify:\n",
    "# lephare.data_retrieval.download_registry_from_github(url=\"my_url\", outfile=\"my_file\")"
   ]
  },
  {
   "cell_type": "markdown",
   "id": "adc3fbd2",
   "metadata": {},
   "source": [
    "## Download the data files"
   ]
  },
  {
   "cell_type": "code",
   "execution_count": null,
   "id": "f51d15c5-9d0b-480a-947f-8ba727f2f4a4",
   "metadata": {
    "tags": []
   },
   "outputs": [],
   "source": [
    "# The parameters here are already the function's default values,\n",
    "# but we explictly define them for examples' sake:\n",
    "base_url = lephare.data_retrieval.DEFAULT_BASE_DATA_URL\n",
    "registry_file = lephare.data_retrieval.DEFAULT_REGISTRY_FILE\n",
    "data_path = lephare.LEPHAREDIR\n",
    "\n",
    "retriever = lephare.data_retrieval.make_retriever(\n",
    "    base_url=base_url, registry_file=registry_file, data_path=data_path\n",
    ")\n",
    "\n",
    "lephare.data_retrieval.download_all_files(retriever, file_names)"
   ]
  },
  {
   "cell_type": "code",
   "execution_count": null,
   "id": "65ce83b2",
   "metadata": {},
   "outputs": [],
   "source": [
    "# If you run into problems with the registry, you can disable the requirement\n",
    "# by setting ignore_registry=True:\n",
    "\n",
    "# lephare.data_retrieval.download_all_files(retriever, file_names, ignore_registry=True)\n",
    "\n",
    "# (Note that this is not recommended, as pooch will be unable to verify whether\n",
    "# or not your local files are up-to-date, and each will be re-downloaded.)"
   ]
  },
  {
   "cell_type": "markdown",
   "id": "c228e762",
   "metadata": {},
   "source": [
    "## If you don't know what subset you need and want to get all the data at once"
   ]
  },
  {
   "cell_type": "code",
   "execution_count": null,
   "id": "99446731-e9c6-46a5-b7b3-63a683d37df8",
   "metadata": {},
   "outputs": [],
   "source": [
    "# Run get_auxiliary_data with no keymap set to clone the entire data repository\n",
    "# to the default local data directory:\n",
    "\n",
    "# data_retrieval.get_auxiliary_data()"
   ]
  },
  {
   "cell_type": "code",
   "execution_count": null,
   "id": "66042a05",
   "metadata": {},
   "outputs": [],
   "source": [
    "# Or, grab the zip file from OSF: https://osf.io/mvpks/files/osfstorage"
   ]
  },
  {
   "cell_type": "code",
   "execution_count": null,
   "id": "f2d481fc",
   "metadata": {},
   "outputs": [],
   "source": [
    "# Or, clone the data repo: https://github.com/lephare-photoz/lephare-data"
   ]
  }
 ],
 "metadata": {
  "kernelspec": {
   "display_name": "Python 3 (ipykernel)",
   "language": "python",
   "name": "python3"
  },
  "language_info": {
   "codemirror_mode": {
    "name": "ipython",
    "version": 3
   },
   "file_extension": ".py",
   "mimetype": "text/x-python",
   "name": "python",
   "nbconvert_exporter": "python",
   "pygments_lexer": "ipython3",
   "version": "3.10.13"
  }
 },
 "nbformat": 4,
 "nbformat_minor": 5
}
