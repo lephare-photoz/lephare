{
 "cells": [
  {
   "cell_type": "markdown",
   "id": "da7fc884-bc5d-4758-aede-087ac6cd18c3",
   "metadata": {},
   "source": [
    "# Typical use case for physical parameters\n",
    "\n",
    "This example notebook shows a run on the COSMOS2020 (Weaver et al. 2022) data set in order to estimate the physical parameters.\n",
    "\n",
    "In this notebook we follow what has been done for photo-z. We will be looking at the same COSMOS data set but only use the ugrizy bands. The main difference is the use of BC03 templates to compute physical parameters, and we set the redshift to its spectrosocpic value."
   ]
  },
  {
   "cell_type": "code",
   "execution_count": 12,
   "id": "37a53404-5eca-4634-8a76-24617cd42af7",
   "metadata": {},
   "outputs": [],
   "source": [
    "import lephare as lp\n",
    "from astropy.table import Table\n",
    "import numpy as np\n",
    "import os\n",
    "from matplotlib import pylab as plt\n",
    "import time\n",
    "\n",
    "%matplotlib inline"
   ]
  },
  {
   "cell_type": "markdown",
   "id": "25dd1907-2e49-45f2-b56b-3bdd220cb887",
   "metadata": {},
   "source": [
    "## Update the config\n",
    "We will start with the COSMOS configuration as a basis. We will update the various keywords needed for this example. We use the default which is shipped with lephare. You could also download the example text file config from [here](https://github.com/lephare-photoz/lephare-data/blob/main/examples/COSMOS.para) or write it completely from scratch."
   ]
  },
  {
   "cell_type": "code",
   "execution_count": 13,
   "id": "1f10ab2c-5d4c-42c6-bfab-340c7316ae5b",
   "metadata": {},
   "outputs": [],
   "source": [
    "config = lp.default_cosmos_config.copy()\n",
    "\n",
    "# You could also load this from a local text file:\n",
    "# !curl -s -o https://raw.githubusercontent.com/lephare-photoz/lephare-data/refs/heads/main/examples/COSMOS.para\n",
    "# config = lp.read_config(\"./COSMOS.para\")\n",
    "\n",
    "config.update(\n",
    "    {\n",
    "        # For a quick demonstration we use a very sparse redshift grid. DO NOT USE FOR SCIENCE!\n",
    "        # Comment out the following line to improve results.\n",
    "        \"Z_STEP\": \"0.1,0.,3.\",\n",
    "        # SED\n",
    "        # In order to get the physical parameters you need to use \n",
    "        # Composite Stellar Population synthesis models. Here Bruzual & Charlot (2003). \n",
    "        # This can be done only for galaxies. \n",
    "        \"GAL_SED\" : \"$LEPHAREDIR/sed/GAL/BC03_CHAB/BC03COMB_MOD.list\",\n",
    "        # Limit the number of ages\n",
    "        \"SEL_AGE\" : \"$LEPHAREDIR/sed/GAL/BC03_CHAB/AGE_BC03COMB.dat\",\n",
    "        \"MOD_EXTINC\" : \"0,12,0,12\",\n",
    "        \"EXTINC_LAW\" : \"SB_calzetti.dat,SMC_prevot.dat\",\n",
    "        \"EM_LINES\" : \"PHYS\",\n",
    "        \"EM_DISPERSION\" : \"1.\",\n",
    "        # FILTERS\n",
    "        # A reduced list of filters:\n",
    "        \"FILTER_LIST\": \"cosmos/u_new.pb,hsc/gHSC.pb,hsc/rHSC.pb,hsc/iHSC.pb,hsc/zHSC.pb,hsc/yHSC.pb\",\n",
    "        \"FILTER_CALIB\": \"0\",\n",
    "        \"FILTER_FILE\": \"filter_test\",\n",
    "        # FIT\n",
    "        # We set the redshift to the spec-z value\n",
    "        \"ZFIX\":\"YES\",\n",
    "        \"ERR_SCALE\": \"0.02\",\n",
    "        \"ERR_FACTOR\": \"1.5\",\n",
    "        \"SPEC_OUT\": \"NO\",  # We would like to see the output\n",
    "    }\n",
    ")"
   ]
  },
  {
   "cell_type": "markdown",
   "id": "b1c8ca77-639f-41e3-9b40-2ac27ef26722",
   "metadata": {},
   "source": [
    "## Download the missing data\n",
    "One does not need to use this functionality if already cloned the full auxiliary data.\n",
    "\n"
   ]
  },
  {
   "cell_type": "code",
   "execution_count": 14,
   "id": "5e666b41-e71e-4174-b939-17ca828e3197",
   "metadata": {},
   "outputs": [
    {
     "name": "stdout",
     "output_type": "stream",
     "text": [
      "Registry file downloaded and saved as data_registry.txt.\n"
     ]
    },
    {
     "name": "stderr",
     "output_type": "stream",
     "text": [
      "Updating file 'alloutputkeys.txt' from 'https://raw.githubusercontent.com/lephare-photoz/lephare-data/main/alloutputkeys.txt' to '/data1/LEPHARE_GITHUB/lephare-data'.\n"
     ]
    },
    {
     "name": "stdout",
     "output_type": "stream",
     "text": [
      "Checking/downloading 384 files...\n",
      "384 completed.\n",
      "All files downloaded successfully and are non-empty.\n",
      "Checking/downloading 3 files...\n",
      "3 completed.\n",
      "All files downloaded successfully and are non-empty.\n"
     ]
    }
   ],
   "source": [
    "lp.data_retrieval.get_auxiliary_data(\n",
    "    keymap=config,\n",
    "    # The additional extinction laws for galaxies are not in the principle config\n",
    "    # so we must add them to be downloaded:\n",
    "    additional_files=[\n",
    "        # We also want the example cosmos catalogue to experiment with\n",
    "        \"examples/COSMOS.in\",\n",
    "        \"ext/SMC_prevot.dat\",\n",
    "        \"ext/SB_calzetti.dat\",\n",
    "    ],\n",
    ")"
   ]
  },
  {
   "cell_type": "markdown",
   "id": "681eb30e-c277-4fde-a1c6-4579a8d0ca1b",
   "metadata": {},
   "source": [
    "## Run prepare\n",
    "\n",
    "These are the key preparatory stages that calculate the filters in the LePHARE format, calculate the library of SEDs and finally calculate the library of magnitudes for all the models. The prepare method runs *filter*, *sedtolib*, and *mag_gal* that would be run independently at the command line. These are all explained in detail in the [documentation](https://lephare.readthedocs.io/en/latest/original.html#detailed-lephare-user-manual)."
   ]
  },
  {
   "cell_type": "code",
   "execution_count": 4,
   "id": "b20daf8d-8881-4dc5-a338-9f86121ec2be",
   "metadata": {},
   "outputs": [
    {
     "name": "stdout",
     "output_type": "stream",
     "text": [
      "# NAME                        IDENT      Lbda_mean Lbeff(Vega)       FWHM     AB-cor    TG-cor      VEGA M_sun(AB)   CALIB      Lb_eff    Fac_corr\n",
      "u_new.pb                      1             0.3690      0.3750      0.0456    0.6195   -0.2745  -20.8527    6.3135       0      0.3668      1.0000\n",
      "gHSC.pb                       2             0.4851      0.4760      0.1194   -0.0860   -0.2458  -20.7272    5.0764       0      0.4780      1.0000\n",
      "rHSC.pb                       3             0.6241      0.6142      0.1539    0.1466    0.2580  -21.5143    4.6523       0      0.6178      1.0000\n",
      "iHSC.pb                       4             0.7716      0.7637      0.1476    0.3942    0.6138  -22.2286    4.5323       0      0.7666      1.0000\n",
      "zHSC.pb                       5             0.8915      0.8907      0.0768    0.5169    0.7625  -22.6733    4.5147       0      0.8903      1.0000\n",
      "yHSC.pb                       6             0.9801      0.9771      0.0797    0.5534    0.7763  -22.9145    4.5081       0      0.9782      1.0000\n",
      "LISTEEEEE AVANT  /data1/LEPHARE_GITHUB/lephare-data//sed/STAR/STAR_MOD_ALL.list 36\n",
      "Why  /data1/LEPHARE_GITHUB/lephare-data/\n",
      "LISTEEEEE  /data1/LEPHARE_GITHUB/lephare-data//sed/STAR/STAR_MOD_ALL.list\n",
      "{'star_sed': '/data1/LEPHARE_GITHUB/lephare-data//sed/STAR/STAR_MOD_ALL.list'}\n",
      "#######################################\n",
      "# It s translating SEDs to binary library #\n",
      "# with the following options :           \n",
      "# Config file     : \n",
      "# Library type     : STAR\n",
      "# STAR_SED    :/data1/LEPHARE_GITHUB/lephare-data//sed/STAR/STAR_MOD_ALL.list\n",
      "# STAR_LIB    :LIB_STAR\n",
      "# STAR_LIB doc:WORK/lib_bin/LIB_STAR.doc\n",
      "# STAR_FSCALE :0.0000\n",
      "#######################################\n",
      "Number of SED in the list 254\n",
      "#######################################\n",
      "# It s computing the SYNTHETIC MAGNITUDES #\n",
      "# For Gal/QSO libraries with these OPTIONS #\n",
      "# with the following options :           \n",
      "# Config file     : \n",
      "# Filter file     : filter_test\n",
      "# Magnitude type     : AB\n",
      "# COSMOLOGY   :70.0000,0.3000,0.7000\n",
      "# STAR_LIB_IN    :WORK/lib_bin/LIB_STAR(.doc & .bin)\n",
      "# STAR_LIB_OUT   :WORK/lib_mag/STAR_COSMOS(.doc & .bin)\n",
      "# LIB_ASCII   NO\n",
      "# CREATION_DATE Fri Dec 20 17:03:40 2024\n",
      "#############################################\n",
      "LISTEEEEE AVANT  /data1/LEPHARE_GITHUB/lephare-data//sed/GAL/BC03_CHAB/BC03COMB_MOD.list 36\n",
      "Why  /data1/LEPHARE_GITHUB/lephare-data/\n",
      "LISTEEEEE  /data1/LEPHARE_GITHUB/lephare-data//sed/GAL/BC03_CHAB/BC03COMB_MOD.list\n",
      "{'gal_sed': '/data1/LEPHARE_GITHUB/lephare-data//sed/GAL/BC03_CHAB/BC03COMB_MOD.list'}\n",
      "#######################################\n",
      "# It s translating SEDs to binary library #\n",
      "# with the following options :           \n",
      "# Config file     : \n",
      "# Library type     : GAL\n",
      "# GAL_SED    :/data1/LEPHARE_GITHUB/lephare-data//sed/GAL/BC03_CHAB/BC03COMB_MOD.list\n",
      "# GAL_LIB    :LIB_CE\n",
      "# GAL_LIB doc:WORK/lib_bin/LIB_CE.doc\n",
      "# GAL_LIB phys:WORK/lib_bin/LIB_CE.phys\n",
      "# SEL_AGE    :/data1/LEPHARE_GITHUB/lephare-data//sed/GAL/BC03_CHAB/AGE_BC03COMB.dat\n",
      "# GAL_FSCALE :1.0000\n",
      "# AGE_RANGE   0.0000 15000000000.0000\n",
      "#######################################\n",
      "Number of SED in the list 12\n",
      "#######################################\n",
      "# It s computing the SYNTHETIC MAGNITUDES #\n",
      "# For Gal/QSO libraries with these OPTIONS #\n",
      "# with the following options :           \n",
      "# Config file     : \n",
      "# Filter file     : filter_test\n",
      "# Magnitude type     : AB\n",
      "# GAL_LIB_IN    :WORK/lib_bin/LIB_CE(.doc & .bin)\n",
      "# GAL_LIB_OUT   :WORK/lib_mag/CE_COSMOS(.doc & .bin)\n",
      "# ZGRID_TYPE   :0\n",
      "# Z_STEP   :0.1000 0.0000 3.0000\n",
      "# COSMOLOGY   :70.0000,0.3000,0.7000\n",
      "# EXTINC_LAW   :SB_calzetti.dat SMC_prevot.dat \n",
      "# MOD_EXTINC   :0 12 0 12 \n",
      "# EB_V   :0.0000 0.0500 0.1000 0.1500 0.2000 0.2500 0.3000 0.3500 0.4000 0.5000 \n",
      "# EM_LINES   PHYS\n",
      "# EM_DISPERSION   1.0000,\n",
      "# LIB_ASCII   NO\n",
      "# CREATION_DATE Fri Dec 20 17:03:43 2024\n",
      "#############################################\n",
      "LISTEEEEE AVANT  /data1/LEPHARE_GITHUB/lephare-data//sed/QSO/SALVATO09/AGN_MOD.list 36\n",
      "Why  /data1/LEPHARE_GITHUB/lephare-data/\n",
      "LISTEEEEE  /data1/LEPHARE_GITHUB/lephare-data//sed/QSO/SALVATO09/AGN_MOD.list\n",
      "{'qso_sed': '/data1/LEPHARE_GITHUB/lephare-data//sed/QSO/SALVATO09/AGN_MOD.list'}\n",
      "#######################################\n",
      "# It s translating SEDs to binary library #\n",
      "# with the following options :           \n",
      "# Config file     : \n",
      "# Library type     : QSO\n",
      "# QSO_SED    :/data1/LEPHARE_GITHUB/lephare-data//sed/QSO/SALVATO09/AGN_MOD.list\n",
      "# QSO_LIB    :LIB_QSO\n",
      "# QSO_LIB doc:WORK/lib_bin/LIB_QSO.doc\n",
      "# QSO_FSCALE :1.0000\n",
      "#######################################\n",
      "Number of SED in the list 14\n",
      "#######################################\n",
      "# It s computing the SYNTHETIC MAGNITUDES #\n",
      "# For Gal/QSO libraries with these OPTIONS #\n",
      "# with the following options :           \n",
      "# Config file     : \n",
      "# Filter file     : filter_test\n",
      "# Magnitude type     : AB\n",
      "# QSO_LIB_IN    :WORK/lib_bin/LIB_QSO(.doc & .bin)\n",
      "# QSO_LIB_OUT   :WORK/lib_mag/QSO_COSMOS(.doc & .bin)\n",
      "# ZGRID_TYPE   :0\n",
      "# Z_STEP   :0.1000 0.0000 3.0000\n",
      "# COSMOLOGY   :70.0000,0.3000,0.7000\n",
      "# EXTINC_LAW   :SB_calzetti.dat SMC_prevot.dat \n",
      "# MOD_EXTINC   :0 12 0 0 \n",
      "# EB_V   :0.0000 0.0500 0.1000 0.1500 0.2000 0.2500 0.3000 0.3500 0.4000 0.5000 # LIB_ASCII   NO\n",
      "# CREATION_DATE Fri Dec 20 17:04:26 2024\n",
      "#############################################\n"
     ]
    }
   ],
   "source": [
    "lp.prepare(\n",
    "    config,\n",
    ")"
   ]
  },
  {
   "cell_type": "markdown",
   "id": "7f91e803-33ce-4ba4-837f-9a6c52625f68",
   "metadata": {},
   "source": [
    "### Creating the input table\n",
    "\n",
    "We need to make an astropy table as input. This can be done using the standard column order:\n",
    "id, flux0, err0, flux1, err1,..., context, zspec, arbitrary_string. A simple example table with two filters might look like this:\n",
    "|  id | flux_filt1  |  fluxerr_filt1 |  flux_filt2  |  fluxerr_filt2 | context | zspec | string_data |\n",
    "|---|---|---|---|---|---|---|---|\n",
    "|  0 | 1.e-31  | 1.e-32  | 1.e-31  | 2.e-32  | 3 | NaN | \"This is just a note\" |\n",
    "|  1 | 2.e-31  |  1.e-32 | 1.e-31  | 2.e-32  |3 | 1. | \"This has a specz\" |\n",
    "|  2 | 2.e-31 | 1.e-32  | 2.e-31  | 2.e-32  | 2 | NaN| \"This context only uses the second filter\" |\n",
    "\n",
    "The context detemermines which bands are used but can be -99 or a numpy.nan. We do not need to have units on the flux columns but LePHARE assumes they are in erg /s /cm**2 / Hz if we are using fluxes. The number of columns must be two times the number of filters plus the four additional columns.\n",
    "\n",
    "This input table **must use** the standard column ordering to determine column meaning. This odering depends on the filter order in the config FILTER_LIST value. "
   ]
  },
  {
   "cell_type": "code",
   "execution_count": 5,
   "id": "c43e9307-4dc7-4b26-bb8b-5126f29874f7",
   "metadata": {},
   "outputs": [],
   "source": [
    "# Load the full cosmos example we downloaded at the start\n",
    "cosmos_full = Table.read(f\"{lp.LEPHAREDIR}/examples/COSMOS.in\", format=\"ascii\")\n",
    "# Lets just look at the first 1000 specz between 0 and 3 to be fast and have a small sample to test\n",
    "specz_colname = cosmos_full.colnames[-2]\n",
    "mask = cosmos_full[specz_colname] > 0\n",
    "mask &= cosmos_full[specz_colname] < 3\n",
    "cosmos_full = cosmos_full[mask][:1000]"
   ]
  },
  {
   "cell_type": "code",
   "execution_count": 6,
   "id": "391d66ef-1108-47d7-8ca0-15c1eab04065",
   "metadata": {},
   "outputs": [],
   "source": [
    "input_table = Table()\n",
    "# The id is in the first column\n",
    "input_table[\"id\"] = cosmos_full[cosmos_full.colnames[0]]\n",
    "# Loop over the filters we want to keep to get the number of the filter, n, and the name, b,\n",
    "filter_names = config[\"FILTER_LIST\"].split(\",\")\n",
    "for n, filter_name in enumerate(filter_names):\n",
    "    # The ugrizy fluxes and errors are in cols 3 to 14\n",
    "    f_col = cosmos_full.colnames[2 * n + 3]\n",
    "    ferr_col = cosmos_full.colnames[2 * n + 4]\n",
    "    # By default lephare uses column order so names are irrelevant\n",
    "    input_table[f\"f_{filter_name}\"] = cosmos_full[f_col]\n",
    "    input_table[f\"ferr_{filter_name}\"] = cosmos_full[ferr_col]\n",
    "# The context is a binary flag. Here we set it to use all filters.\n",
    "input_table[\"context\"] = np.sum(2 ** np.arange(len(filter_names)))\n",
    "input_table[\"zspec\"] = cosmos_full[specz_colname]\n",
    "input_table[\"string_data\"] = \"arbitrary_info\""
   ]
  },
  {
   "cell_type": "code",
   "execution_count": 7,
   "id": "13754ace-2852-4073-a36b-62609645759b",
   "metadata": {},
   "outputs": [
    {
     "data": {
      "text/html": [
       "<div><i>Table length=5</i>\n",
       "<table id=\"table140599161873520\" class=\"table-striped table-bordered table-condensed\">\n",
       "<thead><tr><th>id</th><th>f_cosmos/u_new.pb</th><th>ferr_cosmos/u_new.pb</th><th>f_hsc/gHSC.pb</th><th>ferr_hsc/gHSC.pb</th><th>f_hsc/rHSC.pb</th><th>ferr_hsc/rHSC.pb</th><th>f_hsc/iHSC.pb</th><th>ferr_hsc/iHSC.pb</th><th>f_hsc/zHSC.pb</th><th>ferr_hsc/zHSC.pb</th><th>f_hsc/yHSC.pb</th><th>ferr_hsc/yHSC.pb</th><th>context</th><th>zspec</th><th>string_data</th></tr></thead>\n",
       "<thead><tr><th>int64</th><th>float64</th><th>float64</th><th>float64</th><th>float64</th><th>float64</th><th>float64</th><th>float64</th><th>float64</th><th>float64</th><th>float64</th><th>float64</th><th>float64</th><th>int64</th><th>float64</th><th>str14</th></tr></thead>\n",
       "<tr><td>2</td><td>4.232901366689564e-30</td><td>3.4341315142888603e-31</td><td>6.179738935719169e-30</td><td>1.386731273412228e-31</td><td>1.2142639224559102e-29</td><td>1.8245325069819158e-31</td><td>2.1114793014441938e-29</td><td>2.1601688228846318e-31</td><td>3.9365460376947166e-29</td><td>3.4133974396324463e-31</td><td>5.0357913173859444e-29</td><td>5.203234525553232e-31</td><td>63</td><td>1.166</td><td>arbitrary_info</td></tr>\n",
       "<tr><td>3</td><td>1.8604787800453155e-28</td><td>3.6102558328725637e-31</td><td>1.0163707206619843e-27</td><td>2.5508479438832455e-30</td><td>2.5637553789165174e-27</td><td>3.907537695918684e-30</td><td>3.852181904261173e-27</td><td>4.270412613938428e-30</td><td>5.051842896248005e-27</td><td>5.651717781917373e-30</td><td>5.820737300549565e-27</td><td>6.786202238144557e-30</td><td>63</td><td>0.1649</td><td>arbitrary_info</td></tr>\n",
       "<tr><td>6</td><td>3.883122772291653e-30</td><td>9.595010842153324e-32</td><td>4.647041003941889e-30</td><td>1.087246463423006e-31</td><td>4.8469179256155955e-30</td><td>1.178374194432367e-31</td><td>6.118486088007425e-30</td><td>1.2683990766417867e-31</td><td>9.150015677196151e-30</td><td>1.9130763838587345e-31</td><td>1.0166486142973662e-29</td><td>3.495575779500692e-31</td><td>63</td><td>1.25</td><td>arbitrary_info</td></tr>\n",
       "<tr><td>9</td><td>2.8521064572984233e-30</td><td>1.897459353660885e-31</td><td>7.283799341197919e-30</td><td>1.7286878697910101e-31</td><td>2.3956967578910942e-29</td><td>2.8232988053219177e-31</td><td>5.597814087271151e-29</td><td>3.7781712042067346e-31</td><td>8.467793964385691e-29</td><td>5.472733062400153e-31</td><td>1.0885331971552352e-28</td><td>7.893832949105172e-31</td><td>63</td><td>0.6233</td><td>arbitrary_info</td></tr>\n",
       "<tr><td>10</td><td>4.0113693940454606e-30</td><td>1.4061914648406559e-31</td><td>5.3481882134164066e-30</td><td>1.4193075132576959e-31</td><td>6.221652738450281e-30</td><td>1.5878330837093787e-31</td><td>7.330388037942477e-30</td><td>1.735529599561101e-31</td><td>1.1108868491203026e-29</td><td>2.6930229981999465e-31</td><td>1.5213763225065445e-29</td><td>5.031524893553477e-31</td><td>63</td><td>1.4005</td><td>arbitrary_info</td></tr>\n",
       "</table></div>"
      ],
      "text/plain": [
       "<Table length=5>\n",
       "  id    f_cosmos/u_new.pb     ferr_cosmos/u_new.pb  ...  zspec   string_data  \n",
       "int64        float64                float64         ... float64     str14     \n",
       "----- ---------------------- ---------------------- ... ------- --------------\n",
       "    2  4.232901366689564e-30 3.4341315142888603e-31 ...   1.166 arbitrary_info\n",
       "    3 1.8604787800453155e-28 3.6102558328725637e-31 ...  0.1649 arbitrary_info\n",
       "    6  3.883122772291653e-30  9.595010842153324e-32 ...    1.25 arbitrary_info\n",
       "    9 2.8521064572984233e-30  1.897459353660885e-31 ...  0.6233 arbitrary_info\n",
       "   10 4.0113693940454606e-30 1.4061914648406559e-31 ...  1.4005 arbitrary_info"
      ]
     },
     "execution_count": 7,
     "metadata": {},
     "output_type": "execute_result"
    }
   ],
   "source": [
    "# Look at the first 5 lines of the input table\n",
    "input_table[:5]"
   ]
  },
  {
   "cell_type": "markdown",
   "id": "d80599b6-529e-4565-be0e-2dc51445c54c",
   "metadata": {},
   "source": [
    "## Run process\n",
    "\n",
    "Finally we run the main fitting process which is equivalent to *zphota* when using the command line. We also need to update some of the config values to make them consistent with the number of filters."
   ]
  },
  {
   "cell_type": "code",
   "execution_count": 8,
   "id": "3ca129de-1bc1-479f-b1c7-d0b0a3e041a0",
   "metadata": {},
   "outputs": [
    {
     "name": "stdout",
     "output_type": "stream",
     "text": [
      "Using user columns from input table assuming they are in the standard order.\n",
      "Processing 1000 objects with 6 bands\n",
      "####################################### \n",
      "# PHOTOMETRIC REDSHIFT with OPTIONS   # \n",
      "# Config file            : \n",
      "# CAT_IN                 : change_me_to_output_filename_required.ascii\n",
      "# CAT_OUT                : zphot.out\n",
      "# CAT_LINES              : 0 1000000000\n",
      "# PARA_OUT               : /data1/LEPHARE_GITHUB/lephare-data//examples/output.para\n",
      "# INP_TYPE               : F\n",
      "# CAT_FMT[0:MEME 1:MMEE] : 0\n",
      "# CAT_MAG                : AB\n",
      "# ZPHOTLIB               : CE_COSMOS STAR_COSMOS QSO_COSMOS \n",
      "# FIR_LIB                : \n",
      "# FIR_LMIN               : 7.000000\n",
      "# FIR_CONT               : -1.000000\n",
      "# FIR_SCALE              : -1.000000\n",
      "# FIR_FREESCALE          : YES\n",
      "# FIR_SUBSTELLAR         : NO\n",
      "# ERR_SCALE              : 0.020000 \n",
      "# ERR_FACTOR             : 1.500000 \n",
      "# GLB_CONTEXT            : 0\n",
      "# FORB_CONTEXT           : -1\n",
      "# DZ_WIN                 : 1.000000\n",
      "# MIN_THRES              : 0.020000\n",
      "# MAG_ABS                : -24.000000 -5.000000\n",
      "# MAG_ABS_AGN            : -30.000000 -10.000000\n",
      "# MAG_REF                : 3\n",
      "# NZ_PRIOR               : -1 -2\n",
      "# Z_INTERP               : YES\n",
      "# Z_METHOD               : BEST\n",
      "# PROB_INTZ              : 0.000000 \n",
      "# MABS_METHOD            : 1\n",
      "# MABS_CONTEXT           : 33556478 \n",
      "# MABS_REF               : 11 \n",
      "# AUTO_ADAPT             : NO\n",
      "# ADAPT_BAND             : 5\n",
      "# ADAPT_LIM              : 1.500000 23.000000\n",
      "# ADAPT_ZBIN             : 0.010000 6.000000\n",
      "# ZFIX                   : YES\n",
      "# SPEC_OUT               : NO\n",
      "# CHI_OUT                : NO\n",
      "# PDZ_OUT                : test\n",
      "####################################### \n",
      "Reading input librairies ...\n",
      "Read lib \n",
      "Number of keywords to be read in the doc: 14\n",
      "Number of keywords read at the command line (excluding -c config): 0\n",
      "Reading keywords from WORK/lib_mag/QSO_COSMOS.doc\n",
      "Number of keywords read in the config file: 17\n",
      "Keyword NUMBER_ROWS not provided \n",
      "Keyword NUMBER_SED not provided \n",
      "Keyword Z_FORM not provided \n",
      "Reading library: WORK/lib_mag/QSO_COSMOS.bin\n",
      " Done with the library reading with 7130 SED read. \n",
      "Number of keywords to be read in the doc: 14\n",
      "Number of keywords read at the command line (excluding -c config): 0\n",
      "Reading keywords from WORK/lib_mag/STAR_COSMOS.doc\n",
      "Number of keywords read in the config file: 17\n",
      "Keyword NUMBER_ROWS not provided \n",
      "Keyword NUMBER_SED not provided \n",
      "Keyword Z_FORM not provided \n",
      "Reading library: WORK/lib_mag/STAR_COSMOS.bin\n",
      " Done with the library reading with 7384 SED read. \n",
      "Number of keywords to be read in the doc: 14\n",
      "Number of keywords read at the command line (excluding -c config): 0\n",
      "Reading keywords from WORK/lib_mag/CE_COSMOS.doc\n",
      "Number of keywords read in the config file: 17\n",
      "Keyword NUMBER_ROWS not provided \n",
      "Keyword NUMBER_SED not provided \n",
      "Keyword Z_FORM not provided \n",
      "Reading library: WORK/lib_mag/CE_COSMOS.bin\n",
      " Done with the library reading with 223300 SED read. \n",
      "Read lib out \n",
      "Read filt \n",
      "# NAME                        IDENT      Lbda_mean Lbeff(Vega)       FWHM     AB-cor      VEGA   CALIB    Fac_corr\n",
      "u_new.pb                      1           AUTO_ADAPT set to NO and no user supplied offsets. Using zero offsets.\n",
      "  0.3690      0.3750      0.0456    0.6195  -20.8500       0      1.0000\n",
      "gHSC.pb                       2             0.4851      0.4760      0.1194   -0.0860  -20.7300       0      1.0000\n",
      "rHSC.pb                       3             0.6241      0.6142      0.1539    0.1466  -21.5100       0      1.0000\n",
      "iHSC.pb                       4             0.7716      0.7637      0.1476    0.3942  -22.2300       0      1.0000\n",
      "zHSC.pb                       5             0.8915      0.8907      0.0768    0.5169  -22.6700       0      1.0000\n",
      "yHSC.pb                       6             0.9801      0.9771      0.0797    0.5534  -22.9100       0      1.0000\n",
      "WARNING: No scaling --> No z 242\n",
      "WARNING: No scaling --> No z 243\n",
      "WARNING: No scaling --> No z 244\n",
      "WARNING: No scaling --> No z 248\n",
      "WARNING: No scaling --> No z 343\n",
      "WARNING: No scaling --> No z 372\n",
      "WARNING: No scaling --> No z 392\n",
      "WARNING: No scaling --> No z 242\n",
      "WARNING: No scaling --> No z 243\n",
      "WARNING: No scaling --> No z 244\n",
      "WARNING: No scaling --> No z 248\n",
      "WARNING: No scaling --> No z 343\n",
      "WARNING: No scaling --> No z 372\n",
      "WARNING: No scaling --> No z 392\n"
     ]
    },
    {
     "name": "stderr",
     "output_type": "stream",
     "text": [
      "/data1/LEPHARE_GITHUB/lephare/src/lephare/_photoz.py:34: UserWarning: Input line 35 contained no data and will not be counted towards `max_rows=50000`.  This differs from the behaviour in NumPy <=1.22 which counted lines rather than rows.  If desired, the previous behaviour can be achieved by using `itertools.islice`.\n",
      "Please see the 1.23 release notes for an example on how to do this.  If you wish to ignore this warning, use `warnings.filterwarnings`.  This warning is expected to be removed in the future and is given only once per `loadtxt` call.\n",
      "  d = np.loadtxt(os.path.join(os.environ[\"LEPHAREDIR\"], \"alloutputkeys.txt\"), dtype=\"str\")\n"
     ]
    }
   ],
   "source": [
    "# Compute physical parameters\n",
    "output, _ = lp.process(config, input_table)"
   ]
  },
  {
   "cell_type": "code",
   "execution_count": 9,
   "id": "495ca7bf-b03e-4102-8381-5185772cf2f5",
   "metadata": {},
   "outputs": [
    {
     "data": {
      "text/html": [
       "<div><i>Table length=5</i>\n",
       "<table id=\"table140599161777728\" class=\"table-striped table-bordered table-condensed\">\n",
       "<thead><tr><th>IDENT</th><th>Z_BEST</th><th>Z_BEST68_LOW</th><th>Z_BEST68_HIGH</th><th>Z_MED</th><th>Z_MED68_LOW</th><th>Z_MED68_HIGH</th><th>CHI_BEST</th><th>MOD_BEST</th><th>EXTLAW_BEST</th><th>EBV_BEST</th><th>Z_SEC</th><th>CHI_SEC</th><th>MOD_SEC</th><th>EBV_SEC</th><th>ZQ_BEST</th><th>CHI_QSO</th><th>MOD_QSO</th><th>MOD_STAR</th><th>CHI_STAR</th><th>MAG_OBS()</th><th>ERR_MAG_OBS()</th><th>K_COR()</th><th>MAG_ABS()</th><th>EMAG_ABS()</th><th>MABS_FILT()</th><th>SCALE_BEST</th><th>NBAND_USED</th><th>CONTEXT</th><th>ZSPEC</th><th>AGE_BEST</th><th>AGE_INF</th><th>AGE_MED</th><th>AGE_SUP</th><th>LDUST_BEST</th><th>LDUST_INF</th><th>LDUST_MED</th><th>LDUST_SUP</th><th>LUM_TIR_BEST</th><th>LUM_TIR_INF</th><th>LUM_TIR_MED</th><th>LUM_TIR_SUP</th><th>MASS_BEST</th><th>MASS_INF</th><th>MASS_MED</th><th>MASS_SUP</th><th>SFR_BEST</th><th>SFR_INF</th><th>SFR_MED</th><th>SFR_SUP</th><th>SSFR_BEST</th><th>SSFR_INF</th><th>SSFR_MED</th><th>SSFR_SUP</th><th>COL1_INF</th><th>COL1_MED</th><th>COL1_SUP</th><th>COL2_INF</th><th>COL2_MED</th><th>COL2_SUP</th><th>LUM_NUV_BEST</th><th>LUM_R_BEST</th><th>LUM_K_BEST</th><th>MAG_PRED()</th><th>STRING_INPUT</th><th>BAY_ZG</th></tr></thead>\n",
       "<thead><tr><th>str3</th><th>float64</th><th>float64</th><th>float64</th><th>float64</th><th>float64</th><th>float64</th><th>float64</th><th>int64</th><th>float64</th><th>float64</th><th>float64</th><th>float64</th><th>int64</th><th>float64</th><th>float64</th><th>float64</th><th>int64</th><th>int64</th><th>float64</th><th>float64[6]</th><th>float64[6]</th><th>float64[6]</th><th>float64[6]</th><th>float64[6]</th><th>float64[6]</th><th>float64</th><th>int64</th><th>int64</th><th>float64</th><th>float64</th><th>float64</th><th>float64</th><th>float64</th><th>float64</th><th>float64</th><th>float64</th><th>float64</th><th>float64</th><th>float64</th><th>float64</th><th>float64</th><th>float64</th><th>float64</th><th>float64</th><th>float64</th><th>float64</th><th>float64</th><th>float64</th><th>float64</th><th>float64</th><th>float64</th><th>float64</th><th>float64</th><th>float64</th><th>float64</th><th>float64</th><th>float64</th><th>float64</th><th>float64</th><th>float64</th><th>float64</th><th>float64</th><th>float64[0]</th><th>str1</th><th>float64[31]</th></tr></thead>\n",
       "<tr><td>0</td><td>1.166</td><td>0.0</td><td>3.0</td><td>1.2000000000000002</td><td>1.1319999992847445</td><td>1.2680000007152559</td><td>7.353547030322183</td><td>7</td><td>2.0</td><td>0.3</td><td>-99.9</td><td>-99.0</td><td>-99</td><td>-99.0</td><td>1.166</td><td>6.672257421014208</td><td>7</td><td>-99</td><td>1000000000.0</td><td>24.83340462789454 .. 22.14483068826189</td><td>0.1355221450661712 .. 0.03439919376856379</td><td>1.4027514359493192 .. 0.22746431903521272</td><td>-20.76039123476376 .. -22.595422660630916</td><td>0.35799910340307406 .. 3.217256181124121</td><td>3.0 .. 5.0</td><td>508394575538.1546</td><td>6</td><td>0</td><td>1.166</td><td>9.477121254719663</td><td>9.070826931809764</td><td>9.340808033918837</td><td>9.585138349049188</td><td>11.262688906793807</td><td>11.263775914659584</td><td>11.31921324390277</td><td>11.430530743344463</td><td>-999.0</td><td>-99.9</td><td>-99.9</td><td>-99.9</td><td>10.458906909307618</td><td>10.305498041588109</td><td>10.460449856228049</td><td>10.617354682294922</td><td>1.1856501725118802</td><td>1.1460700391298684</td><td>1.254851965731712</td><td>1.4173108543425348</td><td>1.1856501725118802</td><td>-9.386450745969796</td><td>-9.182778986875206</td><td>-8.908110590004203</td><td>-99.9</td><td>-99.9</td><td>-99.9</td><td>-99.9</td><td>-99.9</td><td>-99.9</td><td>10.098781878596972</td><td>10.079056546113724</td><td>9.26246804596414</td><td></td><td></td><td>0.0 .. 0.0</td></tr>\n",
       "<tr><td>1</td><td>0.1649</td><td>0.0</td><td>3.0</td><td>0.2</td><td>0.13199999928474426</td><td>0.26800000071525576</td><td>1.127109729785316</td><td>1</td><td>1.0</td><td>0.35</td><td>-99.9</td><td>-99.0</td><td>-99</td><td>-99.0</td><td>0.1649</td><td>62.80205816122945</td><td>3</td><td>-99</td><td>1000000000.0</td><td>20.725938197553823 .. 16.98755500174321</td><td>0.03016607985901451 .. 0.030060055672664364</td><td>0.8065954644069318 .. 0.11396514031072706</td><td>-19.553034052624728 .. -22.618055215012145</td><td>1.2252872539779265 .. 0.9043228285283575</td><td>1.0 .. 5.0</td><td>62291433485.13771</td><td>6</td><td>0</td><td>0.1649</td><td>8.85654824429995</td><td>8.814715058852782</td><td>8.882787049787268</td><td>9.002480837126864</td><td>10.946517075165014</td><td>11.108956976568155</td><td>11.162439684103527</td><td>11.238848432982804</td><td>-999.0</td><td>-99.9</td><td>-99.9</td><td>-99.9</td><td>10.597128578764885</td><td>10.739540782287092</td><td>10.781647330152634</td><td>10.82537362398034</td><td>-0.3268503478547725</td><td>-1.4055377938750317</td><td>-0.1761292779683207</td><td>-0.00037526675499195694</td><td>-0.3268503478547725</td><td>-12.205537469043191</td><td>-10.976131415901882</td><td>-10.800382201257246</td><td>-99.9</td><td>-99.9</td><td>-99.9</td><td>-99.9</td><td>-99.9</td><td>-99.9</td><td>9.42570394618821</td><td>10.187058622417833</td><td>9.425068101607351</td><td></td><td></td><td>0.0 .. 0.0</td></tr>\n",
       "<tr><td>2</td><td>1.25</td><td>0.0</td><td>3.0</td><td>1.2000000000000002</td><td>1.1319999992847445</td><td>1.2680000007152559</td><td>0.8753132980664218</td><td>11</td><td>1.0</td><td>0.15</td><td>-99.9</td><td>-99.0</td><td>-99</td><td>-99.0</td><td>1.25</td><td>25.91018645939123</td><td>13</td><td>-99</td><td>1000000000.0</td><td>24.92704719548275 .. 23.882072817400996</td><td>0.05020167671229883 .. 0.06353871767418252</td><td>-0.16111586808040457 .. -0.21214526248971308</td><td>-19.57709975782467 .. -20.605487428788244</td><td>0.3375439166770793 .. 3.6044856532246143</td><td>4.0 .. 5.0</td><td>13803624804.673458</td><td>6</td><td>0</td><td>1.25</td><td>8.85654824429995</td><td>8.536017876504694</td><td>8.803608585052846</td><td>9.107455083407531</td><td>10.581529249478102</td><td>10.213565216857885</td><td>10.489423305486685</td><td>10.574905411891562</td><td>-999.0</td><td>-99.9</td><td>-99.9</td><td>-99.9</td><td>9.19186249267866</td><td>8.975560033754876</td><td>9.115778480543227</td><td>9.261780580497703</td><td>0.684413476414361</td><td>0.31552402209590663</td><td>0.5099874640159455</td><td>0.6591685767866572</td><td>0.684413476414361</td><td>-8.922962444876912</td><td>-8.563317879883106</td><td>-8.395134335338103</td><td>-99.9</td><td>-99.9</td><td>-99.9</td><td>-99.9</td><td>-99.9</td><td>-99.9</td><td>9.548654102471012</td><td>9.214921861147548</td><td>8.340639502400958</td><td></td><td></td><td>0.0 .. 0.0</td></tr>\n",
       "<tr><td>3</td><td>0.6233</td><td>0.0</td><td>3.0</td><td>0.6000000000000001</td><td>0.5319999992847443</td><td>0.6680000007152558</td><td>10.08553107425512</td><td>9</td><td>1.0</td><td>0.15</td><td>-99.9</td><td>-99.0</td><td>-99</td><td>-99.0</td><td>0.6233</td><td>2.1015424840408587</td><td>9</td><td>-99</td><td>1000000000.0</td><td>25.262085670267126 .. 21.307895804197347</td><td>0.11245030713537811 .. 0.03224207737358272</td><td>1.3022229798649088 .. 0.3272615330764923</td><td>-19.084924703360304 .. -21.858864579956013</td><td>0.26711059816815386 .. 1.7211440455862501</td><td>2.0 .. 5.0</td><td>60861552909.72918</td><td>6</td><td>0</td><td>0.6233</td><td>9.812913339271075</td><td>9.65004889105882</td><td>9.780227478802393</td><td>9.84483344431772</td><td>10.187217974697251</td><td>10.685450320855134</td><td>10.87473823552697</td><td>10.98375313803746</td><td>-999.0</td><td>-99.9</td><td>-99.9</td><td>-99.9</td><td>10.506329461182165</td><td>10.38953907810179</td><td>10.462714951008715</td><td>10.531521287516288</td><td>-0.2256575514439052</td><td>-0.48546797509497264</td><td>-0.14889939469231891</td><td>0.3748550938608418</td><td>-0.2256575514439052</td><td>-10.887791840258354</td><td>-10.614074825331386</td><td>-10.108976115916684</td><td>-99.9</td><td>-99.9</td><td>-99.9</td><td>-99.9</td><td>-99.9</td><td>-99.9</td><td>8.77946622163915</td><td>9.564947639569699</td><td>8.954704685600117</td><td></td><td></td><td>0.0 .. 0.0</td></tr>\n",
       "<tr><td>4</td><td>1.4005</td><td>0.0</td><td>3.0</td><td>1.4</td><td>1.3319999992847442</td><td>1.4680000007152556</td><td>0.34841120873857717</td><td>9</td><td>2.0</td><td>0.1</td><td>-99.9</td><td>-99.0</td><td>-99</td><td>-99.0</td><td>1.4005</td><td>35.34603210152784</td><td>7</td><td>-99</td><td>1000000000.0</td><td>24.891768358503363 .. 23.444408367607465</td><td>0.06450552103875724 .. 0.06166419141859548</td><td>0.11232905902905901 .. -0.3339735279878466</td><td>-20.218146548545384 .. -21.22658773633921</td><td>0.37713681002682975 .. 4.581956109462219</td><td>4.0 .. 5.0</td><td>13236946761.090946</td><td>6</td><td>0</td><td>1.4005</td><td>9.206550637652406</td><td>8.820118768131941</td><td>9.161140716627195</td><td>9.37385994775412</td><td>10.515345537095437</td><td>10.474474667471569</td><td>10.535024382445346</td><td>10.976592245618587</td><td>-999.0</td><td>-99.9</td><td>-99.9</td><td>-99.9</td><td>9.606109062415369</td><td>9.545139710051874</td><td>9.69875810142439</td><td>9.88057010280985</td><td>0.6295673335609094</td><td>0.5922986786488833</td><td>0.6958446208697591</td><td>0.9426267673077546</td><td>0.6295673335609094</td><td>-9.188513913247936</td><td>-9.000918573678264</td><td>-8.730313145618705</td><td>-99.9</td><td>-99.9</td><td>-99.9</td><td>-99.9</td><td>-99.9</td><td>-99.9</td><td>9.545775642862143</td><td>9.424650892525019</td><td>8.531288470037632</td><td></td><td></td><td>0.0 .. 0.0</td></tr>\n",
       "</table></div>"
      ],
      "text/plain": [
       "<Table length=5>\n",
       "IDENT  Z_BEST Z_BEST68_LOW Z_BEST68_HIGH ... MAG_PRED() STRING_INPUT    BAY_ZG  \n",
       " str3 float64   float64       float64    ... float64[0]     str1     float64[31]\n",
       "----- ------- ------------ ------------- ... ---------- ------------ -----------\n",
       "    0   1.166          0.0           3.0 ...                          0.0 .. 0.0\n",
       "    1  0.1649          0.0           3.0 ...                          0.0 .. 0.0\n",
       "    2    1.25          0.0           3.0 ...                          0.0 .. 0.0\n",
       "    3  0.6233          0.0           3.0 ...                          0.0 .. 0.0\n",
       "    4  1.4005          0.0           3.0 ...                          0.0 .. 0.0"
      ]
     },
     "execution_count": 9,
     "metadata": {},
     "output_type": "execute_result"
    }
   ],
   "source": [
    "# the output is an astropy tabel that can be manipulated in the standard ways.\n",
    "output[:5]"
   ]
  },
  {
   "cell_type": "markdown",
   "id": "8f56984e-b3cb-4cde-9ef1-1b13e157dc20",
   "metadata": {},
   "source": [
    "Next we can perform some simple plots to check the output"
   ]
  },
  {
   "cell_type": "code",
   "execution_count": 10,
   "id": "a2335825-4cba-492f-a277-8349a43f88c4",
   "metadata": {},
   "outputs": [
    {
     "data": {
      "text/plain": [
       "Text(0.5, 0, 'log(stellar mass)')"
      ]
     },
     "execution_count": 10,
     "metadata": {},
     "output_type": "execute_result"
    },
    {
     "data": {
      "image/png": "[encoded data removed]",
      "text/plain": [
       "<Figure size 640x480 with 1 Axes>"
      ]
     },
     "metadata": {},
     "output_type": "display_data"
    }
   ],
   "source": [
    "logmass= output[\"MASS_MED\"]\n",
    "logSFR= output[\"SFR_MED\"]\n",
    "z= output[\"Z_BEST\"]\n",
    "cond = (z>0.5) & (z<1) & (logmass>0)\n",
    "plt.hist(logmass[cond], bins=20)\n",
    "plt.xlabel(\"log(stellar mass)\")"
   ]
  },
  {
   "cell_type": "code",
   "execution_count": 11,
   "id": "8f1fb5cd-bbdb-4574-85b6-7f209bc65736",
   "metadata": {},
   "outputs": [
    {
     "data": {
      "text/plain": [
       "Text(0, 0.5, 'log(SFR)')"
      ]
     },
     "execution_count": 11,
     "metadata": {},
     "output_type": "execute_result"
    },
    {
     "data": {
      "image/png": "[encoded data removed]",
      "text/plain": [
       "<Figure size 640x480 with 1 Axes>"
      ]
     },
     "metadata": {},
     "output_type": "display_data"
    }
   ],
   "source": [
    "plt.scatter(logmass[cond], logSFR[cond], s=2.0)\n",
    "plt.xlabel(\"log(stellar mass)\")\n",
    "plt.ylabel(\"log(SFR)\")"
   ]
  },
  {
   "cell_type": "code",
   "execution_count": null,
   "id": "ce70f2e3-7d86-4723-bb24-c9a373d322fc",
   "metadata": {},
   "outputs": [],
   "source": []
  },
  {
   "cell_type": "code",
   "execution_count": null,
   "id": "4868b646-f120-4794-851c-291ef12da03d",
   "metadata": {},
   "outputs": [],
   "source": []
  },
  {
   "cell_type": "code",
   "execution_count": null,
   "id": "04bdadc5-a5c4-4c31-8e41-79b014bbf7f1",
   "metadata": {},
   "outputs": [],
   "source": []
  },
  {
   "cell_type": "code",
   "execution_count": null,
   "id": "add00bf7-1b42-42c7-9d06-b8b6d38bc61c",
   "metadata": {},
   "outputs": [],
   "source": []
  }
 ],
 "metadata": {
  "kernelspec": {
   "display_name": "Python 3 (ipykernel)",
   "language": "python",
   "name": "python3"
  },
  "language_info": {
   "codemirror_mode": {
    "name": "ipython",
    "version": 3
   },
   "file_extension": ".py",
   "mimetype": "text/x-python",
   "name": "python",
   "nbconvert_exporter": "python",
   "pygments_lexer": "ipython3",
   "version": "3.13.0"
  }
 },
 "nbformat": 4,
 "nbformat_minor": 5
}
