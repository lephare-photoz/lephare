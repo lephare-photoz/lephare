{
 "cells": [
  {
   "cell_type": "code",
   "execution_count": null,
   "id": "be0f7c0f",
   "metadata": {},
   "outputs": [],
   "source": [
    "from lephare import *\n",
    "import numpy as np\n",
    "from matplotlib import pylab as plt\n",
    "\n",
    "%matplotlib inline"
   ]
  },
  {
   "cell_type": "code",
   "execution_count": null,
   "id": "ca164e65",
   "metadata": {},
   "outputs": [],
   "source": [
    "filter_name = \"cosmos/u_cfht.lowres\"\n",
    "f1 = flt(0, filter_name, 1, 0)\n",
    "f1.read(os.path.join(LEPHAREDIR, \"filt\", filter_name))\n",
    "f1.plot_filter_curve()"
   ]
  },
  {
   "cell_type": "code",
   "execution_count": null,
   "id": "8b303cd5",
   "metadata": {},
   "outputs": [],
   "source": [
    "filter_driver = Filter(config=\"../test/COSMOS.para\")\n",
    "filter_driver.run()"
   ]
  },
  {
   "cell_type": "code",
   "execution_count": null,
   "id": "8a765701",
   "metadata": {},
   "outputs": [],
   "source": [
    "filter_output = os.path.join(\n",
    "    os.environ[\"LEPHAREWORK\"], \"filt\", filter_driver.keymap[\"FILTER_FILE\"].value + \".dat\"\n",
    ")\n",
    "filters = np.loadtxt(filter_output, dtype={\"names\": (\"lamb\", \"val\", \"bid\"), \"formats\": (float, float, int)})\n",
    "plt.loglog(filters[\"lamb\"], filters[\"val\"])\n",
    "plt.xlabel(\"wavelength\");"
   ]
  },
  {
   "cell_type": "markdown",
   "id": "412093d4",
   "metadata": {},
   "source": [
    "# Manipulating a SED object\n",
    "\n",
    "SED objects represent SED templates belonging to one of the three possible classes \"STAR\", \"QSO\" (for AGN type of objects), and \"GAL\" for galaxies. SED templates available with LePhare can be found under the `sed` directory. "
   ]
  },
  {
   "cell_type": "code",
   "execution_count": null,
   "id": "1a5a6be4",
   "metadata": {},
   "outputs": [],
   "source": [
    "!ls $LEPHAREDIR/sed"
   ]
  },
  {
   "cell_type": "markdown",
   "id": "cb609702",
   "metadata": {},
   "source": [
    "Let's start with the template of a star. A SED object is created most easily with 3 arguments: its name, an identifying integer, and the type it belongs to. Then calling the `read` function reads the ASCII file passed as argument."
   ]
  },
  {
   "cell_type": "code",
   "execution_count": null,
   "id": "39331577",
   "metadata": {},
   "outputs": [],
   "source": [
    "star_sed = \"f2ii.sed\"\n",
    "sed_filename = os.path.join(LEPHAREDIR, \"sed/STAR/PICKLES/\", star_sed)\n",
    "sed = StarSED(star_sed, 1, \"STAR\")\n",
    "sed.read(sed_filename)"
   ]
  },
  {
   "cell_type": "markdown",
   "id": "d481fea2",
   "metadata": {},
   "source": [
    "The python code exposes the templates vectors through the `data` method"
   ]
  },
  {
   "cell_type": "code",
   "execution_count": null,
   "id": "7323175d",
   "metadata": {},
   "outputs": [],
   "source": [
    "x = sed.data()[0]\n",
    "y = sed.data()[1]\n",
    "plt.plot(x, y)"
   ]
  },
  {
   "cell_type": "markdown",
   "id": "a9c58093",
   "metadata": {},
   "source": [
    "In the context of LePhare, such a SED object is going to be written as a byte compressed file, and read back downstream to compute expected magnitudes and to perform the fit. Writing an reading this binary stored file goes as follows:"
   ]
  },
  {
   "cell_type": "code",
   "execution_count": null,
   "id": "604e3a7e",
   "metadata": {},
   "outputs": [],
   "source": [
    "rootname = star_sed.split(\".\")[0]\n",
    "sed.writeSED(rootname + \".bin\", rootname + \".phys\", rootname + \".doc\")"
   ]
  },
  {
   "cell_type": "markdown",
   "id": "5983a5f3",
   "metadata": {},
   "source": [
    "We can read it back into a new SED object, and check that the values have been correctly read back"
   ]
  },
  {
   "cell_type": "code",
   "execution_count": null,
   "id": "588241e2",
   "metadata": {},
   "outputs": [],
   "source": [
    "sed2 = StarSED(star_sed, 2, \"DONTKNOW\")\n",
    "sed2.readSEDBin(rootname + \".bin\")\n",
    "x2 = sed.data()[0]\n",
    "y2 = sed.data()[1]\n",
    "assert np.all(x == x2)\n",
    "assert np.all(y == y2)\n",
    "print(sed.jtype, sed2.jtype)"
   ]
  },
  {
   "cell_type": "code",
   "execution_count": null,
   "id": "23fbfe55",
   "metadata": {},
   "outputs": [],
   "source": [
    "sed = Sedtolib(\"../test/COSMOS.para\")\n",
    "sed.run(typ=\"STAR\", star_sed=\"../test/STAR_MOD_ALL.list\", star_fscale=\"1\")"
   ]
  },
  {
   "cell_type": "code",
   "execution_count": null,
   "id": "9282090b",
   "metadata": {},
   "outputs": [],
   "source": [
    "sed_output = os.path.join(\n",
    "    os.environ[\"LEPHAREWORK\"], \"lib_bin\", filter_driver.keymap[\"STAR_LIB\"].value + \".bin\"\n",
    ")"
   ]
  },
  {
   "cell_type": "code",
   "execution_count": null,
   "id": "449ab980",
   "metadata": {},
   "outputs": [],
   "source": [
    "sed_output"
   ]
  },
  {
   "cell_type": "code",
   "execution_count": null,
   "id": "d94d211f",
   "metadata": {},
   "outputs": [],
   "source": [
    "import struct\n",
    "\n",
    "buf = open(sed_output, \"rb\").read()\n",
    "counter = 0\n",
    "off = 0\n",
    "while counter <= 0:\n",
    "    nrec, jtype, nbw = struct.unpack(\"iil\", buf[off : off + 16])\n",
    "    wave = struct.unpack(\"d\" * nbw, buf[off + 16 : off + 16 + 8 * nbw])\n",
    "    print(nrec, jtype, nbw)\n",
    "    off += 16 + 8 * nbw\n",
    "    nrec, jtype, nbw = struct.unpack(\"iil\", buf[off : off + 16])\n",
    "    spec = struct.unpack(\"d\" * nbw, buf[off + 16 : off + 16 + 8 * nbw])\n",
    "    print(nrec, jtype, nbw)\n",
    "    off += 16 + 8 * nbw\n",
    "    counter += 1\n",
    "plt.plot(wave, spec)\n",
    "# plt.xlim(1000,1.e4)\n",
    "# plt.ylim(1.e-10,1.e-6)"
   ]
  },
  {
   "cell_type": "code",
   "execution_count": null,
   "id": "526460bd",
   "metadata": {},
   "outputs": [],
   "source": [
    "n = 6973\n",
    "struct.unpack(\"d\", buf[off + 16 + 8 * (n - 1) : off + 16 + 8 * n])"
   ]
  },
  {
   "cell_type": "code",
   "execution_count": null,
   "id": "e2ed4f27",
   "metadata": {},
   "outputs": [],
   "source": [
    "nbw"
   ]
  },
  {
   "cell_type": "code",
   "execution_count": null,
   "id": "608720be",
   "metadata": {},
   "outputs": [],
   "source": [
    "buf[38896 + 16 + 8 : 38896 + 16 + 16]"
   ]
  },
  {
   "cell_type": "code",
   "execution_count": null,
   "id": "06953a40",
   "metadata": {},
   "outputs": [],
   "source": [
    "struct.unpack(\"d\", buf[38896 + 16 + 8 : 38896 + 16 + 16])"
   ]
  },
  {
   "cell_type": "code",
   "execution_count": null,
   "id": "e639782f",
   "metadata": {},
   "outputs": [],
   "source": [
    "4.2399775704000006e-08 / 1.23542470e01"
   ]
  },
  {
   "cell_type": "code",
   "execution_count": null,
   "id": "6901c062",
   "metadata": {},
   "outputs": [],
   "source": [
    "struct.unpack(\"d\" * 1, buf[off + 16 : off + 16 + 8])"
   ]
  },
  {
   "cell_type": "code",
   "execution_count": null,
   "id": "f6aaad1e",
   "metadata": {},
   "outputs": [],
   "source": [
    "struct.calcsize(\"l\")"
   ]
  },
  {
   "cell_type": "code",
   "execution_count": null,
   "id": "f4f43f7d",
   "metadata": {},
   "outputs": [],
   "source": [
    "wave[1], spec[1]"
   ]
  },
  {
   "cell_type": "code",
   "execution_count": null,
   "id": "9581fb31",
   "metadata": {},
   "outputs": [],
   "source": [
    "d = np.loadtxt(\"../sed/STAR/PICKLES/o5v.sed.ext\")\n",
    "plt.plot(d[:, 0], d[:, 1])"
   ]
  },
  {
   "cell_type": "code",
   "execution_count": null,
   "id": "2f71a1a5",
   "metadata": {},
   "outputs": [],
   "source": [
    "d[:, 1]"
   ]
  },
  {
   "cell_type": "code",
   "execution_count": null,
   "id": "610418d3",
   "metadata": {},
   "outputs": [],
   "source": [
    "stream_buf = open(sed_output, \"rb\").read()"
   ]
  },
  {
   "cell_type": "code",
   "execution_count": null,
   "id": "853b385a",
   "metadata": {},
   "outputs": [],
   "source": [
    "struct.unpack(\"iil\", stream_buf[0:16])"
   ]
  },
  {
   "cell_type": "code",
   "execution_count": null,
   "id": "51594cd6",
   "metadata": {},
   "outputs": [],
   "source": [
    "from lephare import keyword\n",
    "\n",
    "k = keyword(\"TEST\", \"0.1,0.1,6\")\n",
    "print(k.split_double(\"0.03\", 3))\n",
    "print(k.split_double(\"0.03\", 3))"
   ]
  },
  {
   "cell_type": "code",
   "execution_count": null,
   "id": "f76f6cd4",
   "metadata": {},
   "outputs": [],
   "source": [
    "mag = MagGal(\"../test/COSMOS.para\")\n",
    "mag.run(typ=\"STAR\", lib_ascii=\"YES\", star_lib_out=\"ALLSTAR_COSMOS\")"
   ]
  },
  {
   "cell_type": "code",
   "execution_count": null,
   "id": "e9d3014e",
   "metadata": {},
   "outputs": [],
   "source": [
    "sed.run(typ=\"QSO\", qso_sed=\"$LEPHAREDIR/sed/QSO/SALVATO09/AGN_MOD.list\")"
   ]
  },
  {
   "cell_type": "code",
   "execution_count": null,
   "id": "ef196d2c",
   "metadata": {},
   "outputs": [],
   "source": [
    "sed.run(typ=\"GAL\", gal_sed=\"../test/COSMOS_MOD.list\", gal_lib=\"LIB_VISTA\")"
   ]
  },
  {
   "cell_type": "code",
   "execution_count": null,
   "id": "055b3728",
   "metadata": {},
   "outputs": [],
   "source": [
    "mag = MagGal(\"../test/COSMOS.para\")\n",
    "mag.run(\n",
    "    typ=\"QSO\",\n",
    "    lib_ascii=\"NO\",\n",
    "    mod_extinc=\"0,1000\",\n",
    "    eb_v=\"0.,0.1,0.2,0.3\",\n",
    "    extinc_law=\"SB_calzetti.dat\",\n",
    "    z_step=\"0.04,0,6\",\n",
    ")"
   ]
  }
 ],
 "metadata": {
  "kernelspec": {
   "display_name": "Python 3 (ipykernel)",
   "language": "python",
   "name": "python3"
  },
  "language_info": {
   "codemirror_mode": {
    "name": "ipython",
    "version": 3
   },
   "file_extension": ".py",
   "mimetype": "text/x-python",
   "name": "python",
   "nbconvert_exporter": "python",
   "pygments_lexer": "ipython3",
   "version": "3.8.5"
  }
 },
 "nbformat": 4,
 "nbformat_minor": 5
}
