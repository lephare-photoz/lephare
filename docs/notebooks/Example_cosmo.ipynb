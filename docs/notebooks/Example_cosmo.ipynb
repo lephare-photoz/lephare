{
 "cells": [
  {
   "cell_type": "markdown",
   "id": "c94c45fb",
   "metadata": {},
   "source": [
    "# Introduction to some aspects of the python interface to LePhare"
   ]
  },
  {
   "cell_type": "code",
   "execution_count": null,
   "id": "eaac2d65",
   "metadata": {},
   "outputs": [],
   "source": [
    "from lephare import zgrid, cosmo\n",
    "from matplotlib import pylab as plt\n",
    "\n",
    "%matplotlib inline"
   ]
  },
  {
   "cell_type": "markdown",
   "id": "93246777",
   "metadata": {},
   "source": [
    "## cosmology module\n",
    "This module is very limited in scope, as it is used only in computed absolute magnitude when necessary.\n",
    "The python interface provides access to the `cosmo` class, and \n",
    "numpy access to the 3 functions of the `cosmo` class : `distMod` for the distance modulus, `distMet` for the metric distance, and `time` for the cosmological time from infinity to argument redshift `z`.\n",
    "\n",
    "The `cosmology.h` also exposes the `zgrid` function that returns a grid of redshift, either linearly binned, or with binning increasing by a factor (1+z) at each step."
   ]
  },
  {
   "cell_type": "code",
   "execution_count": null,
   "id": "dd9b19e5",
   "metadata": {},
   "outputs": [],
   "source": [
    "# linear binning\n",
    "redshifts = zgrid(0, 0.01, 0, 6)\n",
    "lcdm = cosmo()"
   ]
  },
  {
   "cell_type": "code",
   "execution_count": null,
   "id": "f6df8d77",
   "metadata": {},
   "outputs": [],
   "source": [
    "dist_mod = lcdm.distMod(redshifts)\n",
    "dist_met = lcdm.distMet(redshifts)\n",
    "t = lcdm.time(redshifts)\n",
    "fig, axes = plt.subplots(1, 3)\n",
    "axes[0].plot(redshifts, dist_mod, \".\")\n",
    "axes[1].plot(redshifts, dist_met)\n",
    "axes[2].plot(redshifts, t)"
   ]
  },
  {
   "cell_type": "code",
   "execution_count": null,
   "id": "0a3d5a87",
   "metadata": {},
   "outputs": [],
   "source": [
    "# (1+z) binning\n",
    "redshifts2 = zgrid(1, 0.01, 0, 6)"
   ]
  },
  {
   "cell_type": "code",
   "execution_count": null,
   "id": "cd6c7698",
   "metadata": {},
   "outputs": [],
   "source": [
    "len(redshifts2)"
   ]
  }
 ],
 "metadata": {
  "kernelspec": {
   "display_name": "Python 3 (ipykernel)",
   "language": "python",
   "name": "python3"
  },
  "language_info": {
   "codemirror_mode": {
    "name": "ipython",
    "version": 3
   },
   "file_extension": ".py",
   "mimetype": "text/x-python",
   "name": "python",
   "nbconvert_exporter": "python",
   "pygments_lexer": "ipython3",
   "version": "3.11.6"
  }
 },
 "nbformat": 4,
 "nbformat_minor": 5
}
