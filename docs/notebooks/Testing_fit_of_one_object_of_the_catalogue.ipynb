{
 "cells": [
  {
   "cell_type": "markdown",
   "id": "5b98b880-3dfd-4c2e-b572-2be3c0634215",
   "metadata": {},
   "source": [
    "# Test fit of a single object"
   ]
  },
  {
   "cell_type": "code",
   "execution_count": null,
   "id": "c216257a",
   "metadata": {},
   "outputs": [],
   "source": [
    "import os\n",
    "import lephare as lp\n",
    "import numpy as np\n",
    "from matplotlib import pylab as plt\n",
    "\n",
    "%matplotlib inline"
   ]
  },
  {
   "cell_type": "code",
   "execution_count": null,
   "id": "44008b8d",
   "metadata": {},
   "outputs": [],
   "source": [
    "config_file = \"./data/COSMOS.para\"\n",
    "keymap = lp.read_config(config_file)\n",
    "# Get the auxiliary files required.\n",
    "lp.data_retrieval.get_auxiliary_data(keymap=keymap, additional_files=[\"examples/COSMOS.in\"])"
   ]
  },
  {
   "cell_type": "code",
   "execution_count": null,
   "id": "753f204c",
   "metadata": {},
   "outputs": [],
   "source": [
    "keymap[\"ZPHOTLIB\"] = lp.keyword(\"ZPHOTLIB\", \"VISTA_COSMOS_FREE,ALLSTAR_COSMOS,QSO_COSMOS\")\n",
    "keymap[\"CAT_IN\"] = lp.keyword(\"CAT_IN\", f\"{lp.LEPHAREDIR}/examples/COSMOS.in\")\n",
    "keymap[\"CAT_OUT\"] = lp.keyword(\"CAT_OUT\", \"zphot_short.out\")\n",
    "keymap[\"ADD_EMLINES\"] = lp.keyword(\"ADD_EMLINES\", \"0,100\")\n",
    "keymap[\"AUTO_ADAPT\"] = lp.keyword(\"ADD_EMLINES\", \"YES\")\n",
    "keymap[\"Z_STEP\"] = lp.keyword(\"Z_STEP\", \"0.04,0,6\")\n",
    "keymap[\"CAT_LINES\"] = lp.keyword(\"CAT_LINES\", \"1,100\")\n",
    "keymap[\"SPEC_OUT\"] = lp.keyword(\"SPEC_OUT\", \"YES\")\n",
    "keymap[\"PARA_OUT\"] = lp.keyword(\"PARA_OUT\", f\"{lp.LEPHAREDIR}/examples/output.para\")\n",
    "keymap[\"VERBOSE\"] = lp.keyword(\"VERBOSE\", \"NO\")\n",
    "keymap[\"ZFIX\"] = lp.keyword(\"ZFIX\", \"YES\")"
   ]
  },
  {
   "cell_type": "code",
   "execution_count": null,
   "id": "a6e5c4fc-d37a-4e5c-8882-a6b7ce168efd",
   "metadata": {},
   "outputs": [],
   "source": [
    "# before running PhotoZ we must run filt, sedtolib and maggal\n",
    "filterLib = lp.Filter(config_file=config_file)\n",
    "filterLib.run()\n",
    "sedlib = lp.Sedtolib(config_keymap=keymap)\n",
    "sedlib.run(typ=\"STAR\", star_sed=\"$LEPHAREDIR/sed/STAR/STAR_MOD_ALL.list\")\n",
    "sedlib.run(typ=\"QSO\", qso_sed=\"$LEPHAREDIR/sed/QSO/SALVATO09/AGN_MOD.list\", gal_lib=\"LIB_QSO\")\n",
    "sedlib.run(typ=\"GAL\", gal_sed=\"$LEPHAREDIR/examples/COSMOS_MOD.list\", gal_lib=\"LIB_GAL\")\n",
    "maglib = lp.MagGal(config_keymap=keymap)\n",
    "maglib.run(typ=\"STAR\", lib_ascii=\"YES\", star_lib_out=\"ALLSTAR_COSMOS\")\n",
    "maglib.run(\n",
    "    typ=\"QSO\",\n",
    "    lib_ascii=\"YES\",\n",
    "    mod_extinc=\"0,1000\",\n",
    "    eb_v=\"0.,0.1,0.2,0.3\",\n",
    "    extinc_law=\"SB_calzetti.dat\",\n",
    "    qso_lib_in=\"LIB_QSO\",\n",
    ")\n",
    "maglib.run(\n",
    "    typ=\"GAL\",\n",
    "    lib_ascii=\"YES\",\n",
    "    gal_lib_in=\"LIB_GAL\",\n",
    "    gal_lib_out=\"VISTA_COSMOS_FREE\",\n",
    "    mod_extinc=\"18,26,26,33,26,33,26,33\",\n",
    "    extinc_law=\"SMC_prevot.dat,SB_calzetti.dat,SB_calzetti_bump1.dat,SB_calzetti_bump2.dat\",\n",
    "    em_lines=\"EMP_UV\",\n",
    "    em_dispersion=\"0.5,0.75,1.,1.5,2.\",\n",
    ")"
   ]
  },
  {
   "cell_type": "code",
   "execution_count": null,
   "id": "fc0f9874-133b-4d55-89b5-e01e9485ac9f",
   "metadata": {},
   "outputs": [],
   "source": [
    "photz = lp.PhotoZ(keymap)"
   ]
  },
  {
   "cell_type": "code",
   "execution_count": null,
   "id": "3ddc8265",
   "metadata": {},
   "outputs": [],
   "source": [
    "filts = lp.filterSvc.FilterSvc.from_config(config_file)"
   ]
  },
  {
   "cell_type": "code",
   "execution_count": null,
   "id": "5120e1b9",
   "metadata": {},
   "outputs": [],
   "source": [
    "# for filt in filts:\n",
    "#    plt.figure()\n",
    "#    filt.plot_filter_curve()"
   ]
  },
  {
   "cell_type": "code",
   "execution_count": null,
   "id": "16f36792",
   "metadata": {},
   "outputs": [],
   "source": [
    "# megacam_u = filterSvc.FilterSvc.from_svo(0,'CFHT/MegaCam.u')"
   ]
  },
  {
   "cell_type": "code",
   "execution_count": null,
   "id": "8219b9cc",
   "metadata": {},
   "outputs": [],
   "source": [
    "# lephare_megacam_u = FilterSvc.from_file('../filt/cosmos/u_new.pb', 0, 1, 0)"
   ]
  },
  {
   "cell_type": "code",
   "execution_count": null,
   "id": "6d5fb175",
   "metadata": {},
   "outputs": [],
   "source": [
    "# megacam_u.plot_filter_curve()\n",
    "# filts[1].plot_filter_curve()"
   ]
  },
  {
   "cell_type": "code",
   "execution_count": null,
   "id": "05816fb0",
   "metadata": {},
   "outputs": [],
   "source": [
    "ztyp = keymap[\"ZGRID_TYPE\"].split_int(\"\", 1)[0]\n",
    "dz, zmin, zmax = keymap[\"Z_STEP\"].split_double(\"\", 3)\n",
    "gridz = lp.zgrid(ztyp, dz, zmin, zmax)\n",
    "\n",
    "H0, om0, lbd0 = keymap[\"COSMOLOGY\"].split_double(\"\", 3)\n",
    "lcdm = lp.cosmo(H0, om0, lbd0)"
   ]
  },
  {
   "cell_type": "code",
   "execution_count": null,
   "id": "1ba5602e",
   "metadata": {},
   "outputs": [],
   "source": [
    "cat = np.loadtxt(f\"{lp.LEPHAREDIR}/examples/COSMOS.in\")\n",
    "nfilt = 30\n",
    "pos = 57\n",
    "entry = cat[pos]\n",
    "identifier = str(entry[0])\n",
    "fluxes = entry[np.arange(1, nfilt * 2 + 1, 2)]\n",
    "efluxes = entry[np.arange(1, nfilt * 2 + 1, 2) + 1]\n",
    "context = int(entry[-3])\n",
    "zspec = entry[-2]\n",
    "additional_str = str(entry[-1])"
   ]
  },
  {
   "cell_type": "code",
   "execution_count": null,
   "id": "e15823d8",
   "metadata": {},
   "outputs": [],
   "source": [
    "src = lp.onesource(0, gridz)\n",
    "src.readsource(identifier, fluxes, efluxes, context, zspec, additional_str)"
   ]
  },
  {
   "cell_type": "code",
   "execution_count": null,
   "id": "24708864-7139-4c18-bda9-6a1d1db8da3b",
   "metadata": {},
   "outputs": [],
   "source": [
    "len(gridz)"
   ]
  },
  {
   "cell_type": "code",
   "execution_count": null,
   "id": "ac0e6cfb",
   "metadata": {},
   "outputs": [],
   "source": [
    "gbcont = keymap[\"GLB_CONTEXT\"].split_int(\"\", 1)[0]\n",
    "contforb = keymap[\"FORB_CONTEXT\"].split_int(\"\", 1)[0]\n",
    "# bdscal = keymap[\"BD_SCALE\"].split_int(\"\",1)[0]\n",
    "\n",
    "src.fltUsed(gbcont, contforb, nfilt)\n",
    "if False:  # this should be the test on cattype\n",
    "    src.convertFlux(\"AB\", filts)\n",
    "src.convertMag()\n",
    "min_err = keymap[\"ERR_SCALE\"].split_double(\"0.0\", -1)\n",
    "fac_err = keymap[\"ERR_FACTOR\"].split_double(\"1.0\", -1)\n",
    "# src.errors(min_err, fac_err, nfilt) #errors is not exposed\n",
    "src.keepOri()\n",
    "# src.closest_red = gridz[indexz(src.zs, gridz)]\n",
    "zrange = [0, 0]\n",
    "ebvrange = [0, 0]\n",
    "mass_scale = [0, 0]\n",
    "magabsB = [0, 0]\n",
    "magabsF = [0, 0]\n",
    "zrange[0] = ((keymap[\"Z_RANGE\"]).split_double(\"0\", 2))[0]\n",
    "zrange[1] = ((keymap[\"Z_RANGE\"]).split_double(\"1000\", 2))[1]\n",
    "ebvrange[0] = ((keymap[\"EBV_RANGE\"]).split_double(\"0\", 2))[0]\n",
    "ebvrange[1] = ((keymap[\"EBV_RANGE\"]).split_double(\"1000\", 2))[1]\n",
    "# mass_scale[0]  =((keymap[\"MASS_SCALE\"]).split_double(\"0.\",2))[0];\n",
    "# mass_scale[1]  =((keymap[\"MASS_SCALE\"]).split_double(\"0.\",2))[1];\n",
    "magabsB[0] = ((keymap[\"MAG_ABS\"]).split_double(\"0.\", 2))[0]\n",
    "magabsF[0] = ((keymap[\"MAG_ABS\"]).split_double(\"0.\", 2))[1]\n",
    "if magabsB[0] > magabsF[0]:\n",
    "    inter = magabsF[0]\n",
    "    magabsF[0] = magabsB[0]\n",
    "    magabsB[0] = inter\n",
    "\n",
    "magabsB[1] = ((keymap[\"MAG_ABS_QSO\"]).split_double(\"0.\", 2))[0]\n",
    "magabsF[1] = ((keymap[\"MAG_ABS_QSO\"]).split_double(\"0.\", 2))[1]\n",
    "if magabsB[1] > magabsF[1]:\n",
    "    inter = magabsF[1]\n",
    "    magabsF[1] = magabsB[1]\n",
    "    magabsB[1] = inter\n",
    "\n",
    "src.setPriors(magabsB, magabsF)"
   ]
  },
  {
   "cell_type": "code",
   "execution_count": null,
   "id": "c70de034",
   "metadata": {},
   "outputs": [],
   "source": [
    "zfix = False\n",
    "lmasi = 0.0\n",
    "lmass = 0.0\n",
    "magabsB = [-24.0, -30.0]\n",
    "magabsF = [-5.0, -10.0]\n",
    "funz0 = lcdm.distMod(gridz[1] / 20.0)\n",
    "bp = [-2, -2]"
   ]
  },
  {
   "cell_type": "code",
   "execution_count": null,
   "id": "d1c57152-27b7-4df1-a9dd-743d7d3d0f6d",
   "metadata": {},
   "outputs": [],
   "source": [
    "valid = src.validLib(photz.fullLib, zfix, src.zs)"
   ]
  },
  {
   "cell_type": "code",
   "execution_count": null,
   "id": "f0460941-beec-4534-97cc-bba8d21ef127",
   "metadata": {},
   "outputs": [],
   "source": [
    "src.fit(photz.fullLib, photz.flux, valid, funz0, bp)"
   ]
  },
  {
   "cell_type": "code",
   "execution_count": null,
   "id": "960042e7-31e9-4775-b834-e659fa9c021a",
   "metadata": {},
   "outputs": [],
   "source": [
    "src.rm_discrepant(photz.fullLib, photz.flux, valid, funz0, bp, 500.0, True)"
   ]
  },
  {
   "cell_type": "code",
   "execution_count": null,
   "id": "3e8c6cb0",
   "metadata": {},
   "outputs": [],
   "source": [
    "src.spec, src.indmin, src.consiz"
   ]
  },
  {
   "cell_type": "code",
   "execution_count": null,
   "id": "4e0280b3",
   "metadata": {},
   "outputs": [],
   "source": [
    "src.generatePDF(photz.fullLib, valid, [32, 4, 4, 13], -1, zfix)\n",
    "src.interp(zfix, True, lcdm)"
   ]
  },
  {
   "cell_type": "code",
   "execution_count": null,
   "id": "4bb6cf00",
   "metadata": {},
   "outputs": [],
   "source": [
    "src.uncertaintiesMin()\n",
    "src.uncertaintiesBay()\n",
    "src.secondpeak(photz.fullLib, 0.3, 0.02)\n",
    "src.considered_red(zfix, \"BEST\")\n",
    "src.interp_lib(photz.fullLib, nfilt, lcdm)"
   ]
  },
  {
   "cell_type": "code",
   "execution_count": null,
   "id": "2453e99a",
   "metadata": {},
   "outputs": [],
   "source": [
    "method = keymap[\"MABS_METHOD\"].split_int(\"0\", -1)[0]\n",
    "magabscont = keymap[\"MABS_CONTEXT\"].split_long(\"0\", -1)\n",
    "bapp = np.asarray(keymap[\"MABS_REF\"].split_int(\"1\", -1)) - 1\n",
    "bappOp = np.asarray(keymap[\"MABS_FILT\"].split_int(\"1\", -1)) - 1\n",
    "nbBinZ = len(bappOp)\n",
    "zbmin = keymap[\"MABS_ZBIN\"].split_double(\"0\", nbBinZ + 1)\n",
    "zbmax = keymap[\"MABS_ZBIN\"].split_double(\"6\", nbBinZ + 1)\n",
    "zbmin = zbmin[:-1]\n",
    "zbmax = zbmin[1:]\n",
    "goodFlt = lp.bestFilter(nfilt, gridz, photz.fullLib, method, magabscont, bapp, bappOp, zbmin, zbmax)\n",
    "maxkcol = lp.maxkcolor(gridz, photz.fullLib, goodFlt)\n",
    "\n",
    "src.absmag(goodFlt, maxkcol, lcdm, gridz)"
   ]
  },
  {
   "cell_type": "code",
   "execution_count": null,
   "id": "e99dfb4f",
   "metadata": {},
   "outputs": [],
   "source": [
    "limits_zbin = keymap[\"LIMITS_ZBIN\"].split_double(\"0.0,90.\", -1)\n",
    "nzbin = len(limits_zbin) - 1\n",
    "limits_ref = keymap[\"LIMITS_MAPP_REF\"].split_int(\"1\", 1)[0]\n",
    "limits_sel = keymap[\"LIMITS_MAPP_SEL\"].split_int(\"1\", nzbin)\n",
    "limits_cut = keymap[\"LIMITS_MAPP_CUT\"].split_double(\"90.\", nzbin)\n",
    "src.limits(photz.fullLib, limits_zbin, limits_ref, limits_sel, limits_cut)"
   ]
  },
  {
   "cell_type": "code",
   "execution_count": null,
   "id": "c556a22d",
   "metadata": {},
   "outputs": [],
   "source": [
    "opaOut = lp.GalMag.read_opa()\n",
    "src.computeEmFlux(photz.fullLib, lcdm, opaOut)"
   ]
  },
  {
   "cell_type": "code",
   "execution_count": null,
   "id": "a7693c43",
   "metadata": {},
   "outputs": [],
   "source": [
    "# %load_ext autoreload\n",
    "# %autoreload 2\n",
    "# import lephare\n",
    "# from lephare import *\n",
    "minl = 1.0e10\n",
    "maxl = 0\n",
    "for f in filts:\n",
    "    if minl > f.lmean - 2 * f.dwidth:\n",
    "        minl = f.lmean - 2 * f.dwidth\n",
    "    if maxl < f.lmean + 2 * f.dwidth:\n",
    "        maxl = f.lmean + 2 * f.dwidth"
   ]
  },
  {
   "cell_type": "code",
   "execution_count": null,
   "id": "e523a85e",
   "metadata": {},
   "outputs": [],
   "source": [
    "gal1 = src.best_spec_vec(0, photz.fullLib, lcdm, opaOut, minl, maxl)\n",
    "gal2 = src.best_spec_vec(1, photz.fullLib, lcdm, opaOut, minl, maxl)\n",
    "fir = src.best_spec_vec(2, photz.fullLibIR, lcdm, opaOut, minl, maxl)\n",
    "qso = src.best_spec_vec(3, photz.fullLib, lcdm, opaOut, minl, maxl)\n",
    "star = src.best_spec_vec(4, photz.fullLib, lcdm, opaOut, minl, maxl)"
   ]
  },
  {
   "cell_type": "code",
   "execution_count": null,
   "id": "bbf5068e",
   "metadata": {},
   "outputs": [],
   "source": [
    "models_info = []  # à remplir\n",
    "if src.indmin[0] >= 0:\n",
    "    models_info.append(\n",
    "        [\n",
    "            \"GAL-1\",\n",
    "            len(gal1[0]),\n",
    "            str(src.imasmin[0]),\n",
    "            \"1\",\n",
    "            str(src.nbused),\n",
    "            str(src.consiz),\n",
    "            src.zgmin[1],\n",
    "            src.zgmin[2],\n",
    "            src.chimin[0],\n",
    "            \"-1\",\n",
    "            photz.fullLib[src.indmin[0]].extlawId,\n",
    "            photz.fullLib[src.indmin[0]].ebv,\n",
    "            src.Ldustmed[0],\n",
    "            src.agemed[0],\n",
    "            src.massmed[0],\n",
    "            src.SFRmed[0],\n",
    "            src.sSFRmed[0],\n",
    "        ]\n",
    "    )\n",
    "else:\n",
    "    models_info.append([\"GAL-1 0 -1 -1 -1 -1. -1. -1. -1. -1. -1 -1. -1. -1. -1. -1. -1.\".split()])\n",
    "\n",
    "# second solution\n",
    "if src.indminSec >= 0:\n",
    "    models_info.append(\n",
    "        [\n",
    "            \"GAL-2\",\n",
    "            len(gal2[0]),\n",
    "            str(src.zsecMod),\n",
    "            \"1\",\n",
    "            str(src.nbused),\n",
    "            src.zsec,\n",
    "            \"-1\",\n",
    "            \"-1\",\n",
    "            src.zsecChi2,\n",
    "            src.zsecProb,\n",
    "        ]\n",
    "        + \"-1 -1. -1. -1. -1. -1. -1.\".split()\n",
    "    )\n",
    "else:\n",
    "    models_info.append(\"GAL-2 0 -1 -1 -1 -1. -1. -1. -1. -1. -1 -1. -1. -1. -1. -1. -1.\".split())\n",
    "\n",
    "# Galaxy FIR\n",
    "if src.indminIR >= 0:\n",
    "    models_info.append(\n",
    "        [\n",
    "            \"GAL-FIR\",\n",
    "            len(fir[0]),\n",
    "            imasminIR,\n",
    "            \"1\",\n",
    "            src.nbused,\n",
    "            src.zminIR,\n",
    "            \"-1 -1\".split(),\n",
    "            src.chiminIR,\n",
    "            \"0 -1 -1\".split(),\n",
    "            src.LIRml,\n",
    "        ]\n",
    "        + \"-1 -1 -1 -1\".split()\n",
    "    )\n",
    "else:\n",
    "    models_info.append(\"GAL-FIR 0 -1 -1 -1 -1. -1. -1. -1. -1. -1 -1. -1. -1. -1. -1. -1.\".split())\n",
    "\n",
    "## STOCH\n",
    "##models_info.append(\"GAL-STOCH 0 -1 -1 -1 -1. -1. -1. -1. -1. -1 -1. -1. -1. -1. -1. -1.\".split())\n",
    "\n",
    "# QSO\n",
    "if src.zmin[1] > 0:\n",
    "    models_info.append(\n",
    "        [\n",
    "            \"QSO\",\n",
    "            len(qso[0]),\n",
    "            str(src.imasmin[1]),\n",
    "            \"2\",\n",
    "            str(src.nbused),\n",
    "            str(src.zmin[1]),\n",
    "            \"0\",\n",
    "            \"0\",\n",
    "            src.chimin[1],\n",
    "        ]\n",
    "        + \"0. -1 -1. -1. -1. -1. -1. -1.\".split()\n",
    "    )\n",
    "\n",
    "else:\n",
    "    models_info.append(\"QSO 0 -1 -1 -1 -1. -1. -1. -1. -1. -1 -1. -1. -1. -1. -1. -1.\".split())\n",
    "\n",
    "# STAR\n",
    "if src.chimin[2] > 0:\n",
    "    models_info.append(\n",
    "        [\"STAR\", len(star[0]), str(src.imasmin[2]), \"3\", str(src.nbused), \"0\", \"0\", \"0\", src.chimin[2]]\n",
    "        + \"0. -1 -1. -1. -1. -1. -1. -1.\".split()\n",
    "    )\n",
    "else:\n",
    "    models_info.append(\"STAR 0 -1 -1 -1 -1. -1. -1. -1. -1. -1 -1. -1. -1. -1. -1. -1.\".split())"
   ]
  },
  {
   "cell_type": "code",
   "execution_count": null,
   "id": "81a78f5e",
   "metadata": {},
   "outputs": [],
   "source": [
    "id = src.spec\n",
    "zspec = str(src.zs)\n",
    "zphot = src.consiz\n",
    "nfilt = len(filts)\n",
    "npdf = src.pdfmap[lp.maptype[\"MIN_ZG\"]].size()\n",
    "mag = np.array(src.mab)\n",
    "em = np.array(src.msab)\n",
    "lf = np.array([f.lmean * 10000 for f in filts])\n",
    "dlf = np.array([f.dwidth * 10000 for f in filts])\n",
    "zpdf = np.zeros((3, npdf))\n",
    "zpdf[0, :] = src.pdfmap[lp.maptype[\"BAY_ZG\"]].xaxis\n",
    "zpdf[1, :] = src.pdfmap[lp.maptype[\"BAY_ZG\"]].vPDF\n",
    "zpdf[2, :] = src.pdfmap[lp.maptype[\"MIN_ZG\"]].vPDF\n",
    "lg = []\n",
    "mg = []\n",
    "for sol in [gal1, gal2, fir, qso, star]:\n",
    "    lg.append(np.array(sol[0]))\n",
    "    mg.append(-0.4 * (np.array(sol[1]) - 23.91))  # logFnu"
   ]
  },
  {
   "cell_type": "code",
   "execution_count": null,
   "id": "133aee9e-c69d-49e1-a62c-70617400e219",
   "metadata": {},
   "outputs": [],
   "source": []
  },
  {
   "cell_type": "code",
   "execution_count": null,
   "id": "4d400f52-6d18-445b-be8d-84804b2ff079",
   "metadata": {},
   "outputs": [],
   "source": [
    "len(filts), len(src.mab)"
   ]
  },
  {
   "cell_type": "code",
   "execution_count": null,
   "id": "f1990b2e",
   "metadata": {},
   "outputs": [],
   "source": [
    "filts[15].dwidth"
   ]
  },
  {
   "cell_type": "code",
   "execution_count": null,
   "id": "5cd86a57",
   "metadata": {},
   "outputs": [],
   "source": [
    "##############  PLOT  ############### FROM SPEC.PY\n",
    "\n",
    "### Initialise the figure\n",
    "fig = plt.figure()\n",
    "\n",
    "### Main panel\n",
    "ax1 = fig.add_axes(\n",
    "    [0.1, 0.1, 0.78, 0.78], xscale=\"log\", xlabel=\"$\\lambda$ [$\\mu$m]\", ylabel=\"log(F$_{\\\\nu}$) [$\\mu$Jy]\"\n",
    ")\n",
    "\n",
    "# only the reliable obs mag will be plotted:\n",
    "em = em * 2.0\n",
    "dlf = dlf / 2.0\n",
    "mag1 = mag[(mag > 0.0) & (mag < 35) & (em > -3)]\n",
    "em1 = em[(mag > 0.0) & (mag < 35) & (em > -3)]\n",
    "lf1 = lf[(mag > 0.0) & (mag < 35) & (em > -3)] / 10000.0\n",
    "dlf1 = dlf[(mag > 0.0) & (mag < 35) & (em > -3)] / 10000.0\n",
    "\n",
    "if len(mag1 > 0):\n",
    "    ymin = max(mag1 + 2.0)\n",
    "    ymax = min(mag1 - 4.0)\n",
    "else:\n",
    "    ymin = 10\n",
    "    ymax = 20\n",
    "if ymin > 60:\n",
    "    ymin = 30\n",
    "\n",
    "ic = (em1 >= 0.0) & (em1 < 2.0)\n",
    "lf2 = lf1[ic]\n",
    "mag2 = -0.4 * (mag1[ic] - 23.91)\n",
    "em2 = 0.4 * em1[ic]\n",
    "dlf2 = dlf1[ic]\n",
    "# low S/N bands:\n",
    "ic2 = (em1 >= 2.0) & (em1 < 8.0)\n",
    "lf2b = lf1[ic2]\n",
    "mag2b = -0.4 * (mag1[ic2] - 23.91)\n",
    "em2b = 0.4 * em1[ic2]\n",
    "dlf2b = dlf1[ic2]\n",
    "\n",
    "print(em)\n",
    "# set the plot aspect\n",
    "if len(lf1 > 0):\n",
    "    ax1.axis([min(lf1) * 0.85, max(lf1) * 1.2, -0.4 * (ymin - 23.91), -0.4 * (ymax - 23.91)])\n",
    "else:\n",
    "    ax1.axis([0, 100000, -0.4 * (ymin - 23.91), -0.4 * (ymax - 23.91)])\n",
    "### plot SED and print info of best-fit models\n",
    "col_lst = [\"r\", \"g\", \"b\", \"m\", \"y\"]  # each one with a different color\n",
    "plt.figtext(\n",
    "    0.15,\n",
    "    0.96,\n",
    "    \" Type: (Model Library Nband) z_phot  Chi^2,  Extlaw  EB-V  Lir  Age  logM*  logSFR\",\n",
    "    size=\"small\",\n",
    ")\n",
    "plt.figtext(0.73, 0.12, \"ID=\" + id, size=\"small\")\n",
    "iml = 0\n",
    "for im in range(len(models_info)):\n",
    "    if int(models_info[im][2]) == -1:\n",
    "        continue  # print only models really used\n",
    "    iml = iml + 1  # counter of models used\n",
    "    ax1.plot(lg[im], mg[im], color=col_lst[im])  # plot the SED\n",
    "    del models_info[im][6:8]  # do not print z_inf and z_sup\n",
    "    del models_info[im][-1]  # nor sSFR\n",
    "    info1 = (\"  \".join([\"%.3f\"] * len(models_info[im][5:7]))) % tuple(\n",
    "        [float(j) for j in models_info[im][5:7]]\n",
    "    )\n",
    "    if float(models_info[im][8]) >= 0.0:  # additional information\n",
    "        info2 = (\"   \".join([\"%.2f\"] * len(models_info[im][8:]))) % tuple(\n",
    "            [float(j) for j in models_info[im][8:]]\n",
    "        )\n",
    "        info2 = \",  \" + info2 + \".\"\n",
    "    else:\n",
    "        info2 = \".\"\n",
    "    infol = models_info[im][0] + \": (\" + \" \".join(models_info[im][2:5]) + \")  \" + info1 + info2\n",
    "    plt.figtext(0.15, 0.96 - 0.02 * iml, infol, color=col_lst[im], size=\"x-small\")  # print the rest\n",
    "\n",
    "# plot the obs mag...\n",
    "ax1.errorbar(lf2b, mag2b, yerr=em2b, xerr=dlf2b, fmt=\"o\", color=\"0.6\")\n",
    "ax1.errorbar(lf2, mag2, yerr=em2, xerr=dlf2, fmt=\"o\", color=\"0.\")\n",
    "# ... and upper limits\n",
    "iu = np.where(em1 < 0)\n",
    "if len(iu[0]) > 0:\n",
    "    lf3 = lf1[iu]\n",
    "    mag3 = -0.4 * (mag1[iu] - 23.91)\n",
    "    ax1.quiver(lf3, mag3, 0, -1, units=\"height\", width=0.004, headwidth=5, color=\"k\", pivot=\"tip\")\n",
    "\n",
    "### 2nd panel (inset) showing PDF(z)\n",
    "base = 0.9 - 0.02 * iml  # starting position for the inset plot\n",
    "if base > 0.84:\n",
    "    base = 0.84\n",
    "ax2 = fig.add_axes([0.13, base - 0.20, 0.3, 0.20], xlabel=\"z_phot\", title=\"z_spec=\" + zspec)\n",
    "ax2.yaxis.set_label_position(\"right\")\n",
    "ax2.yaxis.set_ticks_position(\"right\")\n",
    "ax2.plot(zpdf[0, :], zpdf[1, :] / max(zpdf[1, :]), color=\"r\")\n",
    "ax2.plot(zpdf[0, :], zpdf[2, :] / max(zpdf[2, :]), color=\"b\")\n",
    "# plot also z_phot with error bar\n",
    "# ax2.errorbar(zphot,0.5,fmt='ok',xerr=[[zphot-z68low],[z68hig-zphot]],mfc='none')"
   ]
  },
  {
   "cell_type": "code",
   "execution_count": null,
   "id": "10070689-2ec8-4026-9099-3ae338547281",
   "metadata": {},
   "outputs": [],
   "source": [
    "len(lf), len(mag), len(em)"
   ]
  },
  {
   "cell_type": "code",
   "execution_count": null,
   "id": "91662789-3275-420c-b07b-49de15d35feb",
   "metadata": {},
   "outputs": [],
   "source": [
    "zarr = src.pdfmap[11].xaxis\n",
    "zgmin = src.pdfmap[lp.maptype[\"MIN_ZG\"]].vPDF\n",
    "zgbay = src.pdfmap[lp.maptype[\"BAY_ZG\"]].vPDF\n",
    "fig, ax1 = plt.subplots()\n",
    "ax1.set_title(\"Source Id: \" + src.spec)\n",
    "color = \"tab:red\"\n",
    "ax1.set_xlabel(\"z\")\n",
    "ax1.set_ylabel(\"marginalized pdf\", color=color)\n",
    "plt.plot(zarr, zgbay, color=color)\n",
    "ax1.tick_params(axis=\"y\", labelcolor=color)\n",
    "ax2 = ax1.twinx()\n",
    "color = \"tab:blue\"\n",
    "ax2.set_ylabel(\"chi2\", color=color)  # we already handled the x-label with ax1\n",
    "ax2.plot(zarr, -2 * np.log(zgmin), color=color)\n",
    "ax2.tick_params(axis=\"y\", labelcolor=color)\n",
    "ax2.set_xlim(src.zgmin[0] - src.zgmin[5], src.zgmin[0] + src.zgmin[6])\n",
    "fig.tight_layout()"
   ]
  },
  {
   "cell_type": "code",
   "execution_count": null,
   "id": "528e3c75-de65-4496-94b0-a432ed3c6335",
   "metadata": {},
   "outputs": [],
   "source": [
    "mask = np.array(src.pdfmap[10].chi2) < 1.0e9\n",
    "plt.plot(np.array(zarr)[mask], np.array(src.pdfmap[10].chi2)[mask])\n",
    "plt.xlim(0.0, 0.6)\n",
    "# plt.ylim(0, 2000)"
   ]
  }
 ],
 "metadata": {
  "kernelspec": {
   "display_name": "Python 3 (ipykernel)",
   "language": "python",
   "name": "python3"
  },
  "language_info": {
   "codemirror_mode": {
    "name": "ipython",
    "version": 3
   },
   "file_extension": ".py",
   "mimetype": "text/x-python",
   "name": "python",
   "nbconvert_exporter": "python",
   "pygments_lexer": "ipython3",
   "version": "3.11.6"
  }
 },
 "nbformat": 4,
 "nbformat_minor": 5
}
