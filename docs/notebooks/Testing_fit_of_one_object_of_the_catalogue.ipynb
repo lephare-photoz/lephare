{
 "cells": [
  {
   "cell_type": "code",
   "execution_count": 1,
   "id": "9bd3a255",
   "metadata": {},
   "outputs": [],
   "source": [
    "import os\n",
    "\n",
    "os.environ[\"LEPHAREDIR\"] = \"/home/oilbert/LEPHARE\"\n",
    "os.environ[\"LEPHAREWORK\"] = \"/home/oilbert/LEPHARE/tests/WORK\""
   ]
  },
  {
   "cell_type": "code",
   "execution_count": 2,
   "id": "c216257a",
   "metadata": {},
   "outputs": [],
   "source": [
    "from lephare import *\n",
    "import numpy as np\n",
    "from matplotlib import pylab as plt\n",
    "\n",
    "%matplotlib inline"
   ]
  },
  {
   "cell_type": "code",
   "execution_count": 3,
   "id": "44008b8d",
   "metadata": {},
   "outputs": [
    {
     "name": "stdout",
     "output_type": "stream",
     "text": [
      "Number of keywords read in the config file: 93\n"
     ]
    }
   ],
   "source": [
    "keymap = read_config(\"../examples/COSMOS.para\")"
   ]
  },
  {
   "cell_type": "code",
   "execution_count": 4,
   "id": "753f204c",
   "metadata": {},
   "outputs": [],
   "source": [
    "keymap[\"ZPHOTLIB\"] = keyword(\"ZPHOTLIB\", \"VISTA_COSMOS_FREE,ALLSTAR_COSMOS,QSO_COSMOS\")\n",
    "keymap[\"CAT_IN\"] = keyword(\"CAT_IN\", \"$LEPHAREDIR/examples/COSMOS.in\")\n",
    "keymap[\"CAT_OUT\"] = keyword(\"CAT_OUT\", \"zphot_short.out\")\n",
    "keymap[\"ADD_EMLINES\"] = keyword(\"ADD_EMLINES\", \"0,100\")\n",
    "keymap[\"AUTO_ADAPT\"] = keyword(\"ADD_EMLINES\", \"YES\")\n",
    "keymap[\"Z_STEP\"] = keyword(\"Z_STEP\", \"0.04,0,6\")\n",
    "keymap[\"CAT_LINES\"] = keyword(\"CAT_LINES\", \"1,100\")\n",
    "keymap[\"SPEC_OUT\"] = keyword(\"SPEC_OUT\", \"YES\")\n",
    "keymap[\"PARA_OUT\"] = keyword(\"PARA_OUT\", \"$LEPHAREDIR/examples/output.para\")\n",
    "keymap[\"VERBOSE\"] = keyword(\"VERBOSE\", \"NO\")\n",
    "keymap[\"ZFIX\"] = keyword(\"ZFIX\", \"YES\")"
   ]
  },
  {
   "cell_type": "code",
   "execution_count": 5,
   "id": "6177c58b",
   "metadata": {},
   "outputs": [
    {
     "name": "stdout",
     "output_type": "stream",
     "text": [
      "####################################### \n",
      "# PHOTOMETRIC REDSHIFT with OPTIONS   # \n",
      "# Config file            : \n",
      "# CAT_IN                 : /home/oilbert/LEPHARE/examples/COSMOS.in\n",
      "# CAT_OUT                : zphot_short.out\n",
      "# CAT_LINES              : 1 100\n",
      "# PARA_OUT               : /home/oilbert/LEPHARE/examples/output.para\n",
      "# INP_TYPE               : F\n",
      "# CAT_FMT[0:MEME 1:MMEE] : 0\n",
      "# CAT_MAG                : AB\n",
      "# ZPHOTLIB               : VISTA_COSMOS_FREE ALLSTAR_COSMOS QSO_COSMOS \n",
      "# FIR_LIB                : \n",
      "# FIR_LMIN               : 7.000000\n",
      "# FIR_CONT               : -1.000000\n",
      "# FIR_SCALE              : -1.000000\n",
      "# FIR_FREESCALE          : YES\n",
      "# FIR_SUBSTELLAR         : NO\n",
      "# ERR_SCALE              : 0.020000 0.020000 0.020000 0.020000 0.020000 0.020000 0.020000 0.050000 0.050000 0.050000 0.050000 0.020000 0.020000 0.020000 0.020000 0.020000 0.020000 0.020000 0.020000 0.020000 0.020000 0.020000 0.020000 0.050000 0.050000 0.050000 0.050000 0.100000 0.200000 0.300000 \n",
      "# ERR_FACTOR             : 1.500000 \n",
      "# GLB_CONTEXT            : 0\n",
      "# FORB_CONTEXT           : -1\n",
      "# DZ_WIN                 : 1.000000\n",
      "# MIN_THRES              : 0.020000\n",
      "# MAG_ABS                : -24.000000 -5.000000\n",
      "# MAG_ABS_AGN            : -30.000000 -10.000000\n",
      "# MAG_REF                : 2\n",
      "# NZ_PRIOR               : -2 -2\n",
      "# Z_INTERP               : YES\n",
      "# Z_METHOD               : BEST\n",
      "# PROB_INTZ              : 0.000000 \n",
      "# MABS_METHOD            : 1\n",
      "# MABS_CONTEXT           : 33556478 \n",
      "# MABS_REF               : 10 \n",
      "# ADAPT_BAND             : 4\n",
      "# ADAPT_LIM              : 1.500000 20.500000\n",
      "# ADAPT_ZBIN             : 0.010000 6.000000\n",
      "# ZFIX                   : YES\n",
      "# SPEC_OUT               : YES\n",
      "# CHI_OUT                : NO\n",
      "# PDZ_OUT                : test\n",
      "####################################### \n",
      "Reading input librairies ...\n",
      "Read lib \n",
      "Number of keywords to be read in the doc: 14\n",
      "Number of keywords read at the command line (excluding -c config): 0\n",
      "Reading keywords from /home/oilbert/LEPHARE/tests/WORK/lib_mag/QSO_COSMOS.doc\n",
      "Number of keywords read in the config file: 17\n",
      "Keyword NUMBER_ROWS not provided \n",
      "Keyword NUMBER_SED not provided \n",
      "Keyword Z_FORM not provided \n",
      "Reading library: /home/oilbert/LEPHARE/tests/WORK/lib_mag/QSO_COSMOS.bin\n",
      " Done with the library reading with 8456 SED read. \n",
      "Number of keywords to be read in the doc: 14\n",
      "Number of keywords read at the command line (excluding -c config): 0\n",
      "Reading keywords from /home/oilbert/LEPHARE/tests/WORK/lib_mag/ALLSTAR_COSMOS.doc\n",
      "Number of keywords read in the config file: 17\n",
      "Keyword NUMBER_ROWS not provided \n",
      "Keyword NUMBER_SED not provided \n",
      "Keyword Z_FORM not provided \n",
      "Reading library: /home/oilbert/LEPHARE/tests/WORK/lib_mag/ALLSTAR_COSMOS.bin\n",
      " Done with the library reading with 8710 SED read. \n",
      "Number of keywords to be read in the doc: 14\n",
      "Number of keywords read at the command line (excluding -c config): 0\n",
      "Reading keywords from /home/oilbert/LEPHARE/tests/WORK/lib_mag/VISTA_COSMOS_FREE.doc\n",
      "Number of keywords read in the config file: 17\n",
      "Keyword NUMBER_ROWS not provided \n",
      "Keyword NUMBER_SED not provided \n",
      "Keyword Z_FORM not provided \n",
      "Reading library: /home/oilbert/LEPHARE/tests/WORK/lib_mag/VISTA_COSMOS_FREE.bin\n",
      " Done with the library reading with 215580 SED read. \n",
      "Read lib out \n",
      "Read filt \n",
      "# NAME                        IDENT      Lbda_mean Lbeff(Vega)       FWHM     AB-cor      VEGA   CALIB    Fac_corr\n",
      "u_cfht.lowres                 1             0.3852      0.3914      0.0497    0.3015  -20.6300       0      1.0000\n",
      "u_new.pb                      2             0.3695      0.3754      0.0414    0.6072  -20.8400       0      1.0000\n",
      "gHSC.pb                       3             0.4867      0.4778      0.1090   -0.0838  -20.7400       0      1.0000\n",
      "rHSC.pb                       4             0.6257      0.6158      0.1526    0.1498  -21.5200       0      1.0000\n",
      "iHSC.pb                       5             0.7729      0.7649      0.1477    0.3962  -22.2300       0      1.0000\n",
      "zHSC.pb                       6             0.8918      0.8910      0.0767    0.5167  -22.6700       0      1.0000\n",
      "yHSC.pb                       7             0.9806      0.9775      0.0802    0.5540  -22.9200       0      1.0000\n",
      "Y.lowres                      8             1.0230      1.0200      0.0917    0.6049  -23.0600       0      1.0000\n",
      "J.lowres                      9             1.2570      1.2490      0.1706    0.9242  -23.8200       0      1.0000\n",
      "H.lowres                      10            1.6520      1.6370      0.2888    1.3720  -24.8600       0      1.0000\n",
      "K.lowres                      11            2.1600      2.1450      0.2922    1.8350  -25.9100       0      1.0000\n",
      "IB427.lowres                  12            0.4264      0.4256      0.0205   -0.1437  -20.4100       0      1.0000\n",
      "IB464.lowres                  13            0.4637      0.4634      0.0218   -0.1519  -20.5900       0      1.0000\n",
      "IB484.lowres                  14            0.4851      0.4847      0.0228   -0.0238  -20.8100       0      1.0000\n",
      "IB505.lowres                  15            0.5064      0.5061      0.0230   -0.0655  -20.8600       0      1.0000\n",
      "IB527.lowres                  16            0.5263      0.5260      0.0241   -0.0259  -20.9900       0      1.0000\n",
      "IB574.lowres                  17            0.5767      0.5763      0.0272    0.0658  -21.2800       0      1.0000\n",
      "IB624.lowres                  18            0.6235      0.6231      0.0300    0.1529  -21.5300       0      1.0000\n",
      "IB679.lowres                  19            0.6783      0.6779      0.0336    0.2543  -21.8200       0      1.0000\n",
      "IB709.lowres                  20            0.7076      0.7071      0.0314    0.2983  -21.9500       0      1.0000\n",
      "IB738.lowres                  21            0.7363      0.7359      0.0324    0.3461  -22.0900       0      1.0000\n",
      "IB767.lowres                  22            0.7687      0.7682      0.0363    0.3993  -22.2400       0      1.0000\n",
      "IB827.lowres                  23            0.8247      0.8242      0.0344    0.4892  -22.4800       0      1.0000\n",
      "NB711.lowres                  24            0.7120      0.7120      0.0073    0.3072  -21.9800       0      1.0000\n",
      "NB816.lowres                  25            0.8150      0.8149      0.0120    0.4713  -22.4300       0      1.0000\n",
      "NB118.lowres                  26            1.1910      1.1910      0.0112    0.8376  -23.6200       0      1.0000\n",
      "irac_ch1.lowres               27            3.5830      3.5330      0.7367    2.7990  -27.9700       1      1.0040\n",
      "irac_ch2.lowres               28            4.5380      4.4700      1.0090    3.2670  -28.9500       1      1.0040\n",
      "irac_ch3.lowres               29            5.8010      5.6910      1.3270    3.7590  -29.9700       1      1.0050\n",
      "irac_ch4.lowres               30            8.0860      7.7460      2.8000    4.4080  -31.3200       1      1.0110\n"
     ]
    }
   ],
   "source": [
    "photz = PhotoZ(keymap)"
   ]
  },
  {
   "cell_type": "code",
   "execution_count": 6,
   "id": "3ddc8265",
   "metadata": {},
   "outputs": [],
   "source": [
    "filts = filterSvc.FilterSvc.from_config(\"../examples/COSMOS.para\")"
   ]
  },
  {
   "cell_type": "code",
   "execution_count": 7,
   "id": "5120e1b9",
   "metadata": {},
   "outputs": [],
   "source": [
    "# for filt in filts:\n",
    "#    plt.figure()\n",
    "#    filt.plot_filter_curve()"
   ]
  },
  {
   "cell_type": "code",
   "execution_count": 8,
   "id": "16f36792",
   "metadata": {},
   "outputs": [],
   "source": [
    "# megacam_u = filterSvc.FilterSvc.from_svo(0,'CFHT/MegaCam.u')"
   ]
  },
  {
   "cell_type": "code",
   "execution_count": 9,
   "id": "8219b9cc",
   "metadata": {},
   "outputs": [],
   "source": [
    "# lephare_megacam_u = FilterSvc.from_file('../filt/cosmos/u_new.pb', 0, 1, 0)"
   ]
  },
  {
   "cell_type": "code",
   "execution_count": 10,
   "id": "6d5fb175",
   "metadata": {},
   "outputs": [],
   "source": [
    "# megacam_u.plot_filter_curve()\n",
    "# filts[1].plot_filter_curve()"
   ]
  },
  {
   "cell_type": "code",
   "execution_count": 11,
   "id": "05816fb0",
   "metadata": {},
   "outputs": [],
   "source": [
    "ztyp = keymap[\"ZGRID_TYPE\"].split_int(\"\", 1)[0]\n",
    "dz, zmin, zmax = keymap[\"Z_STEP\"].split_double(\"\", 3)\n",
    "gridz = zgrid(ztyp, dz, zmin, zmax)\n",
    "\n",
    "H0, om0, lbd0 = keymap[\"COSMOLOGY\"].split_double(\"\", 3)\n",
    "lcdm = cosmo(H0, om0, lbd0)"
   ]
  },
  {
   "cell_type": "code",
   "execution_count": 12,
   "id": "1ba5602e",
   "metadata": {},
   "outputs": [],
   "source": [
    "cat = np.loadtxt(\"../examples/COSMOS.in\")\n",
    "nfilt = 30\n",
    "pos = 57\n",
    "entry = cat[pos]\n",
    "identifier = str(entry[0])\n",
    "fluxes = entry[np.arange(1, nfilt * 2 + 1, 2)]\n",
    "efluxes = entry[np.arange(1, nfilt * 2 + 1, 2) + 1]\n",
    "context = int(entry[-3])\n",
    "zspec = entry[-2]\n",
    "additional_str = str(entry[-1])"
   ]
  },
  {
   "cell_type": "code",
   "execution_count": 13,
   "id": "e15823d8",
   "metadata": {},
   "outputs": [],
   "source": [
    "src = onesource(0, gridz)\n",
    "src.readsource(identifier, fluxes, efluxes, context, zspec, additional_str)"
   ]
  },
  {
   "cell_type": "code",
   "execution_count": 14,
   "id": "ac0e6cfb",
   "metadata": {},
   "outputs": [],
   "source": [
    "gbcont = keymap[\"GLB_CONTEXT\"].split_int(\"\", 1)[0]\n",
    "contforb = keymap[\"FORB_CONTEXT\"].split_int(\"\", 1)[0]\n",
    "# bdscal = keymap[\"BD_SCALE\"].split_int(\"\",1)[0]\n",
    "\n",
    "src.fltUsed(gbcont, contforb, nfilt)\n",
    "if False:  # this should be the test on cattype\n",
    "    src.convertFlux(\"AB\", filts)\n",
    "src.convertMag()\n",
    "min_err = keymap[\"ERR_SCALE\"].split_double(\"0.0\", -1)\n",
    "fac_err = keymap[\"ERR_FACTOR\"].split_double(\"1.0\", -1)\n",
    "src.errors(min_err, fac_err, nfilt)\n",
    "src.keepOri()\n",
    "src.closest_red = gridz[indexz(src.zs, gridz)]\n",
    "zrange = [0, 0]\n",
    "ebvrange = [0, 0]\n",
    "mass_scale = [0, 0]\n",
    "magabsB = [0, 0]\n",
    "magabsF = [0, 0]\n",
    "zrange[0] = ((keymap[\"Z_RANGE\"]).split_double(\"0\", 2))[0]\n",
    "zrange[1] = ((keymap[\"Z_RANGE\"]).split_double(\"1000\", 2))[1]\n",
    "ebvrange[0] = ((keymap[\"EBV_RANGE\"]).split_double(\"0\", 2))[0]\n",
    "ebvrange[1] = ((keymap[\"EBV_RANGE\"]).split_double(\"1000\", 2))[1]\n",
    "# mass_scale[0]  =((keymap[\"MASS_SCALE\"]).split_double(\"0.\",2))[0];\n",
    "# mass_scale[1]  =((keymap[\"MASS_SCALE\"]).split_double(\"0.\",2))[1];\n",
    "magabsB[0] = ((keymap[\"MAG_ABS\"]).split_double(\"0.\", 2))[0]\n",
    "magabsF[0] = ((keymap[\"MAG_ABS\"]).split_double(\"0.\", 2))[1]\n",
    "if magabsB[0] > magabsF[0]:\n",
    "    inter = magabsF[0]\n",
    "    magabsF[0] = magabsB[0]\n",
    "    magabsB[0] = inter\n",
    "\n",
    "magabsB[1] = ((keymap[\"MAG_ABS_QSO\"]).split_double(\"0.\", 2))[0]\n",
    "magabsF[1] = ((keymap[\"MAG_ABS_QSO\"]).split_double(\"0.\", 2))[1]\n",
    "if magabsB[1] > magabsF[1]:\n",
    "    inter = magabsF[1]\n",
    "    magabsF[1] = magabsB[1]\n",
    "    magabsB[1] = inter\n",
    "\n",
    "src.setPriors(magabsB, magabsF)"
   ]
  },
  {
   "cell_type": "code",
   "execution_count": 15,
   "id": "c70de034",
   "metadata": {},
   "outputs": [],
   "source": [
    "zfix = False\n",
    "lmasi = 0.0\n",
    "lmass = 0.0\n",
    "magabsB = [-24.0, -30.0]\n",
    "magabsF = [-5.0, -10.0]\n",
    "funz0 = lcdm.distMod(gridz[1] / 20.0)\n",
    "bp = [-2, -2]"
   ]
  },
  {
   "cell_type": "code",
   "execution_count": 16,
   "id": "d1c57152-27b7-4df1-a9dd-743d7d3d0f6d",
   "metadata": {},
   "outputs": [],
   "source": [
    "valid = src.validLib(photz.fullLib, zfix, src.zs)"
   ]
  },
  {
   "cell_type": "code",
   "execution_count": 17,
   "id": "f0460941-beec-4534-97cc-bba8d21ef127",
   "metadata": {},
   "outputs": [],
   "source": [
    "src.fit(photz.fullLib, photz.flux, valid, funz0, bp)"
   ]
  },
  {
   "cell_type": "code",
   "execution_count": 18,
   "id": "960042e7-31e9-4775-b834-e659fa9c021a",
   "metadata": {},
   "outputs": [],
   "source": [
    "src.rm_discrepant(photz.fullLib, photz.flux, valid, funz0, bp, 500.0, True)"
   ]
  },
  {
   "cell_type": "code",
   "execution_count": 19,
   "id": "3e8c6cb0",
   "metadata": {},
   "outputs": [
    {
     "data": {
      "text/plain": [
       "('58.0', [147792, 4840, 8523], 0.0)"
      ]
     },
     "execution_count": 19,
     "metadata": {},
     "output_type": "execute_result"
    }
   ],
   "source": [
    "src.spec, src.indmin, src.consiz"
   ]
  },
  {
   "cell_type": "code",
   "execution_count": 21,
   "id": "4e0280b3",
   "metadata": {},
   "outputs": [],
   "source": [
    "src.generatePDF(photz.fullLib, valid, [32, 4, 4, 13], -1, zfix)\n",
    "src.interp(zfix, True, lcdm)"
   ]
  },
  {
   "cell_type": "code",
   "execution_count": 22,
   "id": "4bb6cf00",
   "metadata": {},
   "outputs": [],
   "source": [
    "src.uncertaintiesMin()\n",
    "src.uncertaintiesBay()\n",
    "src.secondpeak(photz.fullLib, 0.3, 0.02)\n",
    "src.considered_red(zfix, \"BEST\")\n",
    "src.interp_lib(photz.fullLib, nfilt, lcdm)"
   ]
  },
  {
   "cell_type": "code",
   "execution_count": 23,
   "id": "2453e99a",
   "metadata": {},
   "outputs": [],
   "source": [
    "method = keymap[\"MABS_METHOD\"].split_int(\"0\", -1)[0]\n",
    "magabscont = keymap[\"MABS_CONTEXT\"].split_long(\"0\", -1)\n",
    "bapp = np.asarray(keymap[\"MABS_REF\"].split_int(\"1\", -1)) - 1\n",
    "bappOp = np.asarray(keymap[\"MABS_FILT\"].split_int(\"1\", -1)) - 1\n",
    "nbBinZ = len(bappOp)\n",
    "zbmin = keymap[\"MABS_ZBIN\"].split_double(\"0\", nbBinZ + 1)\n",
    "zbmax = keymap[\"MABS_ZBIN\"].split_double(\"6\", nbBinZ + 1)\n",
    "zbmin = zbmin[:-1]\n",
    "zbmax = zbmin[1:]\n",
    "goodFlt = bestFilter(nfilt, gridz, photz.fullLib, method, magabscont, bapp, bappOp, zbmin, zbmax)\n",
    "maxkcol = maxkcolor(gridz, photz.fullLib, goodFlt)\n",
    "\n",
    "src.absmag(goodFlt, maxkcol, lcdm, gridz)"
   ]
  },
  {
   "cell_type": "code",
   "execution_count": 24,
   "id": "e99dfb4f",
   "metadata": {},
   "outputs": [],
   "source": [
    "limits_zbin = keymap[\"LIMITS_ZBIN\"].split_double(\"0.0,90.\", -1)\n",
    "nzbin = len(limits_zbin) - 1\n",
    "limits_ref = keymap[\"LIMITS_MAPP_REF\"].split_int(\"1\", 1)[0]\n",
    "limits_sel = keymap[\"LIMITS_MAPP_SEL\"].split_int(\"1\", nzbin)\n",
    "limits_cut = keymap[\"LIMITS_MAPP_CUT\"].split_double(\"90.\", nzbin)\n",
    "src.limits(photz.fullLib, limits_zbin, limits_ref, limits_sel, limits_cut)"
   ]
  },
  {
   "cell_type": "code",
   "execution_count": 25,
   "id": "c556a22d",
   "metadata": {},
   "outputs": [],
   "source": [
    "opaOut = GalMag.read_opa()\n",
    "src.computeEmFlux(photz.fullLib, lcdm, opaOut)"
   ]
  },
  {
   "cell_type": "code",
   "execution_count": 26,
   "id": "a7693c43",
   "metadata": {},
   "outputs": [],
   "source": [
    "# %load_ext autoreload\n",
    "# %autoreload 2\n",
    "# import lephare\n",
    "# from lephare import *\n",
    "minl = 1.0e10\n",
    "maxl = 0\n",
    "for f in filts:\n",
    "    if minl > f.lmean - 2 * f.dwidth:\n",
    "        minl = f.lmean - 2 * f.dwidth\n",
    "    if maxl < f.lmean + 2 * f.dwidth:\n",
    "        maxl = f.lmean + 2 * f.dwidth"
   ]
  },
  {
   "cell_type": "code",
   "execution_count": 27,
   "id": "e523a85e",
   "metadata": {},
   "outputs": [],
   "source": [
    "gal1 = src.best_spec_vec(0, photz.fullLib, lcdm, opaOut, minl, maxl)\n",
    "gal2 = src.best_spec_vec(1, photz.fullLib, lcdm, opaOut, minl, maxl)\n",
    "fir = src.best_spec_vec(2, photz.fullLibIR, lcdm, opaOut, minl, maxl)\n",
    "qso = src.best_spec_vec(3, photz.fullLib, lcdm, opaOut, minl, maxl)\n",
    "star = src.best_spec_vec(4, photz.fullLib, lcdm, opaOut, minl, maxl)"
   ]
  },
  {
   "cell_type": "code",
   "execution_count": 28,
   "id": "bbf5068e",
   "metadata": {},
   "outputs": [],
   "source": [
    "models_info = []  # à remplir\n",
    "if src.indmin[0] >= 0:\n",
    "    models_info.append(\n",
    "        [\n",
    "            \"GAL-1\",\n",
    "            len(gal1[0]),\n",
    "            str(src.imasmin[0]),\n",
    "            \"1\",\n",
    "            str(src.nbused),\n",
    "            str(src.consiz),\n",
    "            src.zgmin[1],\n",
    "            src.zgmin[2],\n",
    "            src.chimin[0],\n",
    "            \"-1\",\n",
    "            photz.fullLib[src.indmin[0]].extlawId,\n",
    "            photz.fullLib[src.indmin[0]].ebv,\n",
    "            src.Ldustmed[0],\n",
    "            src.agemed[0],\n",
    "            src.massmed[0],\n",
    "            src.SFRmed[0],\n",
    "            src.sSFRmed[0],\n",
    "        ]\n",
    "    )\n",
    "else:\n",
    "    models_info.append([\"GAL-1 0 -1 -1 -1 -1. -1. -1. -1. -1. -1 -1. -1. -1. -1. -1. -1.\".split()])\n",
    "\n",
    "# second solution\n",
    "if src.indminSec >= 0:\n",
    "    models_info.append(\n",
    "        [\n",
    "            \"GAL-2\",\n",
    "            len(gal2[0]),\n",
    "            str(src.zsecMod),\n",
    "            \"1\",\n",
    "            str(src.nbused),\n",
    "            src.zsec,\n",
    "            \"-1\",\n",
    "            \"-1\",\n",
    "            src.zsecChi2,\n",
    "            src.zsecProb,\n",
    "        ]\n",
    "        + \"-1 -1. -1. -1. -1. -1. -1.\".split()\n",
    "    )\n",
    "else:\n",
    "    models_info.append(\"GAL-2 0 -1 -1 -1 -1. -1. -1. -1. -1. -1 -1. -1. -1. -1. -1. -1.\".split())\n",
    "\n",
    "# Galaxy FIR\n",
    "if src.indminIR >= 0:\n",
    "    models_info.append(\n",
    "        [\n",
    "            \"GAL-FIR\",\n",
    "            len(fir[0]),\n",
    "            imasminIR,\n",
    "            \"1\",\n",
    "            src.nbused,\n",
    "            src.zminIR,\n",
    "            \"-1 -1\".split(),\n",
    "            src.chiminIR,\n",
    "            \"0 -1 -1\".split(),\n",
    "            src.LIRml,\n",
    "        ]\n",
    "        + \"-1 -1 -1 -1\".split()\n",
    "    )\n",
    "else:\n",
    "    models_info.append(\"GAL-FIR 0 -1 -1 -1 -1. -1. -1. -1. -1. -1 -1. -1. -1. -1. -1. -1.\".split())\n",
    "\n",
    "## STOCH\n",
    "##models_info.append(\"GAL-STOCH 0 -1 -1 -1 -1. -1. -1. -1. -1. -1 -1. -1. -1. -1. -1. -1.\".split())\n",
    "\n",
    "# QSO\n",
    "if src.zmin[1] > 0:\n",
    "    models_info.append(\n",
    "        [\n",
    "            \"QSO\",\n",
    "            len(qso[0]),\n",
    "            str(src.imasmin[1]),\n",
    "            \"2\",\n",
    "            str(src.nbused),\n",
    "            str(src.zmin[1]),\n",
    "            \"0\",\n",
    "            \"0\",\n",
    "            src.chimin[1],\n",
    "        ]\n",
    "        + \"0. -1 -1. -1. -1. -1. -1. -1.\".split()\n",
    "    )\n",
    "\n",
    "else:\n",
    "    models_info.append(\"QSO 0 -1 -1 -1 -1. -1. -1. -1. -1. -1 -1. -1. -1. -1. -1. -1.\".split())\n",
    "\n",
    "# STAR\n",
    "if src.chimin[2] > 0:\n",
    "    models_info.append(\n",
    "        [\"STAR\", len(star[0]), str(src.imasmin[2]), \"3\", str(src.nbused), \"0\", \"0\", \"0\", src.chimin[2]]\n",
    "        + \"0. -1 -1. -1. -1. -1. -1. -1.\".split()\n",
    "    )\n",
    "else:\n",
    "    models_info.append(\"STAR 0 -1 -1 -1 -1. -1. -1. -1. -1. -1 -1. -1. -1. -1. -1. -1.\".split())"
   ]
  },
  {
   "cell_type": "code",
   "execution_count": 29,
   "id": "81a78f5e",
   "metadata": {},
   "outputs": [],
   "source": [
    "id = src.spec\n",
    "zspec = str(src.zs)\n",
    "zphot = src.consiz\n",
    "nfilt = len(filts)\n",
    "npdf = src.pdfmap[maptype[\"MIN_ZG\"]].size()\n",
    "mag = np.array(src.mab)\n",
    "em = np.array(src.msab)\n",
    "lf = np.array([f.lmean * 10000 for f in filts])\n",
    "dlf = np.array([f.dwidth * 10000 for f in filts])\n",
    "zpdf = np.zeros((3, npdf))\n",
    "zpdf[0, :] = src.pdfmap[maptype[\"BAY_ZG\"]].xaxis\n",
    "zpdf[1, :] = src.pdfmap[maptype[\"BAY_ZG\"]].vPDF\n",
    "zpdf[2, :] = src.pdfmap[maptype[\"MIN_ZG\"]].vPDF\n",
    "lg = []\n",
    "mg = []\n",
    "for sol in [gal1, gal2, fir, qso, star]:\n",
    "    lg.append(np.array(sol[0]))\n",
    "    mg.append(-0.4 * (np.array(sol[1]) - 23.91))  # logFnu"
   ]
  },
  {
   "cell_type": "code",
   "execution_count": 30,
   "id": "f1990b2e",
   "metadata": {},
   "outputs": [
    {
     "data": {
      "text/plain": [
       "242.071742512102"
      ]
     },
     "execution_count": 30,
     "metadata": {},
     "output_type": "execute_result"
    }
   ],
   "source": [
    "filts[15].dwidth"
   ]
  },
  {
   "cell_type": "code",
   "execution_count": 31,
   "id": "5cd86a57",
   "metadata": {},
   "outputs": [
    {
     "name": "stdout",
     "output_type": "stream",
     "text": [
      "[1.12388592e-02 7.77853017e-03 1.39032683e-02 9.52921883e-03\n",
      " 7.89208635e-03 8.94837594e-03 1.04938188e-02 8.41567695e-03\n",
      " 8.39705407e-03 1.11834102e-02 1.44291744e-02 3.14066371e-02\n",
      " 4.68799473e-02 1.94906644e-02 2.63779952e-02 1.81663295e-02\n",
      " 2.05584505e-02 1.07269863e-02 1.59638588e-02 1.37679320e-02\n",
      " 1.19436446e-02 2.02561953e-02 1.71420320e-02 2.01001774e-02\n",
      " 1.45794927e-02 3.68010688e-02 1.45575013e-02 2.13252223e-02\n",
      " 2.00000000e+03 2.00000000e+03]\n"
     ]
    },
    {
     "data": {
      "text/plain": [
       "[<matplotlib.lines.Line2D at 0x7f96fb8cb160>]"
      ]
     },
     "execution_count": 31,
     "metadata": {},
     "output_type": "execute_result"
    },
    {
     "data": {
      "image/png": "[encoded data removed]",
      "text/plain": [
       "<Figure size 640x480 with 2 Axes>"
      ]
     },
     "metadata": {},
     "output_type": "display_data"
    }
   ],
   "source": [
    "##############  PLOT  ############### FROM SPEC.PY\n",
    "\n",
    "### Initialise the figure\n",
    "fig = plt.figure()\n",
    "\n",
    "### Main panel\n",
    "ax1 = fig.add_axes(\n",
    "    [0.1, 0.1, 0.78, 0.78], xscale=\"log\", xlabel=\"$\\lambda$ [$\\mu$m]\", ylabel=\"log(F$_{\\\\nu}$) [$\\mu$Jy]\"\n",
    ")\n",
    "\n",
    "# only the reliable obs mag will be plotted:\n",
    "em = em * 2.0\n",
    "dlf = dlf / 2.0\n",
    "mag1 = mag[(mag > 0.0) & (mag < 35) & (em > -3)]\n",
    "em1 = em[(mag > 0.0) & (mag < 35) & (em > -3)]\n",
    "lf1 = lf[(mag > 0.0) & (mag < 35) & (em > -3)] / 10000.0\n",
    "dlf1 = dlf[(mag > 0.0) & (mag < 35) & (em > -3)] / 10000.0\n",
    "\n",
    "if len(mag1 > 0):\n",
    "    ymin = max(mag1 + 2.0)\n",
    "    ymax = min(mag1 - 4.0)\n",
    "else:\n",
    "    ymin = 10\n",
    "    ymax = 20\n",
    "if ymin > 60:\n",
    "    ymin = 30\n",
    "\n",
    "ic = (em1 >= 0.0) & (em1 < 2.0)\n",
    "lf2 = lf1[ic]\n",
    "mag2 = -0.4 * (mag1[ic] - 23.91)\n",
    "em2 = 0.4 * em1[ic]\n",
    "dlf2 = dlf1[ic]\n",
    "# low S/N bands:\n",
    "ic2 = (em1 >= 2.0) & (em1 < 8.0)\n",
    "lf2b = lf1[ic2]\n",
    "mag2b = -0.4 * (mag1[ic2] - 23.91)\n",
    "em2b = 0.4 * em1[ic2]\n",
    "dlf2b = dlf1[ic2]\n",
    "\n",
    "print(em)\n",
    "# set the plot aspect\n",
    "if len(lf1 > 0):\n",
    "    ax1.axis([min(lf1) * 0.85, max(lf1) * 1.2, -0.4 * (ymin - 23.91), -0.4 * (ymax - 23.91)])\n",
    "else:\n",
    "    ax1.axis([0, 100000, -0.4 * (ymin - 23.91), -0.4 * (ymax - 23.91)])\n",
    "### plot SED and print info of best-fit models\n",
    "col_lst = [\"r\", \"g\", \"b\", \"m\", \"y\"]  # each one with a different color\n",
    "plt.figtext(\n",
    "    0.15,\n",
    "    0.96,\n",
    "    \" Type: (Model Library Nband) z_phot  Chi^2,  Extlaw  EB-V  Lir  Age  logM*  logSFR\",\n",
    "    size=\"small\",\n",
    ")\n",
    "plt.figtext(0.73, 0.12, \"ID=\" + id, size=\"small\")\n",
    "iml = 0\n",
    "for im in range(len(models_info)):\n",
    "    if int(models_info[im][2]) == -1:\n",
    "        continue  # print only models really used\n",
    "    iml = iml + 1  # counter of models used\n",
    "    ax1.plot(lg[im], mg[im], color=col_lst[im])  # plot the SED\n",
    "    del models_info[im][6:8]  # do not print z_inf and z_sup\n",
    "    del models_info[im][-1]  # nor sSFR\n",
    "    info1 = (\"  \".join([\"%.3f\"] * len(models_info[im][5:7]))) % tuple(\n",
    "        [float(j) for j in models_info[im][5:7]]\n",
    "    )\n",
    "    if float(models_info[im][8]) >= 0.0:  # additional information\n",
    "        info2 = (\"   \".join([\"%.2f\"] * len(models_info[im][8:]))) % tuple(\n",
    "            [float(j) for j in models_info[im][8:]]\n",
    "        )\n",
    "        info2 = \",  \" + info2 + \".\"\n",
    "    else:\n",
    "        info2 = \".\"\n",
    "    infol = models_info[im][0] + \": (\" + \" \".join(models_info[im][2:5]) + \")  \" + info1 + info2\n",
    "    plt.figtext(0.15, 0.96 - 0.02 * iml, infol, color=col_lst[im], size=\"x-small\")  # print the rest\n",
    "\n",
    "# plot the obs mag...\n",
    "ax1.errorbar(lf2b, mag2b, yerr=em2b, xerr=dlf2b, fmt=\"o\", color=\"0.6\")\n",
    "ax1.errorbar(lf2, mag2, yerr=em2, xerr=dlf2, fmt=\"o\", color=\"0.\")\n",
    "# ... and upper limits\n",
    "iu = np.where(em1 < 0)\n",
    "if len(iu[0]) > 0:\n",
    "    lf3 = lf1[iu]\n",
    "    mag3 = -0.4 * (mag1[iu] - 23.91)\n",
    "    ax1.quiver(lf3, mag3, 0, -1, units=\"height\", width=0.004, headwidth=5, color=\"k\", pivot=\"tip\")\n",
    "\n",
    "### 2nd panel (inset) showing PDF(z)\n",
    "base = 0.9 - 0.02 * iml  # starting position for the inset plot\n",
    "if base > 0.84:\n",
    "    base = 0.84\n",
    "ax2 = fig.add_axes([0.13, base - 0.20, 0.3, 0.20], xlabel=\"z_phot\", title=\"z_spec=\" + zspec)\n",
    "ax2.yaxis.set_label_position(\"right\")\n",
    "ax2.yaxis.set_ticks_position(\"right\")\n",
    "ax2.plot(zpdf[0, :], zpdf[1, :] / max(zpdf[1, :]), color=\"r\")\n",
    "ax2.plot(zpdf[0, :], zpdf[2, :] / max(zpdf[2, :]), color=\"b\")\n",
    "# plot also z_phot with error bar\n",
    "# ax2.errorbar(zphot,0.5,fmt='ok',xerr=[[zphot-z68low],[z68hig-zphot]],mfc='none')"
   ]
  },
  {
   "cell_type": "code",
   "execution_count": 32,
   "id": "91662789-3275-420c-b07b-49de15d35feb",
   "metadata": {},
   "outputs": [
    {
     "name": "stderr",
     "output_type": "stream",
     "text": [
      "/tmp/ipykernel_4071833/940472326.py:14: RuntimeWarning: divide by zero encountered in log\n",
      "  ax2.plot(zarr, -2*np.log(zgmin), color=color)\n"
     ]
    },
    {
     "data": {
      "image/png": "[encoded data removed]",
      "text/plain": [
       "<Figure size 640x480 with 2 Axes>"
      ]
     },
     "metadata": {},
     "output_type": "display_data"
    }
   ],
   "source": [
    "zarr = src.pdfmap[11].xaxis\n",
    "zgmin = src.pdfmap[maptype[\"MIN_ZG\"]].vPDF\n",
    "zgbay = src.pdfmap[maptype[\"BAY_ZG\"]].vPDF\n",
    "fig, ax1 = plt.subplots()\n",
    "ax1.set_title(\"Source Id: \" + src.spec)\n",
    "color = \"tab:red\"\n",
    "ax1.set_xlabel(\"z\")\n",
    "ax1.set_ylabel(\"marginalized pdf\", color=color)\n",
    "plt.plot(zarr, zgbay, color=color)\n",
    "ax1.tick_params(axis=\"y\", labelcolor=color)\n",
    "ax2 = ax1.twinx()\n",
    "color = \"tab:blue\"\n",
    "ax2.set_ylabel(\"chi2\", color=color)  # we already handled the x-label with ax1\n",
    "ax2.plot(zarr, -2 * np.log(zgmin), color=color)\n",
    "ax2.tick_params(axis=\"y\", labelcolor=color)\n",
    "ax2.set_xlim(src.zgmin[0] - src.zgmin[5], src.zgmin[0] + src.zgmin[6])\n",
    "fig.tight_layout()"
   ]
  },
  {
   "cell_type": "code",
   "execution_count": 33,
   "id": "528e3c75-de65-4496-94b0-a432ed3c6335",
   "metadata": {},
   "outputs": [
    {
     "data": {
      "text/plain": [
       "(0.0, 2000.0)"
      ]
     },
     "execution_count": 33,
     "metadata": {},
     "output_type": "execute_result"
    },
    {
     "data": {
      "image/png": "[encoded data removed]",
      "text/plain": [
       "<Figure size 640x480 with 1 Axes>"
      ]
     },
     "metadata": {},
     "output_type": "display_data"
    }
   ],
   "source": [
    "mask = np.array(src.pdfmap[10].chi2) < 1.0e9\n",
    "plt.plot(np.array(zarr)[mask], np.array(src.pdfmap[10].chi2)[mask])\n",
    "plt.xlim(0.0, 0.6)\n",
    "plt.ylim(0, 2000)"
   ]
  },
  {
   "cell_type": "code",
   "execution_count": null,
   "id": "eddb8188-8e77-45d6-9927-7d5bc7382f17",
   "metadata": {},
   "outputs": [],
   "source": []
  },
  {
   "cell_type": "code",
   "execution_count": null,
   "id": "8b0e46ba-2aa7-41df-9a6e-d3caa47529ad",
   "metadata": {},
   "outputs": [],
   "source": []
  }
 ],
 "metadata": {
  "kernelspec": {
   "display_name": "Python 3 (ipykernel)",
   "language": "python",
   "name": "python3"
  },
  "language_info": {
   "codemirror_mode": {
    "name": "ipython",
    "version": 3
   },
   "file_extension": ".py",
   "mimetype": "text/x-python",
   "name": "python",
   "nbconvert_exporter": "python",
   "pygments_lexer": "ipython3",
   "version": "3.8.10"
  }
 },
 "nbformat": 4,
 "nbformat_minor": 5
}
