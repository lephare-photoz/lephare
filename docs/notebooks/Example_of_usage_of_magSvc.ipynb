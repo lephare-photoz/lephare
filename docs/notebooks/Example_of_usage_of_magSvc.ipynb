{
 "cells": [
  {
   "cell_type": "markdown",
   "id": "0f394e7f-ab7d-4010-95ac-4697749bfa36",
   "metadata": {},
   "source": [
    "# Example of MagSvc class"
   ]
  },
  {
   "cell_type": "code",
   "execution_count": null,
   "id": "ebb9f0ee",
   "metadata": {},
   "outputs": [],
   "source": [
    "import lephare as lp\n",
    "import numpy as np\n",
    "from matplotlib import pylab as plt\n",
    "from scipy import integrate as sciint\n",
    "import glob, time\n",
    "\n",
    "%matplotlib inline"
   ]
  },
  {
   "cell_type": "code",
   "execution_count": null,
   "id": "e29423bc",
   "metadata": {},
   "outputs": [],
   "source": [
    "config_file = \"./data/COSMOS.para\"\n",
    "keymap = lp.read_config(config_file)\n",
    "# Get the auxiliary files required.\n",
    "lp.data_retrieval.get_auxiliary_data(\n",
    "    keymap=keymap, additional_files=[\"sed/STAR/BD_NEW/lte012.0-4.0-0.0a+0.0.BT-Settl.spec.txt\"]\n",
    ")"
   ]
  },
  {
   "cell_type": "code",
   "execution_count": null,
   "id": "9b7206c1-5e69-4eab-8e4a-0683596a5400",
   "metadata": {},
   "outputs": [],
   "source": [
    "allFlt = lp.FilterSvc.from_config(config_file)"
   ]
  },
  {
   "cell_type": "code",
   "execution_count": null,
   "id": "046b4781",
   "metadata": {},
   "outputs": [],
   "source": [
    "sed = lp.StarSED(\"test\", 0)\n",
    "sed.read(f\"{lp.LEPHAREDIR}/sed/STAR/BD_NEW/lte012.0-4.0-0.0a+0.0.BT-Settl.spec.txt\")"
   ]
  },
  {
   "cell_type": "code",
   "execution_count": null,
   "id": "3056c57c",
   "metadata": {},
   "outputs": [],
   "source": [
    "opavec = lp.GalMag.read_opa()"
   ]
  },
  {
   "cell_type": "code",
   "execution_count": null,
   "id": "02e15c70-aece-4982-91c2-4d05916c61b1",
   "metadata": {},
   "outputs": [],
   "source": [
    "# We need the full previous stages to get the mags\n",
    "filterLib = lp.Filter(config_file=config_file)\n",
    "filterLib.run()\n",
    "sedlib = lp.Sedtolib(config_keymap=keymap)\n",
    "sedlib.run(typ=\"STAR\", star_sed=\"$LEPHAREDIR/sed/STAR/STAR_MOD_ALL.list\")\n",
    "sedlib.run(typ=\"QSO\", qso_sed=\"$LEPHAREDIR/sed/QSO/SALVATO09/AGN_MOD.list\", gal_lib=\"LIB_QSO\")\n",
    "sedlib.run(typ=\"GAL\", gal_sed=\"$LEPHAREDIR/examples/COSMOS_MOD.list\", gal_lib=\"LIB_GAL\")\n",
    "maglib = lp.MagGal(config_keymap=keymap)\n",
    "maglib.run(typ=\"STAR\", lib_ascii=\"YES\", star_lib_out=\"ALLSTAR_COSMOS\")\n",
    "maglib.run(\n",
    "    typ=\"QSO\",\n",
    "    lib_ascii=\"YES\",\n",
    "    mod_extinc=\"0,1000\",\n",
    "    eb_v=\"0.,0.1,0.2,0.3\",\n",
    "    extinc_law=\"SB_calzetti.dat\",\n",
    "    qso_lib_in=\"LIB_QSO\",\n",
    ")\n",
    "maglib.run(\n",
    "    typ=\"GAL\",\n",
    "    lib_ascii=\"YES\",\n",
    "    gal_lib_in=\"LIB_GAL\",\n",
    "    gal_lib_out=\"VISTA_COSMOS_FREE\",\n",
    "    mod_extinc=\"18,26,26,33,26,33,26,33\",\n",
    "    extinc_law=\"SMC_prevot.dat,SB_calzetti.dat,SB_calzetti_bump1.dat,SB_calzetti_bump2.dat\",\n",
    "    em_lines=\"EMP_UV\",\n",
    "    em_dispersion=\"0.5,0.75,1.,1.5,2.\",\n",
    ")"
   ]
  },
  {
   "cell_type": "code",
   "execution_count": null,
   "id": "fe5e0190",
   "metadata": {},
   "outputs": [],
   "source": [
    "mag = lp.MagSvc.from_config(\"Star\", config_file)"
   ]
  },
  {
   "cell_type": "code",
   "execution_count": null,
   "id": "bce7a3d2",
   "metadata": {},
   "outputs": [],
   "source": [
    "newsed = mag.make_maglib(sed)"
   ]
  },
  {
   "cell_type": "code",
   "execution_count": null,
   "id": "d49fc15f",
   "metadata": {},
   "outputs": [],
   "source": [
    "newsed[0].mag"
   ]
  }
 ],
 "metadata": {
  "kernelspec": {
   "display_name": "Python 3 (ipykernel)",
   "language": "python",
   "name": "python3"
  },
  "language_info": {
   "codemirror_mode": {
    "name": "ipython",
    "version": 3
   },
   "file_extension": ".py",
   "mimetype": "text/x-python",
   "name": "python",
   "nbconvert_exporter": "python",
   "pygments_lexer": "ipython3",
   "version": "3.11.6"
  }
 },
 "nbformat": 4,
 "nbformat_minor": 5
}
