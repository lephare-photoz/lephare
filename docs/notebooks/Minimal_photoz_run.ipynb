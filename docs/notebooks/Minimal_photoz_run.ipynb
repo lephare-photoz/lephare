{
 "cells": [
  {
   "cell_type": "markdown",
   "id": "1f14e730-5683-4077-afc7-12cd0f75c61b",
   "metadata": {},
   "source": [
    "# Minimal full run\n",
    "\n",
    "We have developed some high level functions which allow the various stages of running LePHARE to be abstracted via a minimal interface.\n",
    "\n",
    "In this notebook we provide a simple example of running this minimal set up with a table that is already in an acceptable format.\n",
    "\n",
    "We use a very sparese redhsift grid to allow quick computation. In order to use the results scientically a higher redshift density should be used."
   ]
  },
  {
   "cell_type": "code",
   "execution_count": null,
   "id": "c94e7bb6-7d99-4f86-89fe-685944046381",
   "metadata": {},
   "outputs": [],
   "source": [
    "import lephare as lp\n",
    "from astropy.table import Table\n",
    "import numpy as np\n",
    "from matplotlib import pylab as plt\n",
    "\n",
    "%matplotlib inline"
   ]
  },
  {
   "cell_type": "code",
   "execution_count": null,
   "id": "0eac6678-2319-487b-9580-01cb5aa9e6b9",
   "metadata": {},
   "outputs": [],
   "source": [
    "# Open the config file\n",
    "config = lp.read_config(\"./data/COSMOS.para\")"
   ]
  },
  {
   "cell_type": "code",
   "execution_count": null,
   "id": "b0c02fc4-bd2b-49c3-adc0-d0a190f27759",
   "metadata": {},
   "outputs": [],
   "source": [
    "# Download the required data\n",
    "lp.data_retrieval.get_auxiliary_data(keymap=config)"
   ]
  },
  {
   "cell_type": "code",
   "execution_count": null,
   "id": "22f33c61-924f-4220-83cf-b3ff06c1bbc5",
   "metadata": {},
   "outputs": [],
   "source": [
    "# Run the prepare stage to process filters, build the SED libraries, and theoretical magnitudes\n",
    "lp.prepare(config)"
   ]
  },
  {
   "cell_type": "code",
   "execution_count": null,
   "id": "b963cc5f-adb8-4aab-ae7b-2749d7255eeb",
   "metadata": {},
   "outputs": [],
   "source": [
    "# Load the small COSMOS example table\n",
    "input = Table.read(\"./data/COSMOS_first100specz.fits\").filled(np.nan)"
   ]
  },
  {
   "cell_type": "code",
   "execution_count": null,
   "id": "7d522468-cf04-4962-a021-bfaefa67c0ba",
   "metadata": {},
   "outputs": [],
   "source": [
    "# Calculate the photometric redshifts\n",
    "output, pdfs, zgrid = lp.process(config, input)"
   ]
  },
  {
   "cell_type": "code",
   "execution_count": null,
   "id": "0313c134-4da2-4f0d-a179-19494c005fc6",
   "metadata": {},
   "outputs": [],
   "source": [
    "# Have a look at the output table\n",
    "output[:5]"
   ]
  },
  {
   "cell_type": "code",
   "execution_count": null,
   "id": "a43c9df9-cb4e-4aa1-9d8a-423dd80d3526",
   "metadata": {},
   "outputs": [],
   "source": [
    "# Plot the predicted redhsifts against the spectroscopic redshifts\n",
    "plt.scatter(np.log10(1 + output[\"ZSPEC\"]), np.log10(1 + output[\"Z_BEST\"]))"
   ]
  }
 ],
 "metadata": {
  "kernelspec": {
   "display_name": "Python 3 (ipykernel)",
   "language": "python",
   "name": "python3"
  },
  "language_info": {
   "codemirror_mode": {
    "name": "ipython",
    "version": 3
   },
   "file_extension": ".py",
   "mimetype": "text/x-python",
   "name": "python",
   "nbconvert_exporter": "python",
   "pygments_lexer": "ipython3",
   "version": "3.11.6"
  }
 },
 "nbformat": 4,
 "nbformat_minor": 5
}
