{
 "cells": [
  {
   "cell_type": "code",
   "execution_count": null,
   "id": "977ec87c-e76e-4599-be03-fa390c39be46",
   "metadata": {},
   "outputs": [],
   "source": [
    "import os\n",
    "\n",
    "os.environ[\"LEPHAREDIR\"] = \"/home/cohen/lsst/lephare/LEPHARE\"\n",
    "os.environ[\"LEPHAREWORK\"] = \"/home/cohen/lsst/lephare/LEPHARE/tests/WORK\""
   ]
  },
  {
   "cell_type": "code",
   "execution_count": null,
   "id": "d0201cf3-d5df-4704-88de-58dee18fb0e7",
   "metadata": {},
   "outputs": [],
   "source": [
    "from lephare import *\n",
    "import numpy as np\n",
    "from matplotlib import pylab as plt\n",
    "\n",
    "%matplotlib inline"
   ]
  },
  {
   "cell_type": "code",
   "execution_count": null,
   "id": "8548eba3-93ae-4e94-a269-7a3bcc41d163",
   "metadata": {},
   "outputs": [],
   "source": [
    "keymap = read_config(\"../examples/COSMOS.para\")\n",
    "keymap[\"ZPHOTLIB\"] = keyword(\"ZPHOTLIB\", \"VISTA_COSMOS_FREE,ALLSTAR_COSMOS,QSO_COSMOS\")\n",
    "keymap[\"CAT_IN\"] = keyword(\"CAT_IN\", \"$LEPHAREDIR/examples/COSMOS.in\")\n",
    "keymap[\"CAT_OUT\"] = keyword(\"CAT_OUT\", \"zphot_short.out\")\n",
    "keymap[\"ADD_EMLINES\"] = keyword(\"ADD_EMLINES\", \"0,100\")\n",
    "keymap[\"AUTO_ADAPT\"] = keyword(\"ADD_EMLINES\", \"YES\")\n",
    "keymap[\"Z_STEP\"] = keyword(\"Z_STEP\", \"0.04,0,6\")\n",
    "keymap[\"CAT_LINES\"] = keyword(\"CAT_LINES\", \"1,100\")\n",
    "keymap[\"SPEC_OUT\"] = keyword(\"SPEC_OUT\", \"YES\")\n",
    "keymap[\"PARA_OUT\"] = keyword(\"PARA_OUT\", \"$LEPHAREDIR/examples/output.para\")\n",
    "keymap[\"VERBOSE\"] = keyword(\"VERBOSE\", \"NO\")\n",
    "keymap[\"ZFIX\"] = keyword(\"ZFIX\", \"NO\")"
   ]
  },
  {
   "cell_type": "code",
   "execution_count": null,
   "id": "80b220e7-b646-4f88-8cbb-0da5fcb75fef",
   "metadata": {},
   "outputs": [],
   "source": [
    "photz = PhotoZ(keymap);"
   ]
  },
  {
   "cell_type": "code",
   "execution_count": null,
   "id": "d5972e7c-4140-4e09-b7bb-5bc447e2572e",
   "metadata": {},
   "outputs": [],
   "source": [
    "cat = np.loadtxt(\"../examples/COSMOS.in\")"
   ]
  },
  {
   "cell_type": "code",
   "execution_count": null,
   "id": "0891f048-9952-4d0f-8e2f-853522878aa4",
   "metadata": {},
   "outputs": [],
   "source": [
    "zspec_mask = np.logical_and(cat[:, 62] > 0.01, cat[:, 62] < 6)\n",
    "zs_cat = cat[zspec_mask]\n",
    "spec = zs_cat[:, 0]\n",
    "fluxes = zs_cat[:, 1:60:2]\n",
    "efluxes = zs_cat[:, 2:61:2]\n",
    "context = zs_cat[:, 61]\n",
    "zspec = zs_cat[:, 62]"
   ]
  },
  {
   "cell_type": "code",
   "execution_count": null,
   "id": "70d5a226-90cf-4561-b3c7-1bd940f85740",
   "metadata": {},
   "outputs": [],
   "source": [
    "keymap[\"ADAPT_LIM\"], keymap[\"ADAPT_BAND\"]"
   ]
  },
  {
   "cell_type": "code",
   "execution_count": null,
   "id": "f27f8c19-2d96-4a5d-988b-fc16e417eee9",
   "metadata": {},
   "outputs": [],
   "source": [
    "mag = np.zeros_like(fluxes[:, 4]) + 1000.0\n",
    "mag[fluxes[:, 4] > 0] = -2.5 * np.log10(fluxes[:, 4][fluxes[:, 4] > 0]) - 48.6\n",
    "mag_mask = np.logical_and(mag > 1.5, mag < 20.5)\n",
    "auto_adapt_data = zs_cat[mag_mask]"
   ]
  },
  {
   "cell_type": "code",
   "execution_count": null,
   "id": "55b6fca4-9c19-48ab-b22c-96314e3b2032",
   "metadata": {},
   "outputs": [],
   "source": [
    "srclist = []\n",
    "nobj = 0\n",
    "imagm = 30\n",
    "gbcont = 0\n",
    "contforb = -1\n",
    "shifts0 = [0]\n",
    "fac_err = [1.5]\n",
    "min_err = [\n",
    "    0.02,\n",
    "    0.02,\n",
    "    0.02,\n",
    "    0.02,\n",
    "    0.02,\n",
    "    0.02,\n",
    "    0.02,\n",
    "    0.05,\n",
    "    0.05,\n",
    "    0.05,\n",
    "    0.05,\n",
    "    0.02,\n",
    "    0.02,\n",
    "    0.02,\n",
    "    0.02,\n",
    "    0.02,\n",
    "    0.02,\n",
    "    0.02,\n",
    "    0.02,\n",
    "    0.02,\n",
    "    0.02,\n",
    "    0.02,\n",
    "    0.02,\n",
    "    0.05,\n",
    "    0.05,\n",
    "    0.05,\n",
    "    0.05,\n",
    "    0.1,\n",
    "    0.2,\n",
    "    0.3,\n",
    "]\n",
    "for d in auto_adapt_data:\n",
    "    oneObj = onesource(nobj, photz.gridz)\n",
    "    oneObj.readsource(str(d[0]), d[1:60:2], d[2:61:2], int(d[61]), d[62], str(d[-1]))\n",
    "    photz.prep_data(oneObj)\n",
    "    if len(shifts0) == imagm:\n",
    "        oneObj.adapt_mag(shifts0, shifts1)\n",
    "    srclist.append(oneObj)\n",
    "    nobj += 1"
   ]
  },
  {
   "cell_type": "code",
   "execution_count": null,
   "id": "214ce7f8-15d4-4a0f-bbdd-ae5082eca6c6",
   "metadata": {},
   "outputs": [],
   "source": [
    "len(srclist)"
   ]
  },
  {
   "cell_type": "code",
   "execution_count": null,
   "id": "5ff74839-982c-4252-a71e-a7965baa43ef",
   "metadata": {},
   "outputs": [],
   "source": [
    "a0, a1 = photz.run_autoadapt(srclist)"
   ]
  },
  {
   "cell_type": "code",
   "execution_count": null,
   "id": "a8a9f9d0-46b4-4278-addb-1d4550658fec",
   "metadata": {},
   "outputs": [],
   "source": [
    "photozlist = []\n",
    "for d in cat:\n",
    "    oneObj = onesource(nobj, photz.gridz)\n",
    "    oneObj.readsource(str(d[0]), d[1:60:2], d[2:61:2], int(d[61]), d[62], str(d[-1]))\n",
    "    photz.prep_data(oneObj)\n",
    "    photozlist.append(oneObj)"
   ]
  },
  {
   "cell_type": "code",
   "execution_count": null,
   "id": "cedaf264-4cb9-459f-ba69-5c7dc18b959b",
   "metadata": {},
   "outputs": [],
   "source": [
    "len(photozlist)"
   ]
  },
  {
   "cell_type": "code",
   "execution_count": null,
   "id": "d55446a1-2a6f-4376-9654-58e4f7895800",
   "metadata": {},
   "outputs": [],
   "source": [
    "photz.run_photoz(photozlist[:100], a0, a1)"
   ]
  },
  {
   "cell_type": "code",
   "execution_count": null,
   "id": "3b61d3eb-f7c9-4e09-903a-3f2838e9d644",
   "metadata": {},
   "outputs": [],
   "source": [
    "t = photz.build_output_tables(photozlist[:100], para_out=None, filename=\"toto.fits\")"
   ]
  },
  {
   "cell_type": "code",
   "execution_count": null,
   "id": "d9ddffc7-e936-44f7-abf8-41087d176898",
   "metadata": {},
   "outputs": [],
   "source": [
    "t"
   ]
  }
 ],
 "metadata": {
  "kernelspec": {
   "display_name": "Python 3 (ipykernel)",
   "language": "python",
   "name": "python3"
  },
  "language_info": {
   "codemirror_mode": {
    "name": "ipython",
    "version": 3
   },
   "file_extension": ".py",
   "mimetype": "text/x-python",
   "name": "python",
   "nbconvert_exporter": "python",
   "pygments_lexer": "ipython3",
   "version": "3.10.12"
  }
 },
 "nbformat": 4,
 "nbformat_minor": 5
}
