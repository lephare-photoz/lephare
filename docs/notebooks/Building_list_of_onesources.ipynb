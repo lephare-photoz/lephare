{
 "cells": [
  {
   "cell_type": "markdown",
   "id": "2d642ed3-8232-43fb-8acd-dcd8d556edcd",
   "metadata": {},
   "source": [
    "# Build a list of sources and run photoz"
   ]
  },
  {
   "cell_type": "code",
   "execution_count": null,
   "id": "d0201cf3-d5df-4704-88de-58dee18fb0e7",
   "metadata": {},
   "outputs": [],
   "source": [
    "import os\n",
    "import lephare as lp\n",
    "import numpy as np\n",
    "from matplotlib import pylab as plt\n",
    "\n",
    "%matplotlib inline"
   ]
  },
  {
   "cell_type": "code",
   "execution_count": null,
   "id": "02140c34-b73e-4fb4-a274-f2b15b1e35ee",
   "metadata": {},
   "outputs": [],
   "source": [
    "config_file = \"./data/COSMOS.para\"\n",
    "keymap = lp.read_config(config_file)\n",
    "lp.data_retrieval.get_auxiliary_data(keymap=keymap, additional_files=[\"examples/COSMOS.in\"])"
   ]
  },
  {
   "cell_type": "code",
   "execution_count": null,
   "id": "8548eba3-93ae-4e94-a269-7a3bcc41d163",
   "metadata": {},
   "outputs": [],
   "source": [
    "keymap[\"ZPHOTLIB\"] = lp.keyword(\"ZPHOTLIB\", \"VISTA_COSMOS_FREE,ALLSTAR_COSMOS,QSO_COSMOS\")\n",
    "keymap[\"CAT_IN\"] = lp.keyword(\"CAT_IN\", \"$LEPHAREDIR/examples/COSMOS.in\")\n",
    "keymap[\"CAT_OUT\"] = lp.keyword(\"CAT_OUT\", \"zphot_short.out\")\n",
    "keymap[\"ADD_EMLINES\"] = lp.keyword(\"ADD_EMLINES\", \"0,100\")\n",
    "keymap[\"AUTO_ADAPT\"] = lp.keyword(\"ADD_EMLINES\", \"YES\")\n",
    "keymap[\"Z_STEP\"] = lp.keyword(\"Z_STEP\", \"0.04,0,6\")\n",
    "keymap[\"CAT_LINES\"] = lp.keyword(\"CAT_LINES\", \"1,100\")\n",
    "keymap[\"SPEC_OUT\"] = lp.keyword(\"SPEC_OUT\", \"YES\")\n",
    "keymap[\"PARA_OUT\"] = lp.keyword(\"PARA_OUT\", \"./data/output.para\")\n",
    "keymap[\"VERBOSE\"] = lp.keyword(\"VERBOSE\", \"NO\")\n",
    "keymap[\"ZFIX\"] = lp.keyword(\"ZFIX\", \"NO\")"
   ]
  },
  {
   "cell_type": "code",
   "execution_count": null,
   "id": "4f71c809-cf95-42a6-b846-ce2538bf201e",
   "metadata": {},
   "outputs": [],
   "source": [
    "# before running PhotoZ we must run filt, sedtolib and maggal\n",
    "filterLib = lp.Filter(config_file=config_file)\n",
    "filterLib.run()\n",
    "sedlib = lp.Sedtolib(config_keymap=keymap)\n",
    "sedlib.run(typ=\"STAR\", star_sed=\"$LEPHAREDIR/sed/STAR/STAR_MOD_ALL.list\")\n",
    "sedlib.run(typ=\"QSO\", qso_sed=\"$LEPHAREDIR/sed/QSO/SALVATO09/AGN_MOD.list\", gal_lib=\"LIB_QSO\")\n",
    "sedlib.run(typ=\"GAL\", gal_sed=\"$LEPHAREDIR/examples/COSMOS_MOD.list\", gal_lib=\"LIB_GAL\")\n",
    "maglib = lp.MagGal(config_keymap=keymap)\n",
    "maglib.run(typ=\"STAR\", lib_ascii=\"YES\", star_lib_out=\"ALLSTAR_COSMOS\")\n",
    "maglib.run(\n",
    "    typ=\"QSO\",\n",
    "    lib_ascii=\"YES\",\n",
    "    mod_extinc=\"0,1000\",\n",
    "    eb_v=\"0.,0.1,0.2,0.3\",\n",
    "    extinc_law=\"SB_calzetti.dat\",\n",
    "    qso_lib_in=\"LIB_QSO\",\n",
    ")\n",
    "maglib.run(\n",
    "    typ=\"GAL\",\n",
    "    lib_ascii=\"YES\",\n",
    "    gal_lib_in=\"LIB_GAL\",\n",
    "    gal_lib_out=\"VISTA_COSMOS_FREE\",\n",
    "    mod_extinc=\"18,26,26,33,26,33,26,33\",\n",
    "    extinc_law=\"SMC_prevot.dat,SB_calzetti.dat,SB_calzetti_bump1.dat,SB_calzetti_bump2.dat\",\n",
    "    em_lines=\"EMP_UV\",\n",
    "    em_dispersion=\"0.5,0.75,1.,1.5,2.\",\n",
    ")"
   ]
  },
  {
   "cell_type": "code",
   "execution_count": null,
   "id": "80b220e7-b646-4f88-8cbb-0da5fcb75fef",
   "metadata": {},
   "outputs": [],
   "source": [
    "photz = lp.PhotoZ(keymap)"
   ]
  },
  {
   "cell_type": "code",
   "execution_count": null,
   "id": "d5972e7c-4140-4e09-b7bb-5bc447e2572e",
   "metadata": {},
   "outputs": [],
   "source": [
    "cat = np.loadtxt(f\"{lp.LEPHAREDIR}/examples/COSMOS.in\")"
   ]
  },
  {
   "cell_type": "code",
   "execution_count": null,
   "id": "0891f048-9952-4d0f-8e2f-853522878aa4",
   "metadata": {},
   "outputs": [],
   "source": [
    "zspec_mask = np.logical_and(cat[:, 62] > 0.01, cat[:, 62] < 6)\n",
    "zs_cat = cat[zspec_mask]\n",
    "spec = zs_cat[:, 0]\n",
    "fluxes = zs_cat[:, 1:60:2]\n",
    "efluxes = zs_cat[:, 2:61:2]\n",
    "context = zs_cat[:, 61]\n",
    "zspec = zs_cat[:, 62]"
   ]
  },
  {
   "cell_type": "code",
   "execution_count": null,
   "id": "70d5a226-90cf-4561-b3c7-1bd940f85740",
   "metadata": {},
   "outputs": [],
   "source": [
    "keymap[\"ADAPT_LIM\"], keymap[\"ADAPT_BAND\"]"
   ]
  },
  {
   "cell_type": "code",
   "execution_count": null,
   "id": "f27f8c19-2d96-4a5d-988b-fc16e417eee9",
   "metadata": {},
   "outputs": [],
   "source": [
    "mag = np.zeros_like(fluxes[:, 4]) + 1000.0\n",
    "mag[fluxes[:, 4] > 0] = -2.5 * np.log10(fluxes[:, 4][fluxes[:, 4] > 0]) - 48.6\n",
    "mag_mask = np.logical_and(mag > 1.5, mag < 20.5)\n",
    "auto_adapt_data = zs_cat[mag_mask]"
   ]
  },
  {
   "cell_type": "code",
   "execution_count": null,
   "id": "55b6fca4-9c19-48ab-b22c-96314e3b2032",
   "metadata": {},
   "outputs": [],
   "source": [
    "srclist = []\n",
    "nobj = 0\n",
    "imagm = 30\n",
    "gbcont = 0\n",
    "contforb = -1\n",
    "shifts0 = [0]\n",
    "fac_err = [1.5]\n",
    "min_err = [\n",
    "    0.02,\n",
    "    0.02,\n",
    "    0.02,\n",
    "    0.02,\n",
    "    0.02,\n",
    "    0.02,\n",
    "    0.02,\n",
    "    0.05,\n",
    "    0.05,\n",
    "    0.05,\n",
    "    0.05,\n",
    "    0.02,\n",
    "    0.02,\n",
    "    0.02,\n",
    "    0.02,\n",
    "    0.02,\n",
    "    0.02,\n",
    "    0.02,\n",
    "    0.02,\n",
    "    0.02,\n",
    "    0.02,\n",
    "    0.02,\n",
    "    0.02,\n",
    "    0.05,\n",
    "    0.05,\n",
    "    0.05,\n",
    "    0.05,\n",
    "    0.1,\n",
    "    0.2,\n",
    "    0.3,\n",
    "]\n",
    "for d in auto_adapt_data:\n",
    "    oneObj = lp.onesource(nobj, photz.gridz)\n",
    "    oneObj.readsource(str(d[0]), d[1:60:2], d[2:61:2], int(d[61]), d[62], str(d[-1]))\n",
    "    photz.prep_data(oneObj)\n",
    "    if len(shifts0) == imagm:\n",
    "        oneObj.adapt_mag(shifts0, shifts1)\n",
    "    srclist.append(oneObj)\n",
    "    nobj += 1"
   ]
  },
  {
   "cell_type": "code",
   "execution_count": null,
   "id": "214ce7f8-15d4-4a0f-bbdd-ae5082eca6c6",
   "metadata": {},
   "outputs": [],
   "source": [
    "len(srclist)"
   ]
  },
  {
   "cell_type": "code",
   "execution_count": null,
   "id": "5ff74839-982c-4252-a71e-a7965baa43ef",
   "metadata": {},
   "outputs": [],
   "source": [
    "a0, a1 = photz.run_autoadapt(srclist)"
   ]
  },
  {
   "cell_type": "code",
   "execution_count": null,
   "id": "a8a9f9d0-46b4-4278-addb-1d4550658fec",
   "metadata": {},
   "outputs": [],
   "source": [
    "photozlist = []\n",
    "for d in cat:\n",
    "    oneObj = lp.onesource(nobj, photz.gridz)\n",
    "    oneObj.readsource(str(d[0]), d[1:60:2], d[2:61:2], int(d[61]), d[62], str(d[-1]))\n",
    "    photz.prep_data(oneObj)\n",
    "    photozlist.append(oneObj)"
   ]
  },
  {
   "cell_type": "code",
   "execution_count": null,
   "id": "cedaf264-4cb9-459f-ba69-5c7dc18b959b",
   "metadata": {},
   "outputs": [],
   "source": [
    "len(photozlist)"
   ]
  },
  {
   "cell_type": "code",
   "execution_count": null,
   "id": "d55446a1-2a6f-4376-9654-58e4f7895800",
   "metadata": {},
   "outputs": [],
   "source": [
    "photz.run_photoz(photozlist[:10], a0, a1)"
   ]
  },
  {
   "cell_type": "code",
   "execution_count": null,
   "id": "3b61d3eb-f7c9-4e09-903a-3f2838e9d644",
   "metadata": {},
   "outputs": [],
   "source": [
    "t = photz.build_output_tables(photozlist[:10], para_out=\"./data/output.para\", filename=\"toto.fits\")"
   ]
  },
  {
   "cell_type": "code",
   "execution_count": null,
   "id": "d9ddffc7-e936-44f7-abf8-41087d176898",
   "metadata": {},
   "outputs": [],
   "source": [
    "t"
   ]
  }
 ],
 "metadata": {
  "kernelspec": {
   "display_name": "Python 3 (ipykernel)",
   "language": "python",
   "name": "python3"
  },
  "language_info": {
   "codemirror_mode": {
    "name": "ipython",
    "version": 3
   },
   "file_extension": ".py",
   "mimetype": "text/x-python",
   "name": "python",
   "nbconvert_exporter": "python",
   "pygments_lexer": "ipython3",
   "version": "3.11.6"
  }
 },
 "nbformat": 4,
 "nbformat_minor": 5
}
