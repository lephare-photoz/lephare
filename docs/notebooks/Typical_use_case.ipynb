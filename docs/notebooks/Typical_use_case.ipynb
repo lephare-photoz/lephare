{
 "cells": [
  {
   "cell_type": "markdown",
   "id": "da7fc884-bc5d-4758-aede-087ac6cd18c3",
   "metadata": {},
   "source": [
    "# Typical use case\n",
    "\n",
    "In the minimal photoz run example notebook we demonstrated a run on the COSMOS2020 (Weaver et al. 2022) data set in order to show the most basic LePHARE functionality.\n",
    "\n",
    "In this notebook we want to walk through a typical use case where the user wishes to run on a new catalogue with a new set of filters.\n",
    "\n",
    "We will be looking at the same COSMOS data set but only use the ugrizy bands. We will take just these filters from the local auxiliary database. This should demonstrate the basic procedure for updating the configuration parameters and creating an input table in the appropriate format."
   ]
  },
  {
   "cell_type": "code",
   "execution_count": null,
   "id": "37a53404-5eca-4634-8a76-24617cd42af7",
   "metadata": {},
   "outputs": [],
   "source": [
    "import lephare as lp\n",
    "from astropy.table import Table\n",
    "import numpy as np\n",
    "import os\n",
    "from matplotlib import pylab as plt\n",
    "import time\n",
    "\n",
    "%matplotlib inline"
   ]
  },
  {
   "cell_type": "markdown",
   "id": "25dd1907-2e49-45f2-b56b-3bdd220cb887",
   "metadata": {},
   "source": [
    "## Update the config\n",
    "We will start with the COSMOS configuration as a basis. We will update the various keywords. We use the default which is shipped with lephare. You could also download the example text file config from [here](https://github.com/lephare-photoz/lephare-data/blob/main/examples/COSMOS.para) or write it completely from scratch."
   ]
  },
  {
   "cell_type": "code",
   "execution_count": null,
   "id": "1f10ab2c-5d4c-42c6-bfab-340c7316ae5b",
   "metadata": {},
   "outputs": [],
   "source": [
    "config = lp.default_cosmos_config.copy()\n",
    "\n",
    "# You could also load this from a local text file:\n",
    "# !curl -s -o https://raw.githubusercontent.com/lephare-photoz/lephare-data/refs/heads/main/examples/COSMOS.para\n",
    "# config = lp.read_config(\"./COSMOS.para\")\n",
    "\n",
    "config.update(\n",
    "    {\n",
    "        # For a quick demonstration we use a very sparse redshift grid. DO NOT USE FOR SCIENCE!\n",
    "        # Comment out the following line to improve results.\n",
    "        \"Z_STEP\": \"0.1,0.,3.\",\n",
    "    }\n",
    ")"
   ]
  },
  {
   "cell_type": "markdown",
   "id": "b1c8ca77-639f-41e3-9b40-2ac27ef26722",
   "metadata": {},
   "source": [
    "## Download the required SEDs and additional extinction laws\n",
    "If one has already cloned the full auxiliary data one does not need to use this functionality.\n",
    "\n",
    "Here we will need the same set of SEDs and other files required for the COSMOS example so will download those using the automated download functionality."
   ]
  },
  {
   "cell_type": "code",
   "execution_count": null,
   "id": "0408e81c-e25a-48e4-ba58-7afb7c40ffa7",
   "metadata": {},
   "outputs": [],
   "source": [
    "lp.data_retrieval.get_auxiliary_data(\n",
    "    keymap=config,\n",
    "    # The additional extinction laws for galaxies are not in the principle config\n",
    "    # so we must add them to be downloaded:\n",
    "    additional_files=[\n",
    "        \"ext/SMC_prevot.dat\",\n",
    "        \"ext/SB_calzetti.dat\",\n",
    "        \"ext/SB_calzetti_bump1.dat\",\n",
    "        \"ext/SB_calzetti_bump2.dat\",\n",
    "        # We also want the example cosmos catalogue to experiment with\n",
    "        \"examples/COSMOS.in\",\n",
    "    ],\n",
    ")"
   ]
  },
  {
   "cell_type": "markdown",
   "id": "c0e67888-712b-4cd3-a88b-e67f8434c14d",
   "metadata": {},
   "source": [
    "## Setting new filters\n",
    "\n",
    "As a simple example we are taking a subset of the 30 filters used in the standard COSMOS example. To do this we will take the 6 ugrizy filters from $LEPHAREDIR/filt. To use these new filters we need to update the config and set the filter directory to their location"
   ]
  },
  {
   "cell_type": "code",
   "execution_count": null,
   "id": "8cad696c-fa65-4d0d-9504-4fee73bad638",
   "metadata": {},
   "outputs": [],
   "source": [
    "# We need to update the filter list and some other config values according to the new filter list\n",
    "config.update(\n",
    "    {\n",
    "        # A reduced list of filters:\n",
    "        \"FILTER_LIST\": \"cosmos/u_new.pb,hsc/gHSC.pb,hsc/rHSC.pb,hsc/iHSC.pb,hsc/zHSC.pb,hsc/yHSC.pb\",\n",
    "        # FILTER_CALIB must be updated to either have the same length as FILTER_LIST or be one number\n",
    "        # ERR_SCALE and ERR_FACTOR must also be updated later to be the correct length.\n",
    "        \"FILTER_CALIB\": \"0\",\n",
    "        # Use a test name to avoid clashes with other runs.\n",
    "        \"FILTER_FILE\": \"filter_test\",\n",
    "    }\n",
    ")\n",
    "filter_names = config[\"FILTER_LIST\"].split(\",\")"
   ]
  },
  {
   "cell_type": "markdown",
   "id": "e14cad3e-390b-4c4e-8e96-5aeb3a6a743a",
   "metadata": {},
   "source": [
    "Plot the filter transmission curves."
   ]
  },
  {
   "cell_type": "code",
   "execution_count": null,
   "id": "88dd83b5-6d85-43b0-8633-fa6ecc282933",
   "metadata": {},
   "outputs": [],
   "source": [
    "for n, f in enumerate(filter_names):\n",
    "    data = Table.read(f\"{lp.LEPHAREDIR}/filt/{f}\", format=\"ascii\")\n",
    "    plt.plot(data[data.colnames[0]], data[data.colnames[1]], label=f)\n",
    "plt.legend(loc=\"center left\", bbox_to_anchor=(1, 0.5))\n",
    "plt.xlabel(\"Wavelength [Angstrom]\")\n",
    "plt.ylabel(\"Transmission\")"
   ]
  },
  {
   "cell_type": "markdown",
   "id": "056c72a9-c47c-40b5-808f-f949169490d6",
   "metadata": {},
   "source": [
    "### Set specific config values for \n",
    "\n",
    "In order to get better results we often want to use different config values for stars, galaxies and qso.\n",
    "\n",
    "We therefore make override dictionaries for each type. These are the default configurations that were used in Ilbert et al. 2013, Laigle et al. 2016, and Weaver et al. 2022."
   ]
  },
  {
   "cell_type": "code",
   "execution_count": null,
   "id": "82ea948a-5e53-4fa6-8e40-54b250fd95b8",
   "metadata": {},
   "outputs": [],
   "source": [
    "# We leave stars as before\n",
    "star_overrides = {}\n",
    "\n",
    "# For galaxies we want to use a different set of extinction laws and other keyword values\n",
    "gal_overrides = {\n",
    "    \"MOD_EXTINC\": \"18,26,26,33,26,33,26,33\",\n",
    "    \"EXTINC_LAW\": \"SMC_prevot.dat,SB_calzetti.dat,SB_calzetti_bump1.dat,SB_calzetti_bump2.dat\",\n",
    "    \"EM_LINES\": \"EMP_UV\",\n",
    "    \"EM_DISPERSION\": \"0.5,1.,1.5\",\n",
    "}\n",
    "\n",
    "qso_overrides = {\n",
    "    \"MOD_EXTINC\": \"0,1000\",\n",
    "    \"EB_V\": \"0.,0.1,0.2,0.3\",\n",
    "    \"EXTINC_LAW\": \"SB_calzetti.dat\",\n",
    "}"
   ]
  },
  {
   "cell_type": "markdown",
   "id": "681eb30e-c277-4fde-a1c6-4579a8d0ca1b",
   "metadata": {},
   "source": [
    "## Run prepare\n",
    "\n",
    "These are the key preparatory stages that calculate the filters in the LePHARE format, calculate the library of SEDs and finally calculate the library of magnitudes for all the models. The prepare method runs *filter*, *sedtolib*, and *mag_gal* that would be run independently at the command line. These are all explained in detail in the [documentation](https://lephare.readthedocs.io/en/latest/original.html#detailed-lephare-user-manual)."
   ]
  },
  {
   "cell_type": "code",
   "execution_count": null,
   "id": "b20daf8d-8881-4dc5-a338-9f86121ec2be",
   "metadata": {},
   "outputs": [],
   "source": [
    "lp.prepare(\n",
    "    config,\n",
    "    star_config=star_overrides,\n",
    "    gal_config=gal_overrides,\n",
    "    qso_config=qso_overrides,\n",
    ")"
   ]
  },
  {
   "cell_type": "markdown",
   "id": "7f91e803-33ce-4ba4-837f-9a6c52625f68",
   "metadata": {},
   "source": [
    "### Creating the input table\n",
    "\n",
    "We need to make an astropy table as input. This can be done using the standard column order:\n",
    "id, flux0, err0, flux1, err1,..., context, zspec, arbitrary_string. A simple example table with two filters might look like this:\n",
    "|  id | flux_filt1  |  fluxerr_filt1 |  flux_filt2  |  fluxerr_filt2 | context | zspec | string_data |\n",
    "|---|---|---|---|---|---|---|---|\n",
    "|  0 | 1.e-31  | 1.e-32  | 1.e-31  | 2.e-32  | 3 | NaN | \"This is just a note\" |\n",
    "|  1 | 2.e-31  |  1.e-32 | 1.e-31  | 2.e-32  |3 | 1. | \"This has a specz\" |\n",
    "|  2 | 2.e-31 | 1.e-32  | 2.e-31  | 2.e-32  | 2 | NaN| \"This context only uses the second filter\" |\n",
    "\n",
    "The context detemermines which bands are used but can be -99 or a numpy.nan. We do not need to have units on the flux columns but LePHARE assumes they are in erg /s /cm**2 / Hz if we are using fluxes. The number of columns must be two times the number of filters plus the four additional columns.\n",
    "\n",
    "This input table **must use** the standard column ordering to determine column meaning. This odering depends on the filter order in the config FILTER_LIST value. "
   ]
  },
  {
   "cell_type": "code",
   "execution_count": null,
   "id": "c43e9307-4dc7-4b26-bb8b-5126f29874f7",
   "metadata": {},
   "outputs": [],
   "source": [
    "# Load the full cosmos example we downloaded at the start\n",
    "cosmos_full = Table.read(f\"{lp.LEPHAREDIR}/examples/COSMOS.in\", format=\"ascii\")\n",
    "# Lets just look at the first 1000 specz between 0 and 3 to be fast and have a small sample to test\n",
    "specz_colname = cosmos_full.colnames[-2]\n",
    "mask = cosmos_full[specz_colname] > 0\n",
    "mask &= cosmos_full[specz_colname] < 3\n",
    "cosmos_full = cosmos_full[mask][:1000]"
   ]
  },
  {
   "cell_type": "code",
   "execution_count": null,
   "id": "391d66ef-1108-47d7-8ca0-15c1eab04065",
   "metadata": {},
   "outputs": [],
   "source": [
    "input_table = Table()\n",
    "# The id is in the first column\n",
    "input_table[\"id\"] = cosmos_full[cosmos_full.colnames[0]]\n",
    "# Loop over the filters we want to keep to get the number of the filter, n, and the name, b,\n",
    "for n, filter_name in enumerate(filter_names):\n",
    "    # The ugrizy fluxes and errors are in cols 3 to 14\n",
    "    f_col = cosmos_full.colnames[2 * n + 3]\n",
    "    ferr_col = cosmos_full.colnames[2 * n + 4]\n",
    "    # By default lephare uses column order so names are irrelevant\n",
    "    input_table[f\"f_{filter_name}\"] = cosmos_full[f_col]\n",
    "    input_table[f\"ferr_{filter_name}\"] = cosmos_full[ferr_col]\n",
    "# The context is a binary flag. Here we set it to use all filters.\n",
    "input_table[\"context\"] = np.sum(2 ** np.arange(len(filter_names)))\n",
    "input_table[\"zspec\"] = cosmos_full[specz_colname]\n",
    "input_table[\"string_data\"] = \"arbitrary_info\""
   ]
  },
  {
   "cell_type": "code",
   "execution_count": null,
   "id": "13754ace-2852-4073-a36b-62609645759b",
   "metadata": {},
   "outputs": [],
   "source": [
    "# Look at the first 5 lines of the input table\n",
    "input_table[:5]"
   ]
  },
  {
   "cell_type": "markdown",
   "id": "d80599b6-529e-4565-be0e-2dc51445c54c",
   "metadata": {},
   "source": [
    "## Run process\n",
    "\n",
    "Finally we run the main fitting process which is equivalent to *zphota* when using the command line. We also need to update some of the config values to make them consistent with the number of filters."
   ]
  },
  {
   "cell_type": "code",
   "execution_count": null,
   "id": "bccf50f1-0df3-4e97-9bf3-767a7d8eeccf",
   "metadata": {},
   "outputs": [],
   "source": [
    "# We will update some of the config parameters that are used during the fitting process\n",
    "config.update(\n",
    "    {\n",
    "        # We turn on Auto adapt which uses spectroscopic redshifts to calcualte zero point\n",
    "        # offsets which is crucial to getting good results.\n",
    "        \"AUTO_ADAPT\": \"YES\",\n",
    "        # The following measurements will correspond to all filters.\n",
    "        # We could have an array of values for each.\n",
    "        # If we have an array care must be taken to ensure it has a consistent length.\n",
    "        \"ERR_SCALE\": \"0.02\",\n",
    "        \"ERR_FACTOR\": \"1.5\",\n",
    "        \"SPEC_OUT\": \"save_spec\",  # We would like to see the output\n",
    "    }\n",
    ")"
   ]
  },
  {
   "cell_type": "code",
   "execution_count": null,
   "id": "3ca129de-1bc1-479f-b1c7-d0b0a3e041a0",
   "metadata": {},
   "outputs": [],
   "source": [
    "# Calculate the photometric redshifts\n",
    "output, _ = lp.process(config, input_table)"
   ]
  },
  {
   "cell_type": "code",
   "execution_count": null,
   "id": "495ca7bf-b03e-4102-8381-5185772cf2f5",
   "metadata": {},
   "outputs": [],
   "source": [
    "# the output is an astropy tabel that can be manipulated in the standard ways.\n",
    "output[:5]"
   ]
  },
  {
   "cell_type": "markdown",
   "id": "8f56984e-b3cb-4cde-9ef1-1b13e157dc20",
   "metadata": {},
   "source": [
    "Next we can perform some simple plots to check the output"
   ]
  },
  {
   "cell_type": "code",
   "execution_count": null,
   "id": "a2335825-4cba-492f-a277-8349a43f88c4",
   "metadata": {},
   "outputs": [],
   "source": [
    "plt.hist(output[\"Z_BEST\"], bins=20)\n",
    "plt.xlabel(\"redshift\")"
   ]
  },
  {
   "cell_type": "code",
   "execution_count": null,
   "id": "8f1fb5cd-bbdb-4574-85b6-7f209bc65736",
   "metadata": {},
   "outputs": [],
   "source": [
    "plt.plot([0, 3], [0, 3], c=\"r\")\n",
    "plt.scatter(output[\"ZSPEC\"], output[\"Z_BEST\"], s=2.0)\n",
    "plt.xlabel(\"z spec\")\n",
    "plt.ylabel(\"z phot\")"
   ]
  },
  {
   "cell_type": "code",
   "execution_count": null,
   "id": "ea20bb34-1c66-4fa5-9722-1f72bb41f1aa",
   "metadata": {},
   "outputs": [],
   "source": []
  }
 ],
 "metadata": {
  "kernelspec": {
   "display_name": "lephare",
   "language": "python",
   "name": "lephare"
  },
  "language_info": {
   "codemirror_mode": {
    "name": "ipython",
    "version": 3
   },
   "file_extension": ".py",
   "mimetype": "text/x-python",
   "name": "python",
   "nbconvert_exporter": "python",
   "pygments_lexer": "ipython3",
   "version": "3.13.0"
  }
 },
 "nbformat": 4,
 "nbformat_minor": 5
}
