{
 "cells": [
  {
   "cell_type": "markdown",
   "id": "da7fc884-bc5d-4758-aede-087ac6cd18c3",
   "metadata": {},
   "source": [
    "# Intermediate LePHARE use case\n",
    "\n",
    "In the minimal photoz run example notebook we demonstrated a run on the COSMOS example in order to show the most basic LePHARE functionality.\n",
    "\n",
    "In this notebook we want to walk through a typical use case where the user wishes to run on a new catalogue with a new set of filters.\n",
    "\n",
    "We will be looking at the same COSMOS data set but only use the ugrizy bands. We will also use the Spanish Virtual Observatory to get the filters rather than relying on the versions in the LePHARE auxiliary data repository."
   ]
  },
  {
   "cell_type": "code",
   "execution_count": null,
   "id": "37a53404-5eca-4634-8a76-24617cd42af7",
   "metadata": {},
   "outputs": [],
   "source": [
    "import lephare as lp\n",
    "from astropy.table import Table\n",
    "import astropy.units as u\n",
    "import numpy as np\n",
    "import os\n",
    "from collections import OrderedDict\n",
    "from matplotlib import pylab as plt\n",
    "import time\n",
    "\n",
    "%matplotlib inline"
   ]
  },
  {
   "cell_type": "markdown",
   "id": "25dd1907-2e49-45f2-b56b-3bdd220cb887",
   "metadata": {},
   "source": [
    "## Update the config\n",
    "We will start with the COSMOS configuration as a basis. We will update the various keywords. We use the default which is shipped with lephare. You could also download the eaxmple text file config from [here](https://github.com/lephare-photoz/lephare-data/blob/main/examples/COSMOS.para)."
   ]
  },
  {
   "cell_type": "code",
   "execution_count": null,
   "id": "1f10ab2c-5d4c-42c6-bfab-340c7316ae5b",
   "metadata": {},
   "outputs": [],
   "source": [
    "config = lp.default_cosmos_config.copy()\n",
    "\n",
    "# You could also load this from a local text file:\n",
    "# !curl -s -o COSMOS.para https://github.com/lephare-photoz/lephare-data/blob/main/examples/COSMOS.para\n",
    "# config = lp.read_config(\"./COSMOS.para\")\n",
    "\n",
    "config.update(\n",
    "    {\n",
    "        # The following measurements will correspond to all filters. We could have an array of values for each.\n",
    "        \"ERR_SCALE\": \"0.02\",\n",
    "        \"ERR_FACTOR\": \"1.5\",\n",
    "        \"FILTER_CALIB\": \"0\",\n",
    "        \"FILTER_FILE\": \"filter_test\",\n",
    "        # For a quick demonstration we use a very sparse redshift grid. DO NOT USE FOR SCIENCE!\n",
    "        # Comment out the following line to improve results.\n",
    "        \"Z_STEP\": \"0.5,0.,7.\",\n",
    "    }\n",
    ")"
   ]
  },
  {
   "cell_type": "markdown",
   "id": "b1c8ca77-639f-41e3-9b40-2ac27ef26722",
   "metadata": {},
   "source": [
    "## Download the required SEDs and additional extinction laws\n",
    "We will need the same set of SEDs and other files required for the COSMOS example so will download those using the automated download functionality."
   ]
  },
  {
   "cell_type": "code",
   "execution_count": null,
   "id": "0408e81c-e25a-48e4-ba58-7afb7c40ffa7",
   "metadata": {},
   "outputs": [],
   "source": [
    "lp.data_retrieval.get_auxiliary_data(\n",
    "    keymap=config,\n",
    "    # The additional extinction laws for galaxies are not in the principle config\n",
    "    # so we must add them to be downloaded:\n",
    "    additional_files=[\n",
    "        \"ext/SMC_prevot.dat\",\n",
    "        \"ext/SB_calzetti.dat\",\n",
    "        \"ext/SB_calzetti_bump1.dat\",\n",
    "        \"ext/SB_calzetti_bump2.dat\",\n",
    "        # We also want the example cosmos catalogue to experiment with\n",
    "        \"examples/COSMOS.in\",\n",
    "    ],\n",
    ")"
   ]
  },
  {
   "cell_type": "markdown",
   "id": "c0e67888-712b-4cd3-a88b-e67f8434c14d",
   "metadata": {},
   "source": [
    "## Getting new filters\n",
    "\n",
    "First lets get the filters we need from the SVO"
   ]
  },
  {
   "cell_type": "code",
   "execution_count": null,
   "id": "5782269b-a3c5-4d55-aeeb-9b36f534d792",
   "metadata": {},
   "outputs": [],
   "source": [
    "# We can get filters from the Spanish Virtual Observatory using the correct ids available.\n",
    "# See ids here http://svo2.cab.inta-csic.es/theory/fps/\n",
    "svo_filters = [\n",
    "    \"CFHT/MegaCam.u\",\n",
    "    \"Subaru/HSC.g\",\n",
    "    \"Subaru/HSC.r\",\n",
    "    \"Subaru/HSC.i\",\n",
    "    \"Subaru/HSC.z\",\n",
    "    \"Subaru/HSC.y\",\n",
    "]\n",
    "# We make a list of lephare.flt objects\n",
    "filterLib = [lp.FilterSvc.from_svo(n, i) for n, i in enumerate(svo_filters)]"
   ]
  },
  {
   "cell_type": "code",
   "execution_count": null,
   "id": "e0c9143a-1760-4954-883d-c54461f41718",
   "metadata": {},
   "outputs": [],
   "source": [
    "# We can write the filter file to the LEPHAREWORK director using the lephare format:\n",
    "filter_output = os.path.join(os.environ[\"LEPHAREWORK\"], \"filt\", config[\"FILTER_FILE\"])\n",
    "lp.write_output_filter(f\"{filter_output}_svo.dat\", f\"{filter_output}_svo.doc\", filterLib)"
   ]
  },
  {
   "cell_type": "code",
   "execution_count": null,
   "id": "bb4e45ae-d4b5-4c96-9da4-d326b3f3c30c",
   "metadata": {},
   "outputs": [],
   "source": [
    "# Check the files are there\n",
    "!ls -al $LEPHAREWORK/filt/filter_test_svo*"
   ]
  },
  {
   "cell_type": "markdown",
   "id": "1c43eff8-0edf-44aa-a2c8-c6e38a8b5288",
   "metadata": {},
   "source": [
    "We can also write the filters locally and update the config to take them from there"
   ]
  },
  {
   "cell_type": "code",
   "execution_count": null,
   "id": "acbb467c-043b-42d8-8063-49f6af5cdbdb",
   "metadata": {},
   "outputs": [],
   "source": [
    "!mkdir filt"
   ]
  },
  {
   "cell_type": "code",
   "execution_count": null,
   "id": "fbc51fe6-e8a3-43d1-b80f-b32362e25424",
   "metadata": {},
   "outputs": [],
   "source": [
    "for n, f in enumerate(svo_filters):\n",
    "    data = Table()\n",
    "    data[\"wavelength\"] = filterLib[n].data()[0]\n",
    "    data[\"transmission\"] = filterLib[n].data()[1]\n",
    "    plt.plot(data[\"wavelength\"], data[\"transmission\"], label=f)\n",
    "    directory = f\"./filt/{f.split('/')[0]}\"\n",
    "    if not os.path.exists(directory):\n",
    "        os.makedirs(directory)\n",
    "    data.write(f\"./filt/{f}\", format=\"ascii\", overwrite=True)\n",
    "plt.legend(loc=\"center left\", bbox_to_anchor=(1, 0.5))\n",
    "plt.xlabel(\"Wavelength [Angstrom]\")\n",
    "plt.ylabel(\"Transmission\")"
   ]
  },
  {
   "cell_type": "code",
   "execution_count": null,
   "id": "55ad1ebb-adaa-4a4a-9faf-e91bd0490ccc",
   "metadata": {},
   "outputs": [],
   "source": [
    "!ls -al filt/*"
   ]
  },
  {
   "cell_type": "markdown",
   "id": "5eebc7de-d184-4876-b9be-8d2a5151f0e1",
   "metadata": {},
   "source": [
    "## Update filter list\n",
    "\n",
    "to use these new filters we need to update the config and set the filter directory to their location"
   ]
  },
  {
   "cell_type": "code",
   "execution_count": null,
   "id": "8cad696c-fa65-4d0d-9504-4fee73bad638",
   "metadata": {},
   "outputs": [],
   "source": [
    "config.update(\n",
    "    {\n",
    "        # We now set the FILTER_REP keyword to that location to ensure that lephare looks in the right place\n",
    "        \"FILTER_REP\": os.path.join(os.getcwd(), \"filt\"),\n",
    "        # We also update the names to the new SVO names\n",
    "        \"FILTER_LIST\": \",\".join(svo_filters),\n",
    "        \"SPEC_OUT\": \"YES\",  # We want to look at the model spectra\n",
    "    }\n",
    ")"
   ]
  },
  {
   "cell_type": "code",
   "execution_count": null,
   "id": "2cebee8f-e140-46dd-9b96-8ea6fe0283f8",
   "metadata": {},
   "outputs": [],
   "source": [
    "config"
   ]
  },
  {
   "cell_type": "code",
   "execution_count": null,
   "id": "5ef3a15f-2b60-4eff-87d0-9adb62a6180f",
   "metadata": {},
   "outputs": [],
   "source": [
    "config[\"FILTER_REP\"], config[\"FILTER_LIST\"]"
   ]
  },
  {
   "cell_type": "markdown",
   "id": "056c72a9-c47c-40b5-808f-f949169490d6",
   "metadata": {},
   "source": [
    "### Set object specific config values \n",
    "\n",
    "In order to get better results we often also want to use different config values for stars, galaxies and qso.\n",
    "\n",
    "We therefore make override dictionaries for each type."
   ]
  },
  {
   "cell_type": "code",
   "execution_count": null,
   "id": "82ea948a-5e53-4fa6-8e40-54b250fd95b8",
   "metadata": {},
   "outputs": [],
   "source": [
    "# We leave stars as before\n",
    "star_overrides = {}\n",
    "\n",
    "# For galaxies we want to use a different set of extinction laws and other keyword values\n",
    "gal_overrides = {\n",
    "    \"MOD_EXTINC\": \"18,26,26,33,26,33,26,33\",\n",
    "    \"EXTINC_LAW\": \"SMC_prevot.dat,SB_calzetti.dat,SB_calzetti_bump1.dat,SB_calzetti_bump2.dat\",\n",
    "    \"EM_LINES\": \"EMP_UV\",\n",
    "    \"EM_DISPERSION\": \"0.5,0.75,1.,1.5,2.\",\n",
    "}\n",
    "\n",
    "qso_overrides = {\n",
    "    \"MOD_EXTINC\": \"0,1000\",\n",
    "    \"EB_V\": \"0.,0.1,0.2,0.3\",\n",
    "    \"EXTINC_LAW\": \"SB_calzetti.dat\",\n",
    "}"
   ]
  },
  {
   "cell_type": "markdown",
   "id": "681eb30e-c277-4fde-a1c6-4579a8d0ca1b",
   "metadata": {},
   "source": [
    "## Run prepare\n",
    "\n",
    "The prepare method runs filter, sedtolib, and mag_gal. These are the key preparatory stages that calculate the filters in the LePHARE format, calculate the library of SEDs and finaly calculate the library of magnitudes for all the models"
   ]
  },
  {
   "cell_type": "code",
   "execution_count": null,
   "id": "b20daf8d-8881-4dc5-a338-9f86121ec2be",
   "metadata": {},
   "outputs": [],
   "source": [
    "lp.prepare(\n",
    "    config,\n",
    "    star_config=star_overrides,\n",
    "    gal_config=gal_overrides,\n",
    "    qso_config=qso_overrides,\n",
    ")"
   ]
  },
  {
   "cell_type": "markdown",
   "id": "584a6041-9bc7-4127-af23-4f4860702f86",
   "metadata": {},
   "source": [
    "## Run process\n",
    "\n",
    "We need to take the input catalogue and organise it in the correct format for LePHARE. By default this is done using column order.\n",
    "\n",
    "Because we are removing most of the fluxes we now just need the ugrizy bands"
   ]
  },
  {
   "cell_type": "code",
   "execution_count": null,
   "id": "22fae397-8557-4205-bf82-325e1315caea",
   "metadata": {},
   "outputs": [],
   "source": [
    "# Load the full cosmos example we downloaded at the start\n",
    "cosmos_full = Table.read(f\"{lp.LEPHAREDIR}/examples/COSMOS.in\", format=\"ascii\")\n",
    "# Lets just look at the first 100 specz to be fast for now\n",
    "specz_colname = cosmos_full.colnames[-2]\n",
    "cosmos_full = cosmos_full[cosmos_full[specz_colname] > 0][:100]"
   ]
  },
  {
   "cell_type": "code",
   "execution_count": null,
   "id": "24f7f747-8f3d-44eb-9f99-b085924df27d",
   "metadata": {},
   "outputs": [],
   "source": [
    "# Look at the original filter order to see which columns in the original catalogue correspond to the new filters\n",
    "lp.default_cosmos_config.copy()[\"FILTER_LIST\"]"
   ]
  },
  {
   "cell_type": "code",
   "execution_count": null,
   "id": "391d66ef-1108-47d7-8ca0-15c1eab04065",
   "metadata": {},
   "outputs": [],
   "source": [
    "# You will need to set the table columns in order:\n",
    "# id, flux0, err0, flux1, err1,..., context, zspec, arbitrary_string\n",
    "input_table = Table()\n",
    "# The id is in the first column\n",
    "input_table[\"id\"] = cosmos_full[cosmos_full.colnames[0]]\n",
    "for n, b in enumerate(svo_filters):\n",
    "    # The ugrizy fluxes and errors are in cols 3 to 14\n",
    "    f_col = cosmos_full.colnames[2 * n + 3]\n",
    "    ferr_col = cosmos_full.colnames[2 * n + 4]\n",
    "    input_table[f\"f_{b}\"] = cosmos_full[f_col]\n",
    "    input_table[f\"f_{b}\"].unit = u.erg / u.s / u.cm**2 / u.Hz\n",
    "    input_table[f\"ferr_{b}\"] = cosmos_full[ferr_col]\n",
    "    input_table[f\"ferr_{b}\"].unit = u.erg / u.s / u.cm**2 / u.Hz\n",
    "# The context is a binary flag. Here we set it to use all filters.\n",
    "input_table[\"context\"] = np.sum(2 ** np.arange(len(svo_filters)))\n",
    "input_table[\"zspec\"] = cosmos_full[specz_colname]\n",
    "input_table[\"string_data\"] = \"arbitrary_info\""
   ]
  },
  {
   "cell_type": "markdown",
   "id": "d80599b6-529e-4565-be0e-2dc51445c54c",
   "metadata": {},
   "source": [
    "Finally we repeat the main run stages prepare and process to get the results"
   ]
  },
  {
   "cell_type": "code",
   "execution_count": null,
   "id": "3ca129de-1bc1-479f-b1c7-d0b0a3e041a0",
   "metadata": {},
   "outputs": [],
   "source": [
    "# Calculate the photometric redshifts\n",
    "output, pdfs, zgrid = lp.process(config, input_table)"
   ]
  },
  {
   "cell_type": "code",
   "execution_count": null,
   "id": "495ca7bf-b03e-4102-8381-5185772cf2f5",
   "metadata": {},
   "outputs": [],
   "source": [
    "# the output is an astropy tabel that can be manipulated in the standard ways.\n",
    "output[:5]"
   ]
  },
  {
   "cell_type": "code",
   "execution_count": null,
   "id": "a2335825-4cba-492f-a277-8349a43f88c4",
   "metadata": {},
   "outputs": [],
   "source": [
    "plt.hist(output[\"Z_BEST\"], bins=20)\n",
    "plt.xlabel(\"redshift\")"
   ]
  },
  {
   "cell_type": "markdown",
   "id": "6d53758a-b944-4fc1-be2e-e670135cf35b",
   "metadata": {},
   "source": [
    "## Lower level functionality\n",
    "\n",
    "The example above uses the high level *prepare* and *process* methods. It is also possible to have much more control over every stage of the run by using lower level classes. Here we will briefly introduce this functionality by running photoz on a single object and showing it's best fit model."
   ]
  },
  {
   "cell_type": "code",
   "execution_count": null,
   "id": "bc2c7c93-de35-4d72-9e0d-95e7d0d1c83c",
   "metadata": {},
   "outputs": [],
   "source": [
    "# First we create a PhotoZ object from the config\n",
    "config[\"SPEC_OUT\"] = \"save_spec\"  # Set location for output spectra\n",
    "photz = lp.PhotoZ(lp.all_types_to_keymap(config))"
   ]
  },
  {
   "cell_type": "code",
   "execution_count": null,
   "id": "e45f7806-c825-42d5-86ac-79f8c6f5dc90",
   "metadata": {},
   "outputs": [],
   "source": [
    "# Then we make a list of the sources as lephare onesource objects\n",
    "photozlist = []\n",
    "fluxes = input_table[[f\"f_{b}\" for b in svo_filters]]\n",
    "efluxes = input_table[[f\"ferr_{b}\" for b in svo_filters]]\n",
    "# Lets just look at the first five objects for now\n",
    "n = 5\n",
    "for i in range(n):\n",
    "    oneObj = lp.onesource(i, photz.gridz)\n",
    "    oneObj.readsource(\n",
    "        str(i),\n",
    "        list(fluxes[i]),\n",
    "        list(efluxes[i]),\n",
    "        int(np.sum(2 ** np.arange(len(svo_filters)))),\n",
    "        input_table[\"zspec\"][i],\n",
    "        \" \",\n",
    "    )\n",
    "    photz.prep_data(oneObj)\n",
    "    photozlist.append(oneObj)\n",
    "print(\"Number of sources to be analysed: \", len(photozlist))"
   ]
  },
  {
   "cell_type": "code",
   "execution_count": null,
   "id": "d33c217f-6beb-46dd-a85a-fc96c66e3313",
   "metadata": {},
   "outputs": [],
   "source": [
    "os.getenv(\"LEPHAREDIR\")"
   ]
  },
  {
   "cell_type": "code",
   "execution_count": null,
   "id": "6ea1eadd-c70a-418f-82f2-f07cb40ec96e",
   "metadata": {},
   "outputs": [],
   "source": [
    "!mkdir save_spec"
   ]
  },
  {
   "cell_type": "code",
   "execution_count": null,
   "id": "b2f6cd2a-421f-4265-bb2f-f32e742ba9d0",
   "metadata": {},
   "outputs": [],
   "source": [
    "# then we run the photoz on those sources\n",
    "zeros = [0.0 for f in config[\"FILTER_LIST\"].split(\",\")]  # Use zero offset\n",
    "photz.run_photoz(photozlist[:n], zeros, zeros)"
   ]
  },
  {
   "cell_type": "code",
   "execution_count": null,
   "id": "30046164-e003-4345-8d5b-f7d91e6c7ab4",
   "metadata": {},
   "outputs": [],
   "source": [
    "# photz.build_output_tables(photozlist[:n], para_out=None, filename=\"outputpython.fits\")"
   ]
  },
  {
   "cell_type": "code",
   "execution_count": null,
   "id": "7e3818db-4456-4577-8c31-4eeebf7532dc",
   "metadata": {},
   "outputs": [],
   "source": [
    "photz.write_outputs(photozlist[:n], int(time.time()))"
   ]
  },
  {
   "cell_type": "code",
   "execution_count": null,
   "id": "35ea4200-2406-4aba-ba70-f30c62990cf2",
   "metadata": {},
   "outputs": [],
   "source": [
    "listname = [f for f in os.listdir(\"save_spec\") if os.path.isfile(os.path.join(\"save_spec\", f))]\n",
    "for namefile in listname:\n",
    "    lp.plotspec(\"save_spec/\" + str(namefile))"
   ]
  }
 ],
 "metadata": {
  "kernelspec": {
   "display_name": "Python 3 (ipykernel)",
   "language": "python",
   "name": "python3"
  },
  "language_info": {
   "codemirror_mode": {
    "name": "ipython",
    "version": 3
   },
   "file_extension": ".py",
   "mimetype": "text/x-python",
   "name": "python",
   "nbconvert_exporter": "python",
   "pygments_lexer": "ipython3",
   "version": "3.10.12"
  }
 },
 "nbformat": 4,
 "nbformat_minor": 5
}
