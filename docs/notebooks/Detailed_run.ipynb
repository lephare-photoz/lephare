{
 "cells": [
  {
   "cell_type": "markdown",
   "id": "3b7a14b6-cef8-48b3-affc-3c021aaa6191",
   "metadata": {},
   "source": [
    "# Detailed run\n",
    "\n",
    "An example of a complete run of lephare with all stages required to estimate redshift. In contrast to the two first notebooks we are not using the high level *prepare* and *process* methods. Instead we are using the more fundamental *filter*, *sedtolib*, *mag_gal*, and *zphota* which more resembles a command line based run.\n",
    "\n",
    "We show how to include new filters from the Spanish Virtual Observatory [(SVO)](http://svo2.cab.inta-csic.es/theory/fps/).\n",
    "\n",
    "Again this notebook uses the COSMOS2020 (Weaver et al. 2022) data as an example."
   ]
  },
  {
   "cell_type": "code",
   "execution_count": null,
   "id": "dd9c2bb5-89ee-4061-9b19-0833ba449954",
   "metadata": {},
   "outputs": [],
   "source": [
    "import os\n",
    "import lephare as lp\n",
    "import numpy as np\n",
    "from matplotlib import pylab as plt\n",
    "\n",
    "%matplotlib inline"
   ]
  },
  {
   "cell_type": "markdown",
   "id": "c319f7fb-fd09-4ea4-899a-211e27f95836",
   "metadata": {},
   "source": [
    "## Set up the parameters\n"
   ]
  },
  {
   "cell_type": "markdown",
   "id": "48336218-e813-4d76-88d8-6520fa9e1726",
   "metadata": {},
   "source": [
    "As for the previous notebooks we are starting with the default COSMOS config that ships with the lephare Python code."
   ]
  },
  {
   "cell_type": "markdown",
   "id": "a853ff51-6c06-46e5-a257-b3470923c932",
   "metadata": {},
   "source": [
    "Modification of three keywords of the parameter file. "
   ]
  },
  {
   "cell_type": "code",
   "execution_count": null,
   "id": "1b12b2bc-9e28-4513-b041-9ad44a6ab16e",
   "metadata": {},
   "outputs": [],
   "source": [
    "config = lp.default_cosmos_config.copy()\n",
    "\n",
    "config.update(\n",
    "    {\n",
    "        # Verbose must be NO in the notebook.\n",
    "        \"VERBOSE\": \"NO\",\n",
    "        # this line reduced the zgrid density from the default to make the notebook run faster.\n",
    "        # Comment this out for better science results\n",
    "        \"Z_STEP\": \"0.04,0.,6.\",\n",
    "    }\n",
    ")"
   ]
  },
  {
   "cell_type": "markdown",
   "id": "e786250e-08e2-4132-a3eb-672ad263747f",
   "metadata": {},
   "source": [
    "Then we get the auxiliary files required to run the notebook for the documentation. If you have cloned the full auxiliary data repository you do not need to run this."
   ]
  },
  {
   "cell_type": "code",
   "execution_count": null,
   "id": "dd703d19-e493-4440-9675-8980a9c9f57f",
   "metadata": {},
   "outputs": [],
   "source": [
    "lp.data_retrieval.get_auxiliary_data(\n",
    "    keymap=config, additional_files=[\"examples/COSMOS.in\", \"examples/config.yml\", \"examples/output.para\"]\n",
    ")"
   ]
  },
  {
   "cell_type": "markdown",
   "id": "040ab3a2-962b-4584-8834-1d125fe25119",
   "metadata": {},
   "source": [
    "If adaption of the zero-points is turned off and you want to apply your own shift"
   ]
  },
  {
   "cell_type": "code",
   "execution_count": null,
   "id": "2db6b1d1-2fce-4b1b-bdf2-a6a609977c59",
   "metadata": {},
   "outputs": [],
   "source": [
    "# config[\"AUTO_ADAPT\"]= \"NO\"\n",
    "# config[\"APPLY_SYSSHIFT\"]= \"0.049,-0.013,-0.055,-0.065,-0.042,-0.044,-0.065,-0.0156,-0.002,0.052,-0.006,0.071,\n",
    "# 0.055,0.036,0.036,0.054,0.088,0.019,-0.154,0.040,0.044,0.060,0.045,0.022,0.062,0.033,0.015,0.012,0.0,0.0]\""
   ]
  },
  {
   "cell_type": "markdown",
   "id": "572df1dc-cf80-4e38-a0a1-ab4cdf9d5c7a",
   "metadata": {},
   "source": [
    "## Create filter library\n",
    "\n",
    "Read the filter names to be used in COSMOS.para and generate the filter file\n",
    "\n",
    "First, you can use the standard method with the list of filters in the parameter file. The filters are store in the LEPHAREDIR/filt directory. You can pass either the config file or the keymap as argument\n",
    "\n",
    "### Getting new filters\n",
    "\n",
    "Each filter requires a filter response curve. This is a table of wavelength values in Angstrom and filter transmission in arbitrary units. In this example we get the filters we need from the [SVO](http://svo2.cab.inta-csic.es/theory/fps/). We could have also used the filters that are available in [$LEPHAREDIR/filt](https://github.com/lephare-photoz/lephare-data/tree/main/filt). Or one could also use local files."
   ]
  },
  {
   "cell_type": "code",
   "execution_count": null,
   "id": "8b303cd5",
   "metadata": {},
   "outputs": [],
   "source": [
    "# This would get the filters from the config file and local LEPHAREDIR/filt location.\n",
    "# Later we see how to do the same from the SVO.\n",
    "filterLib = lp.Filter(config_keymap=lp.all_types_to_keymap(config))\n",
    "# uncomment to test passing the keymap\n",
    "# filterLib = Filter(config_keymap=lp.all_types_to_keymap(config))\n",
    "filterLib.run()"
   ]
  },
  {
   "cell_type": "markdown",
   "id": "d01ad592-90f2-43e4-a5bf-8ae65ca57ee3",
   "metadata": {},
   "source": [
    "Second, you can use the filterSvc helper class to gain more freedom. This class allows to retrieve the list of filt objetcs, independently of writing them on file."
   ]
  },
  {
   "cell_type": "code",
   "execution_count": null,
   "id": "7f1d836f-69ea-4250-8d32-8e31ce60e5aa",
   "metadata": {},
   "outputs": [],
   "source": [
    "filterLib = lp.FilterSvc.from_keymap(lp.all_types_to_keymap(config))\n",
    "filter_output = os.path.join(os.environ[\"LEPHAREWORK\"], \"filt\", config[\"FILTER_FILE\"])\n",
    "lp.write_output_filter(filter_output + \".dat\", filter_output + \".doc\", filterLib)"
   ]
  },
  {
   "cell_type": "markdown",
   "id": "3a91c555-5d96-4d98-933f-6cdd03e96285",
   "metadata": {},
   "source": [
    "It also allows to load the filters from a yaml file, with the possibility to query the SVO service for filters"
   ]
  },
  {
   "cell_type": "code",
   "execution_count": null,
   "id": "44e6dd2d-83d1-4ead-aee2-f4554f367829",
   "metadata": {},
   "outputs": [],
   "source": [
    "!ls $LEPHAREDIR/examples/"
   ]
  },
  {
   "cell_type": "code",
   "execution_count": null,
   "id": "da762bb3-9a07-4a83-bbe6-4ad5d98c3bf4",
   "metadata": {},
   "outputs": [],
   "source": [
    "# We use an example yaml file to retrieve the filter names used by the SVO\n",
    "filterLibSVO = lp.FilterSvc.from_yaml(f\"{lp.LEPHAREDIR}/examples/config.yml\")\n",
    "filter_output = os.path.join(os.environ[\"LEPHAREWORK\"], \"filt\", config[\"FILTER_FILE\"])\n",
    "lp.write_output_filter(filter_output + \"_svo.dat\", filter_output + \"_svo.doc\", filterLib)"
   ]
  },
  {
   "cell_type": "markdown",
   "id": "9fd175f2-53b2-4e4c-b13e-db09bbe731af",
   "metadata": {},
   "source": [
    "Plot the filters. We can see slight differences between those on the SVO and in the lepahre database."
   ]
  },
  {
   "cell_type": "code",
   "execution_count": null,
   "id": "02b45655-98bb-49a2-b4fc-6e4a942fce84",
   "metadata": {},
   "outputs": [],
   "source": [
    "fig = plt.figure(figsize=(15, 8))\n",
    "for f, fsvo in zip(filterLib, filterLibSVO):\n",
    "    d = f.data()\n",
    "    plt.semilogx(d[0], d[1] / d[1].max())\n",
    "    dsvo = fsvo.data()\n",
    "    plt.semilogx(dsvo[0], dsvo[1] / dsvo[1].max(), \".\")"
   ]
  },
  {
   "cell_type": "code",
   "execution_count": null,
   "id": "8a765701",
   "metadata": {},
   "outputs": [],
   "source": [
    "# filter_output = os.path.join(os.environ[\"LEPHAREWORK\"],\"filt\", filterLib.keymap['FILTER_FILE'] + \".dat\")\n",
    "# This figure shows that the filters have differing normalisation which has no impact on the fitting process.\n",
    "filters = np.loadtxt(\n",
    "    filter_output + \".dat\", dtype={\"names\": (\"lamb\", \"val\", \"bid\"), \"formats\": (float, float, int)}\n",
    ")\n",
    "plt.loglog(filters[\"lamb\"], filters[\"val\"])\n",
    "plt.xlabel(\"wavelength\");"
   ]
  },
  {
   "cell_type": "markdown",
   "id": "412093d4",
   "metadata": {},
   "source": [
    "## Create SED library\n",
    "\n",
    "SED objects represent SED templates belonging to one of the three possible classes \"STAR\", \"QSO\" (for AGN type of objects), and \"GAL\" for galaxies. SED templates available with LePhare can be found under the `sed` directory. "
   ]
  },
  {
   "cell_type": "code",
   "execution_count": null,
   "id": "23fbfe55",
   "metadata": {},
   "outputs": [],
   "source": [
    "sedlib = lp.Sedtolib(config_keymap=lp.all_types_to_keymap(config))"
   ]
  },
  {
   "cell_type": "code",
   "execution_count": null,
   "id": "13b371c4",
   "metadata": {},
   "outputs": [],
   "source": [
    "sedlib.run(typ=\"STAR\", star_sed=\"$LEPHAREDIR/sed/STAR/STAR_MOD_ALL.list\")"
   ]
  },
  {
   "cell_type": "code",
   "execution_count": null,
   "id": "da4e53e2-ab9a-4ae6-9d4e-cac0ed610d3a",
   "metadata": {},
   "outputs": [],
   "source": [
    "sedlib.run(typ=\"QSO\", qso_sed=\"$LEPHAREDIR/sed/QSO/SALVATO09/AGN_MOD.list\", gal_lib=\"LIB_QSO\")"
   ]
  },
  {
   "cell_type": "code",
   "execution_count": null,
   "id": "99867870-166c-40c4-9aa6-722eab7574a1",
   "metadata": {},
   "outputs": [],
   "source": [
    "sedlib.run(typ=\"GAL\", gal_sed=\"$LEPHAREDIR/sed/GAL/COSMOS_SED/COSMOS_MOD.list\", gal_lib=\"LIB_GAL\")"
   ]
  },
  {
   "cell_type": "markdown",
   "id": "a1418537-a51d-4d7f-9c5b-19820b88aaef",
   "metadata": {},
   "source": [
    "## Create a magnitude library\n",
    "\n",
    "Use the SED library to create a magnitude library"
   ]
  },
  {
   "cell_type": "code",
   "execution_count": null,
   "id": "1e440962-0d52-4581-ac69-5be8a3c7b985",
   "metadata": {},
   "outputs": [],
   "source": [
    "maglib = lp.MagGal(config_keymap=lp.all_types_to_keymap(config))"
   ]
  },
  {
   "cell_type": "code",
   "execution_count": null,
   "id": "f76f6cd4",
   "metadata": {},
   "outputs": [],
   "source": [
    "maglib.run(\n",
    "    typ=\"STAR\",\n",
    "    lib_ascii=\"YES\",\n",
    "    star_lib_out=\"STAR_COSMOS\",\n",
    "    extinc_law=\"SB_calzetti.dat\",\n",
    "    mod_extinc=\"0,0\",\n",
    ")"
   ]
  },
  {
   "cell_type": "code",
   "execution_count": null,
   "id": "055b3728",
   "metadata": {},
   "outputs": [],
   "source": [
    "maglib.run(\n",
    "    typ=\"QSO\",\n",
    "    lib_ascii=\"YES\",\n",
    "    mod_extinc=\"0,1000\",\n",
    "    eb_v=\"0.,0.1,0.2,0.3\",\n",
    "    extinc_law=\"SB_calzetti.dat\",\n",
    "    qso_lib_in=\"LIB_QSO\",\n",
    "    qso_lib_out=\"QSO_COSMOS\",\n",
    ")"
   ]
  },
  {
   "cell_type": "code",
   "execution_count": null,
   "id": "a9f09ab1-0a40-43bd-936e-6153c4e361af",
   "metadata": {},
   "outputs": [],
   "source": [
    "maglib.run(\n",
    "    typ=\"GAL\",\n",
    "    lib_ascii=\"YES\",\n",
    "    gal_lib_in=\"LIB_GAL\",\n",
    "    gal_lib_out=\"GAL_COSMOS\",\n",
    "    mod_extinc=\"18,26,26,33,26,33,26,33\",\n",
    "    extinc_law=\"SMC_prevot.dat,SB_calzetti.dat,SB_calzetti_bump1.dat,SB_calzetti_bump2.dat\",\n",
    "    em_lines=\"EMP_UV\",\n",
    "    em_dispersion=\"0.5,0.75,1.,1.5,2.\",\n",
    ")"
   ]
  },
  {
   "cell_type": "markdown",
   "id": "b653c140-bffd-408d-bbf7-94401460f766",
   "metadata": {},
   "source": [
    "## Run the photoz"
   ]
  },
  {
   "cell_type": "markdown",
   "id": "dbe1ec31-c1fe-49c7-9340-8c36fc220500",
   "metadata": {},
   "source": [
    "Read the parameter file and store the keywords. Example with the modification of three keywords of the parameter file. Verbose must be NO in the notebook."
   ]
  },
  {
   "cell_type": "code",
   "execution_count": null,
   "id": "1f97a44a-6c3f-4ca5-a2b7-c3a9d28d33b0",
   "metadata": {},
   "outputs": [],
   "source": [
    "# These are the names created above with the argument gal_lib_out\n",
    "config.update(\n",
    "    {\n",
    "        \"ZPHOTLIB\": \"GAL_COSMOS,STAR_COSMOS,QSO_COSMOS\",\n",
    "        \"SPEC_OUT\": \"save_spec\",\n",
    "    }\n",
    ")"
   ]
  },
  {
   "cell_type": "markdown",
   "id": "72a67aee-128e-48a4-98ec-d8dff7505480",
   "metadata": {},
   "source": [
    "Instantiate a lephare.PhotoZ object which will manage the computation of photometric redshifts for all sources. It is instantiated based on all the config parameters. \n",
    "\n"
   ]
  },
  {
   "cell_type": "code",
   "execution_count": null,
   "id": "83641591-9527-4378-8e9c-2aec34ce8fcb",
   "metadata": {},
   "outputs": [],
   "source": [
    "photz = lp.PhotoZ(lp.all_types_to_keymap(config))"
   ]
  },
  {
   "cell_type": "markdown",
   "id": "1434ab52-1e7d-4611-8ab6-ac7d3de2f759",
   "metadata": {},
   "source": [
    "Read the input file with the following information: id, flux and associated uncertainties in all bands, a context indicating which bands to use in the fit (0 indicates all bands), and a spectrocopic redshift if it exists. "
   ]
  },
  {
   "cell_type": "code",
   "execution_count": null,
   "id": "b20bb607-8c6a-4a5a-b93b-ae1e24a03bf3",
   "metadata": {},
   "outputs": [],
   "source": [
    "cat = np.loadtxt(f\"{lp.LEPHAREDIR}/examples/COSMOS.in\")\n",
    "id = cat[:, 0]\n",
    "fluxes = cat[:, 1:60:2]\n",
    "efluxes = cat[:, 2:61:2]\n",
    "context = cat[:, 61]\n",
    "zspec = cat[:, 62]\n",
    "print(\"Check format with context and zspec :\", context, zspec)"
   ]
  },
  {
   "cell_type": "markdown",
   "id": "ad7ee2a0-0780-4b68-89dc-df2567a993ba",
   "metadata": {},
   "source": [
    "Create a list of sources with a spec-z. Use for the zero-point training or any validation run.\n"
   ]
  },
  {
   "cell_type": "code",
   "execution_count": null,
   "id": "2c4dad65-4e97-43d1-93f2-cd85a2e12a13",
   "metadata": {},
   "outputs": [],
   "source": [
    "srclist = []\n",
    "# Here, limited to the 1000 first sources.\n",
    "n_obj = 1000\n",
    "zspec_mask = np.logical_and(zspec > 0.01, zspec < 6)\n",
    "# We are running on the last n_obj objects to use a different set of objects to perform\n",
    "# zero-point correction to the test objects\n",
    "for i in np.where(zspec_mask)[0][-n_obj:]:\n",
    "    # Each element of the list is an instance of the lephare.onesource class.\n",
    "    # This encapsulates all the information for a given source.\n",
    "    oneObj = lp.onesource(i, photz.gridz)\n",
    "    oneObj.readsource(str(id[i]), fluxes[i, :], efluxes[i, :], int(context[i]), zspec[i], \" \")\n",
    "    # lephare.PhotoZ passes the configuration parameters to each source.\n",
    "    photz.prep_data(oneObj)\n",
    "    srclist.append(oneObj)\n",
    "print(\"Sources with a spec-z: \", len(srclist))"
   ]
  },
  {
   "cell_type": "markdown",
   "id": "341daf0d-c468-4954-8b54-fef495ee6983",
   "metadata": {},
   "source": [
    "Derive the zero-points offsets. This corresponds to the median difference between apparent and observed magnitude in each filter. It is stored in the list, a0, which is later passed to the lephare.PhotoZ.run_photoz method. a1 is not currently used and may become defunct in future versions of lephare."
   ]
  },
  {
   "cell_type": "code",
   "execution_count": null,
   "id": "be5dfa58-f725-4b6e-bdfa-ab0234b91ab7",
   "metadata": {},
   "outputs": [],
   "source": [
    "a0, a1 = photz.run_autoadapt(srclist)\n",
    "offsets = \",\".join(np.array(a0).astype(str))\n",
    "offsets = \"# Offsets from auto-adapt: \" + offsets + \"\\n\"\n",
    "print(offsets)"
   ]
  },
  {
   "cell_type": "markdown",
   "id": "723c4be6-e822-42d5-9463-530c28c1b649",
   "metadata": {},
   "source": [
    "Create the list of sources for which we want a photo-z. "
   ]
  },
  {
   "cell_type": "code",
   "execution_count": null,
   "id": "23e36e5d-a503-4bc8-bf64-0e808e72d06d",
   "metadata": {},
   "outputs": [],
   "source": [
    "photozlist = []\n",
    "for i in range(n_obj):\n",
    "    oneObj = lp.onesource(i, photz.gridz)\n",
    "    oneObj.readsource(str(id[i]), fluxes[i, :], efluxes[i, :], int(context[i]), zspec[i], \" \")\n",
    "    photz.prep_data(oneObj)\n",
    "    photozlist.append(oneObj)\n",
    "print(\"Number of sources to be analysed: \", len(srclist))"
   ]
  },
  {
   "cell_type": "markdown",
   "id": "26623c01-57f0-496a-bb2c-4ed7105ed357",
   "metadata": {},
   "source": [
    "Run the photoz. We pass the values of the zero point calibration calculated above"
   ]
  },
  {
   "cell_type": "code",
   "execution_count": null,
   "id": "cce71934-cc95-4364-9a4a-f87200ba573f",
   "metadata": {},
   "outputs": [],
   "source": [
    "photz.run_photoz(photozlist, a0, a1)\n",
    "# If adaption of the zero-points is turned off\n",
    "# photz.run_photoz(photozlist[:100], [],[] )"
   ]
  },
  {
   "cell_type": "markdown",
   "id": "1e33d0f4-1894-4cc8-a7ad-346127168bef",
   "metadata": {},
   "source": [
    "### Save the parameters that have been used\n",
    "\n",
    "For capturing the parameters that were used in a given run it is useful to save the updated config to file. Be careful as this will not capture the overrides that were sent directly to the lephare.MagGal.run method which impact the outputs."
   ]
  },
  {
   "cell_type": "code",
   "execution_count": null,
   "id": "0097b6e6-dc03-4854-9553-75814e6c214e",
   "metadata": {},
   "outputs": [],
   "source": [
    "# we can write the config to a file to keep a record\n",
    "lp.write_para_config(lp.all_types_to_keymap(config), \"./config_file.para\")\n",
    "# One can also save it as a yaml file if you prefer\n",
    "lp.write_yaml_config(lp.all_types_to_keymap(config), \"./config_file.yaml\")"
   ]
  },
  {
   "cell_type": "markdown",
   "id": "f1b12906-006a-48ae-b6ef-f9cc8bbaac5d",
   "metadata": {},
   "source": [
    "## Create output in fits\n"
   ]
  },
  {
   "cell_type": "code",
   "execution_count": null,
   "id": "a1ed1d5b-5bd9-4e01-b150-d0b295a929ce",
   "metadata": {},
   "outputs": [],
   "source": [
    "t = photz.build_output_tables(photozlist[:n_obj], para_out=None, filename=\"outputphotoz.fits\")"
   ]
  },
  {
   "cell_type": "code",
   "execution_count": null,
   "id": "6a47dedd-414c-4bfd-ae20-de3b4021badf",
   "metadata": {},
   "outputs": [],
   "source": [
    "t[:5]"
   ]
  },
  {
   "cell_type": "markdown",
   "id": "e8969641-6110-4d8a-88cc-72aebf9e6619",
   "metadata": {},
   "source": [
    "Create all ascii files with the output of the run"
   ]
  },
  {
   "cell_type": "code",
   "execution_count": null,
   "id": "39ad9dea-b259-41b9-a47e-4d0155b17cd6",
   "metadata": {},
   "outputs": [],
   "source": [
    "import time\n",
    "\n",
    "photz.write_outputs(photozlist[:10], int(time.time()))"
   ]
  },
  {
   "cell_type": "code",
   "execution_count": null,
   "id": "ec02ea68-db53-4b9e-a815-96f567915fb2",
   "metadata": {},
   "outputs": [],
   "source": [
    "# This created the output ascii file specified in the config CAT_OUT parameter\n",
    "!ls -al zphot.out"
   ]
  },
  {
   "cell_type": "markdown",
   "id": "1f895cff-fd1d-4033-ac94-5d8e616454a3",
   "metadata": {},
   "source": [
    "Check the results broadly follow a 1-1 relation"
   ]
  },
  {
   "cell_type": "code",
   "execution_count": null,
   "id": "e357b04d-c2ce-4065-91bf-22946e7f04db",
   "metadata": {},
   "outputs": [],
   "source": [
    "plt.plot([0, 6], [0, 6], c=\"r\", alpha=0.5)\n",
    "plt.scatter(t[\"ZSPEC\"], t[\"Z_BEST\"], s=3)\n",
    "plt.xlabel(\"z spec\")\n",
    "plt.ylabel(\"z phot\")"
   ]
  },
  {
   "cell_type": "markdown",
   "id": "5192bcfe-a8ee-44b8-a59f-06c90b1e90f3",
   "metadata": {},
   "source": [
    "Make plots for individual sources with all the files listed in save_spec"
   ]
  },
  {
   "cell_type": "code",
   "execution_count": null,
   "id": "53555054-537e-43d7-a5b2-722995bfc3b4",
   "metadata": {},
   "outputs": [],
   "source": [
    "from os import listdir\n",
    "from os.path import isfile, join\n",
    "\n",
    "listname = [f for f in listdir(\"save_spec\") if isfile(join(\"save_spec\", f))]\n",
    "# Lets just look at the top 10\n",
    "for namefile in listname[:10]:\n",
    "    lp.plotspec(\"save_spec/\" + str(namefile))"
   ]
  },
  {
   "cell_type": "code",
   "execution_count": null,
   "id": "f63ca914-35ae-45a0-b202-20a85aa18261",
   "metadata": {},
   "outputs": [],
   "source": []
  },
  {
   "cell_type": "code",
   "execution_count": null,
   "id": "96bddffc-e5f2-4275-84d6-9ebfc1f26ba9",
   "metadata": {},
   "outputs": [],
   "source": []
  },
  {
   "cell_type": "code",
   "execution_count": null,
   "id": "6efc94d9-67f7-48d1-b2d8-ffdb75ad4dd7",
   "metadata": {},
   "outputs": [],
   "source": []
  }
 ],
 "metadata": {
  "kernelspec": {
   "display_name": "lephare",
   "language": "python",
   "name": "lephare"
  },
  "language_info": {
   "codemirror_mode": {
    "name": "ipython",
    "version": 3
   },
   "file_extension": ".py",
   "mimetype": "text/x-python",
   "name": "python",
   "nbconvert_exporter": "python",
   "pygments_lexer": "ipython3",
   "version": "3.13.0"
  }
 },
 "nbformat": 4,
 "nbformat_minor": 5
}
