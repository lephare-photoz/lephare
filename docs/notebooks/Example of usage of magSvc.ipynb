{
 "cells": [
  {
   "cell_type": "code",
   "execution_count": 1,
   "id": "ebb9f0ee",
   "metadata": {},
   "outputs": [],
   "source": [
    "from lephare import *\n",
    "import numpy as np\n",
    "from matplotlib import pylab as plt\n",
    "from scipy import integrate as sciint\n",
    "import glob, time\n",
    "%matplotlib inline"
   ]
  },
  {
   "cell_type": "code",
   "execution_count": 2,
   "id": "e29423bc",
   "metadata": {},
   "outputs": [],
   "source": [
    "allFlt = FilterSvc.from_config(\"../examples/COSMOS.para\")"
   ]
  },
  {
   "cell_type": "code",
   "execution_count": 3,
   "id": "046b4781",
   "metadata": {},
   "outputs": [],
   "source": [
    "sed = StarSED(\"test\", 0)\n",
    "sed.read(\"../sed/STAR/BD_NEW/lte012.0-4.0-0.0a+0.0.BT-Settl.spec.txt\")"
   ]
  },
  {
   "cell_type": "code",
   "execution_count": 4,
   "id": "3056c57c",
   "metadata": {},
   "outputs": [],
   "source": [
    "opavec = GalMag.read_opa()"
   ]
  },
  {
   "cell_type": "code",
   "execution_count": 5,
   "id": "fe5e0190",
   "metadata": {},
   "outputs": [
    {
     "name": "stdout",
     "output_type": "stream",
     "text": [
      "Number of keywords read in the config file: 92\n"
     ]
    }
   ],
   "source": [
    "mag = MagSvc.from_config(\"Star\",\"../examples/COSMOS.para\")"
   ]
  },
  {
   "cell_type": "code",
   "execution_count": 6,
   "id": "bce7a3d2",
   "metadata": {},
   "outputs": [],
   "source": [
    "newsed = mag.make_maglib(sed)"
   ]
  },
  {
   "cell_type": "code",
   "execution_count": null,
   "id": "d49fc15f",
   "metadata": {},
   "outputs": [],
   "source": [
    "newsed.mag"
   ]
  }
 ],
 "metadata": {
  "kernelspec": {
   "display_name": "Python 3 (ipykernel)",
   "language": "python",
   "name": "python3"
  },
  "language_info": {
   "codemirror_mode": {
    "name": "ipython",
    "version": 3
   },
   "file_extension": ".py",
   "mimetype": "text/x-python",
   "name": "python",
   "nbconvert_exporter": "python",
   "pygments_lexer": "ipython3",
   "version": "3.8.16"
  }
 },
 "nbformat": 4,
 "nbformat_minor": 5
}
