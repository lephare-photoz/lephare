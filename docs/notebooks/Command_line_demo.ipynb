{
 "cells": [
  {
   "cell_type": "markdown",
   "metadata": {},
   "source": [
    "# Command line demo\n",
    "\n",
    "For the time being, we assume you have \"test_suite.sh\" at the top level of your LEPHAREDIR dir.\n",
    "\n",
    "To discuss where we want to store this in the long term."
   ]
  },
  {
   "cell_type": "code",
   "execution_count": null,
   "metadata": {},
   "outputs": [],
   "source": [
    "import os\n",
    "import lephare as lp\n",
    "\n",
    "test_suite_file = os.path.join(os.environ[\"LEPHAREDIR\"], \"test_suite.sh\")"
   ]
  },
  {
   "cell_type": "code",
   "execution_count": null,
   "metadata": {},
   "outputs": [],
   "source": [
    "!bash $test_suite_file"
   ]
  }
 ],
 "metadata": {
  "kernelspec": {
   "display_name": "Python (lph)",
   "language": "python",
   "name": "lph"
  },
  "language_info": {
   "codemirror_mode": {
    "name": "ipython",
    "version": 3
   },
   "file_extension": ".py",
   "mimetype": "text/x-python",
   "name": "python",
   "nbconvert_exporter": "python",
   "pygments_lexer": "ipython3",
   "version": "3.10.14"
  }
 },
 "nbformat": 4,
 "nbformat_minor": 2
}
