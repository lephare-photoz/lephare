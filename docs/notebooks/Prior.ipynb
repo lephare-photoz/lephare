{
 "cells": [
  {
   "cell_type": "markdown",
   "id": "59aa16dc-8c12-4c0c-a75d-9251c7efd3b3",
   "metadata": {},
   "source": [
    "# Prior functionality\n",
    "\n",
    "In this notebook I will demonstrate a basic redshift prior and show how more complex priors might be developed. Essentially the user needs to define a set of weights for each model and pass these weights to the prior for a given source."
   ]
  },
  {
   "cell_type": "code",
   "execution_count": null,
   "id": "ff92daab-96a8-40ba-8d3c-7b8cff3612e2",
   "metadata": {},
   "outputs": [],
   "source": [
    "import lephare as lp\n",
    "import numpy as np\n",
    "from matplotlib import pylab as plt\n",
    "\n",
    "%matplotlib inline"
   ]
  },
  {
   "cell_type": "code",
   "execution_count": null,
   "id": "fc8e1f19-837d-4fe2-b1e6-874caf4dd74b",
   "metadata": {},
   "outputs": [],
   "source": [
    "config = lp.default_cosmos_config.copy()\n",
    "config[\"Z_STEP\"] = \"0.1,0.,5.\"  # To make notebook very fast to run\n",
    "keymap = lp.all_types_to_keymap(config)"
   ]
  },
  {
   "cell_type": "code",
   "execution_count": null,
   "id": "0b6c33e3-8bf7-4352-b73c-48b89abf1a7e",
   "metadata": {},
   "outputs": [],
   "source": [
    "lp.prepare(keymap)"
   ]
  },
  {
   "cell_type": "code",
   "execution_count": null,
   "id": "8d6e2bd8-08e8-465e-b0b3-ad84d8259b69",
   "metadata": {},
   "outputs": [],
   "source": [
    "photz = lp.PhotoZ(keymap)"
   ]
  },
  {
   "cell_type": "code",
   "execution_count": null,
   "id": "6d68c664-decb-4357-a847-65f46eae4314",
   "metadata": {},
   "outputs": [],
   "source": [
    "len(photz.gridz)"
   ]
  },
  {
   "cell_type": "code",
   "execution_count": null,
   "id": "844b1a2f-5a7b-4009-8221-04921e216939",
   "metadata": {},
   "outputs": [],
   "source": [
    "len(photz.fullLib)"
   ]
  },
  {
   "cell_type": "code",
   "execution_count": null,
   "id": "fad4da93-858e-4f15-8dd0-f4b5ab98e89a",
   "metadata": {},
   "outputs": [],
   "source": [
    "def fulllib_to_weights(fullLib):\n",
    "    \"\"\"Function which takes the full library of models as an input and returns a prior weight for each.\n",
    "\n",
    "    This is a means to apply a fully generalisable prior which can be called independently for each source.\n",
    "\n",
    "    In this case as a basic example I impose a maximum redshift of 2.\n",
    "\n",
    "    Parameters\n",
    "    ==========\n",
    "\n",
    "    fullLib : list of lephare.QSOSED, lephare.StarSED, lephare.GalSED\n",
    "        The full library of models to fit\n",
    "\n",
    "    Returns\n",
    "    =======\n",
    "\n",
    "    weights : list of floats\n",
    "        the list of prior weights to apply to each model.\n",
    "    \"\"\"\n",
    "    weights = np.array([1 for l in fullLib])\n",
    "    # Get the redshift using the index\n",
    "    # Seems odd. Is this really the best way to get the redshift?\n",
    "    red = np.array([photz.fullLib[n].red for n in np.arange(len(photz.fullLib))])\n",
    "\n",
    "    weights[red > 2] = 1.0e-9\n",
    "\n",
    "    return weights\n",
    "\n",
    "\n",
    "fulllib_to_weights(photz.fullLib)[:5]"
   ]
  },
  {
   "cell_type": "code",
   "execution_count": null,
   "id": "f21e1080-3131-4e7f-bca5-686f4fc0c150",
   "metadata": {},
   "outputs": [],
   "source": [
    "# Lets look at what we have access to determine the prior weight"
   ]
  },
  {
   "cell_type": "code",
   "execution_count": null,
   "id": "a06ffb78-2701-414e-a1a2-69c8e930c60d",
   "metadata": {},
   "outputs": [],
   "source": [
    "qso_ex = photz.fullLib[0]\n",
    "star_ex = photz.fullLib[900]\n",
    "gal_ex = photz.fullLib[3000]"
   ]
  },
  {
   "cell_type": "code",
   "execution_count": null,
   "id": "37c598f8-4d76-452d-ab59-48a7916cbdb9",
   "metadata": {},
   "outputs": [],
   "source": [
    "# The redshift\n",
    "gal_ex.red"
   ]
  },
  {
   "cell_type": "code",
   "execution_count": null,
   "id": "5720827c-e3ad-4254-bccd-f3425cf6d391",
   "metadata": {},
   "outputs": [],
   "source": [
    "red = [photz.fullLib[n].red for n in np.arange(len(photz.fullLib))]"
   ]
  },
  {
   "cell_type": "code",
   "execution_count": null,
   "id": "18256cb5-c9a1-4b14-9bb3-8dd87393c95f",
   "metadata": {},
   "outputs": [],
   "source": [
    "red[:5]"
   ]
  },
  {
   "cell_type": "code",
   "execution_count": null,
   "id": "ecdbfabd-b7b0-4acf-9374-88f9cd17b0be",
   "metadata": {},
   "outputs": [],
   "source": [
    "np.unique(red)"
   ]
  },
  {
   "cell_type": "code",
   "execution_count": null,
   "id": "6e4b8afa-c70e-46b4-9efd-40235ac45ad0",
   "metadata": {},
   "outputs": [],
   "source": [
    "# The model numbers to set priors on a given template\n",
    "nummod = [l.nummod for l in photz.fullLib]\n",
    "np.unique(nummod)"
   ]
  },
  {
   "cell_type": "code",
   "execution_count": null,
   "id": "37bdaa71-7914-437f-a246-cc9e66ca92c9",
   "metadata": {},
   "outputs": [],
   "source": [
    "# The ebv are all zero. I think this is because they are applied to the photometry not the model\n",
    "photz.fullLib[3000].ebv"
   ]
  },
  {
   "cell_type": "code",
   "execution_count": null,
   "id": "ac90eabe-dbeb-4314-bc1c-b4f70fa984f3",
   "metadata": {},
   "outputs": [],
   "source": [
    "photz.fullLib[:5]"
   ]
  },
  {
   "cell_type": "code",
   "execution_count": null,
   "id": "71b56c8d-4a8e-475f-9c9e-b33684469cc1",
   "metadata": {},
   "outputs": [],
   "source": [
    "# Set the prior function via pybind"
   ]
  },
  {
   "cell_type": "markdown",
   "id": "277e3103-71ee-4c5d-97b5-8b1cb0a60c6f",
   "metadata": {},
   "source": [
    "## Compare results with and without the simple redshift prior\n",
    "\n",
    "Here we will run twice with the redshift prior above applied or not to show how it impacts the predicted redshifts."
   ]
  },
  {
   "cell_type": "code",
   "execution_count": null,
   "id": "5277626b-e15f-434a-b38d-0f912d1e5e9b",
   "metadata": {},
   "outputs": [],
   "source": [
    "cat = np.loadtxt(f\"{lp.LEPHAREDIR}/examples/COSMOS.in\")\n",
    "id = cat[:, 0]\n",
    "fluxes = cat[:, 1:60:2]\n",
    "efluxes = cat[:, 2:61:2]\n",
    "context = cat[:, 61]\n",
    "zspec = cat[:, 62]\n",
    "print(\"Check format with context and zspec :\", context, zspec)"
   ]
  },
  {
   "cell_type": "code",
   "execution_count": null,
   "id": "8d4cb7c7-2f87-4b3f-9c1f-0b8adb087f62",
   "metadata": {},
   "outputs": [],
   "source": [
    "w = fulllib_to_weights(photz.fullLib)"
   ]
  },
  {
   "cell_type": "code",
   "execution_count": null,
   "id": "8bb4650e-bb43-4b37-8e5f-fb7501883ffe",
   "metadata": {},
   "outputs": [],
   "source": [
    "srclist = []\n",
    "zspec_mask = np.logical_and(zspec > 0.01, zspec < 6)\n",
    "for i in np.where(zspec_mask)[0]:\n",
    "    oneObj = lp.onesource(i, photz.gridz)\n",
    "    oneObj.readsource(str(id[i]), fluxes[i, :], efluxes[i, :], int(context[i]), zspec[i], \" \")\n",
    "    oneObj.priorObj.apply_weights = 1\n",
    "    oneObj.priorObj.weights = w\n",
    "    photz.prep_data(oneObj)\n",
    "    srclist.append(oneObj)\n",
    "print(\"Sources with a spec-z: \", len(srclist))"
   ]
  },
  {
   "cell_type": "code",
   "execution_count": null,
   "id": "80e3c7e7-5bef-41ef-b19c-6db2b735a772",
   "metadata": {},
   "outputs": [],
   "source": [
    "# Run the photoz"
   ]
  },
  {
   "cell_type": "code",
   "execution_count": null,
   "id": "46ac8fe0-7b61-4b61-80d8-cacb53ff7c34",
   "metadata": {},
   "outputs": [],
   "source": [
    "a0, a1 = photz.run_autoadapt(srclist)\n",
    "offsets = \",\".join(np.array(a0).astype(str))\n",
    "offsets = \"# Offsets from auto-adapt: \" + offsets + \"\\n\"\n",
    "print(offsets)"
   ]
  },
  {
   "cell_type": "code",
   "execution_count": null,
   "id": "b03c41ac-d336-4ec7-8a16-72804e608203",
   "metadata": {},
   "outputs": [],
   "source": [
    "photozlist = []\n",
    "for i in range(100):\n",
    "    oneObj = lp.onesource(i, photz.gridz)\n",
    "    oneObj.readsource(str(id[i]), fluxes[i, :], efluxes[i, :], int(context[i]), zspec[i], \" \")\n",
    "    oneObj.priorObj.apply_weights = 1\n",
    "    oneObj.priorObj.weights = w\n",
    "    photz.prep_data(oneObj)\n",
    "    photozlist.append(oneObj)\n",
    "print(\"Number of sources to be analysed: \", len(srclist))"
   ]
  },
  {
   "cell_type": "code",
   "execution_count": null,
   "id": "3063e28b-0b5a-438d-9dad-f1560e4dea56",
   "metadata": {},
   "outputs": [],
   "source": [
    "photz.run_photoz(photozlist[:100], a0, a1)"
   ]
  },
  {
   "cell_type": "code",
   "execution_count": null,
   "id": "e356e632-9a6e-445c-9f55-64aefb3112fd",
   "metadata": {},
   "outputs": [],
   "source": [
    "t = photz.build_output_tables(photozlist[:100], para_out=None, filename=\"testPrior.fits\")"
   ]
  },
  {
   "cell_type": "code",
   "execution_count": null,
   "id": "2d288b30-030d-4624-837f-edcd422be307",
   "metadata": {},
   "outputs": [],
   "source": [
    "t[:5]"
   ]
  },
  {
   "cell_type": "code",
   "execution_count": null,
   "id": "729b795e-2be5-4807-87ce-4a227996780d",
   "metadata": {},
   "outputs": [],
   "source": [
    "plt.hist(t[\"Z_BEST\"], bins=50)\n",
    "plt.xlabel(\"z with z<2 prior\")"
   ]
  },
  {
   "cell_type": "code",
   "execution_count": null,
   "id": "23b7b424-4924-48d3-b564-551b09248f8e",
   "metadata": {},
   "outputs": [],
   "source": [
    "photozlist = []\n",
    "for i in range(100):\n",
    "    oneObj = lp.onesource(i, photz.gridz)\n",
    "    oneObj.readsource(str(id[i]), fluxes[i, :], efluxes[i, :], int(context[i]), zspec[i], \" \")\n",
    "    # oneObj.priorObj.apply_weights=1\n",
    "    # oneObj.priorObj.weights=w\n",
    "    photz.prep_data(oneObj)\n",
    "    photozlist.append(oneObj)\n",
    "print(\"Number of sources to be analysed: \", len(srclist))\n",
    "\n",
    "photz.run_photoz(photozlist[:100], a0, a1)\n",
    "\n",
    "t2 = photz.build_output_tables(photozlist[:100], para_out=None, filename=\"testPrior.fits\")\n",
    "plt.hist(t2[\"Z_BEST\"], bins=50)\n",
    "plt.xlabel(\"z without z<2 prior\")"
   ]
  }
 ],
 "metadata": {
  "kernelspec": {
   "display_name": "lincc",
   "language": "python",
   "name": "lincc"
  },
  "language_info": {
   "codemirror_mode": {
    "name": "ipython",
    "version": 3
   },
   "file_extension": ".py",
   "mimetype": "text/x-python",
   "name": "python",
   "nbconvert_exporter": "python",
   "pygments_lexer": "ipython3",
   "version": "3.10.14"
  }
 },
 "nbformat": 4,
 "nbformat_minor": 5
}
