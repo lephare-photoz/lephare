{
 "cells": [
  {
   "cell_type": "markdown",
   "id": "5265aafb",
   "metadata": {},
   "source": [
    "# Initialization"
   ]
  },
  {
   "cell_type": "code",
   "execution_count": 32,
   "id": "3d1a29b1",
   "metadata": {},
   "outputs": [],
   "source": [
    "import os\n",
    "import lephare as lp\n",
    "import numpy as np\n",
    "from matplotlib import pylab as plt\n",
    "\n",
    "%matplotlib inline"
   ]
  },
  {
   "cell_type": "markdown",
   "id": "510eca14",
   "metadata": {},
   "source": [
    "# Create filter library"
   ]
  },
  {
   "cell_type": "code",
   "execution_count": null,
   "id": "0c2cfe4f",
   "metadata": {},
   "outputs": [
    {
     "name": "stdout",
     "output_type": "stream",
     "text": [
      "/home/hallouin/Documents/thall_2025/photoz/lephare/training_stats/simulation_catalogs/DES/DES/DES_STARCAT/WORK_COMPLETE2/filt\n",
      "# NAME                        IDENT      Lbda_mean Lbeff(Vega)       FWHM     AB-cor    TG-cor      VEGA M_sun(AB)   CALIB      Lb_eff    Fac_corr\n",
      "DES_filter_g.res              1             0.4827      0.4735      0.1299   -0.0867   -0.2558  -20.7147    5.0926       0      0.4753      1.0000\n",
      "DES_filter_r.res              2             0.6432      0.6343      0.1484    0.1835    0.3154  -21.6187    4.6235       0      0.6375      1.0000\n",
      "DES_filter_i.res              3             0.7827      0.7749      0.1482    0.4149    0.6384  -22.2807    4.5296       0      0.7779      1.0000\n",
      "DES_filter_z.res              4             0.9179      0.9139      0.1471    0.5235    0.7629  -22.7383    4.5124       0      0.9139      1.0000\n",
      "DES_filter_Y.res              5             0.9900      0.9880      0.0661    0.5722    0.7890  -22.9560    4.5088       0      0.9886      1.0000\n"
     ]
    }
   ],
   "source": [
    "base_dir = os.path.abspath(os.path.join(os.getcwd(), '..')) #change to your lephare base_dir\n",
    "filter_path = os.path.join(base_dir, 'simulation_catalogs/DES/DES/DES_STARCAT/WORK_COMPLETE2/filt') #paste your relative filter path\n",
    "print(filter_path)\n",
    "filter_rep = lp.keyword(\"FILTER_REP\", filter_path)\n",
    "filter_list = lp.keyword(\"FILTER_LIST\",\n",
    "                         \"DES_filter_g.res,DES_filter_r.res,\\\n",
    "                         DES_filter_i.res,DES_filter_z.res,DES_filter_Y.res\") #edit your filter list\n",
    "#crash if add comma\n",
    "\n",
    "filterLib = lp.Filter(config_keymap={\"FILTER_REP\":filter_rep,\n",
    "                                   \"FILTER_LIST\":filter_list,\n",
    "                                   \"TRANS_TYPE\":lp.keyword(\"TRANS_TYPE\", \"0\"),\n",
    "                                   \"FILTER_CALIB\":lp.keyword(\"FILTER_CALIB\", \"0\"),\n",
    "                                   \"FILTER_FILE\":lp.keyword(\"FILTER_FILE\", \"photozDES\")})\n",
    "\n",
    "\n",
    "filterLib.run()\n"
   ]
  },
  {
   "cell_type": "markdown",
   "id": "06a07bcb",
   "metadata": {},
   "source": [
    "# Create SED library"
   ]
  },
  {
   "cell_type": "code",
   "execution_count": 42,
   "id": "6610124a",
   "metadata": {},
   "outputs": [
    {
     "data": {
      "text/plain": [
       "(SED_REP, /home/hallouin/Documents/thall_2025/photoz/lephare/training_stats/simulation_catalogs/buzzard_base/SEDS/updated_Buzzard_SEDs)"
      ]
     },
     "execution_count": 42,
     "metadata": {},
     "output_type": "execute_result"
    }
   ],
   "source": [
    "###Buzzard\n",
    "\n",
    "SED_path = os.path.join(base_dir, 'simulation_catalogs/buzzard_base/SEDS/updated_Buzzard_SEDs')\n",
    "\n",
    "# SED_list = sorted([\n",
    "#     f for f in os.listdir(SED_path)\n",
    "#     if os.path.isfile(os.path.join(SED_path, f)) and f.endswith(\".sed\")\n",
    "# ])\n",
    "\n",
    "SED_list = [f'kmeansbuzzard_{i}.sed' for i in range(0,100)]\n",
    "\n",
    "#save to file.list because we must do it like this\n",
    "SED_list_path = os.path.join(SED_path, \"updated_Buzzard_SEDs.list\")\n",
    "with open(SED_list_path, \"w\") as f:\n",
    "    for sed_file in SED_list:\n",
    "        f.write(sed_file + \"\\n\")\n",
    "\n",
    "SED_rep = lp.keyword(\"SED_REP\", SED_path)\n",
    "# SED_list = lp.keyword(\"SED_LIST\",f\"{SED_list}\")\n",
    "SED_rep"
   ]
  },
  {
   "cell_type": "code",
   "execution_count": null,
   "id": "9fd0e00b",
   "metadata": {},
   "outputs": [],
   "source": [
    "import shutil\n",
    "\n",
    "#Lephare cache file\n",
    "LEPHARE_SED_GAL_PATH = os.path.expanduser(\"~/.cache/lephare/data/sed/STAR/DES\")\n",
    "\n",
    "#Create cache file in case\n",
    "os.makedirs(LEPHARE_SED_GAL_PATH, exist_ok=True)\n",
    "\n",
    "# Cpypast all file to cache\n",
    "for sed_file in SED_list + [\"DES_star_SEDs.list\"]:\n",
    "    src = os.path.join(SED_path, sed_file)\n",
    "    dst = os.path.join(LEPHARE_SED_STAR_PATH, sed_file)\n",
    "    shutil.copyfile(src, dst)\n",
    "\n",
    "print(f\"past {len(SED_list)} file.sed and file.list in {LEPHARE_SED_STAR_PATH}\")"
   ]
  },
  {
   "cell_type": "code",
   "execution_count": 44,
   "id": "99a7ba38",
   "metadata": {},
   "outputs": [
    {
     "name": "stdout",
     "output_type": "stream",
     "text": [
      "#######################################\n",
      "# It s translating SEDs to binary library #\n",
      "# with the following options :           \n",
      "# Config file     : \n",
      "# Library type     : STAR\n",
      "# STAR_SED    :/home/hallouin/Documents/thall_2025/photoz/lephare/training_stats/simulation_catalogs/DES/DES/DES_STARCAT/WORK_COMPLETE2/lib_bin/STAR_MOD.list\n",
      "# STAR_LIB    :DES_SEDs\n",
      "# STAR_LIB doc:/home/hallouin/.cache/lephare/work/lib_bin/DES_SEDs.doc\n",
      "# STAR_FSCALE :0.0000\n",
      "#######################################\n",
      "Number of SED in the list 135\n"
     ]
    }
   ],
   "source": [
    "SED_list_path = \"/home/hallouin/Documents/thall_2025/photoz/lephare/training_stats/simulation_catalogs/DES/DES/DES_STARCAT/WORK_COMPLETE2/lib_bin/STAR_MOD.list\"\n",
    "\n",
    "sedLib = lp.Sedtolib(config_keymap={\n",
    "    # \"SED_REP\": SED_rep,\n",
    "    \"STAR_SED\": lp.keyword(\"STAR_SED\", SED_list_path),\n",
    "    \"STAR_FSCALE\": lp.keyword(\"STAR_FSCALE\", \"3.432e-09\"),\n",
    "    \"STAR_LIB\": lp.keyword(\"STAR_LIB\", 'DES_SEDs')},)\n",
    "sedLib.run(typ=\"S\")"
   ]
  },
  {
   "cell_type": "code",
   "execution_count": null,
   "id": "b1aae9e8",
   "metadata": {},
   "outputs": [],
   "source": [
    "# lib_bin_dir = os.path.join(base_dir, \"lib_bin\")\n",
    "# os.listdir(lib_bin_dir)"
   ]
  },
  {
   "cell_type": "code",
   "execution_count": null,
   "id": "dfcd0b44",
   "metadata": {},
   "outputs": [],
   "source": [
    "# doc_path = os.path.join(lib_bin_dir, \"buzzard_SEDs.doc\")\n",
    "# with open(doc_path, \"r\") as f:\n",
    "#     for i, line in enumerate(f):\n",
    "#         if i < 20:\n",
    "#             print(line.strip())\n"
   ]
  },
  {
   "cell_type": "markdown",
   "id": "057457fc",
   "metadata": {},
   "source": [
    "# Create magnitude library"
   ]
  },
  {
   "cell_type": "code",
   "execution_count": null,
   "id": "f4c6209a",
   "metadata": {},
   "outputs": [],
   "source": [
    "os.environ[\"MKL_NUM_THREADS\"] = \"3\"\n",
    "# os.environ[\"NUMEXPR_NUM_THREADS\"] = \"3\"\n",
    "\n",
    "\n",
    "magLib = lp.MagGal(config_keymap={\n",
    "    \"COSMOLOGY\": lp.keyword(\"COSMOLOGY\", \"70,0.3,0.7\"),\n",
    "    \"GAL_LIB_IN\": lp.keyword(\"GAL_LIB_IN\", \"buzzard_SEDs\"), \n",
    "    \"GAL_LIB_OUT\": lp.keyword(\"GAL_LIB_OUT\", \"buzzard_mags\"),\n",
    "    \"FILTER_FILE\":lp.keyword(\"FILTER_FILE\", \"photozdc1\"),\n",
    "    \"MAGTYPE\": lp.keyword(\"MAGTYPE\", \"AB\"),\n",
    "    \"Z_STEP\": lp.keyword(\"Z_STEP\", \"0.04,0,2\"),\n",
    "    #\"ZGRID_TYPE\": lp.keyword(\"ZGRID_TYPE\", \"0\"),\n",
    "    \"EXTINC_LAW\": lp.keyword(\"EXTINC_LAW\", \"calzetti.dat\"),\n",
    "    \"EB_V\": lp.keyword(\"EB_V\", \"0.0\"),\n",
    "    \"MOD_EXTINC\": lp.keyword(\"MOD_EXTINC\", \"0\"),\n",
    "    \"LIB_ASCII\": lp.keyword(\"LIB_ASCII\", \"YES\"),\n",
    "    # \"EM_LINES\": lp.keyword(\"EM_LINES\", \"EMP_UV\"),\n",
    "    # \"EM_DISPERSION\": lp.keyword(\"EM_DISPERSION\", \"1\"),\n",
    "    # \"ADD_DUSTEM\": lp.keyword(\"ADD_DUSTEM\", \"YES\"),\n",
    "})\n",
    "magLib.run(typ=\"G\")"
   ]
  },
  {
   "cell_type": "code",
   "execution_count": null,
   "id": "8599efb7",
   "metadata": {},
   "outputs": [],
   "source": []
  }
 ],
 "metadata": {
  "kernelspec": {
   "display_name": "lephare",
   "language": "python",
   "name": "python3"
  },
  "language_info": {
   "codemirror_mode": {
    "name": "ipython",
    "version": 3
   },
   "file_extension": ".py",
   "mimetype": "text/x-python",
   "name": "python",
   "nbconvert_exporter": "python",
   "pygments_lexer": "ipython3",
   "version": "3.12.9"
  }
 },
 "nbformat": 4,
 "nbformat_minor": 5
}
