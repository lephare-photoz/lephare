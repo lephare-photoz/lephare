{
 "cells": [
  {
   "cell_type": "markdown",
   "id": "5265aafb",
   "metadata": {},
   "source": [
    "# Initialization"
   ]
  },
  {
   "cell_type": "code",
   "execution_count": 1,
   "id": "3d1a29b1",
   "metadata": {},
   "outputs": [
    {
     "name": "stdout",
     "output_type": "stream",
     "text": [
      "LEPHAREDIR is being set to the default cache directory:\n",
      "/home/hallouin/.cache/lephare/data\n",
      "More than 1Gb may be written there.\n",
      "LEPHAREWORK is being set to the default cache directory:\n",
      "/home/hallouin/.cache/lephare/work\n",
      "Default work cache is already linked. \n",
      "This is linked to the run directory:\n",
      "/home/hallouin/.cache/lephare/runs/20250403T105915\n"
     ]
    }
   ],
   "source": [
    "import os\n",
    "import lephare as lp\n",
    "import numpy as np\n",
    "from matplotlib import pylab as plt\n",
    "\n",
    "%matplotlib inline"
   ]
  },
  {
   "cell_type": "markdown",
   "id": "510eca14",
   "metadata": {},
   "source": [
    "# Create filter library"
   ]
  },
  {
   "cell_type": "code",
   "execution_count": 3,
   "id": "0c2cfe4f",
   "metadata": {},
   "outputs": [
    {
     "name": "stdout",
     "output_type": "stream",
     "text": [
      "# NAME                        IDENT      Lbda_mean Lbeff(Vega)       FWHM     AB-cor    TG-cor      VEGA M_sun(AB)   CALIB      Lb_eff    Fac_corr\n",
      "BuzzardLSSTu.res              1             0.3733      0.3800      0.0530    0.5173   -0.3186  -20.7758    6.2286       0      0.3711      1.0000\n",
      "BuzzardLSSTg.res              2             0.4799      0.4700      0.1453   -0.0893   -0.2698  -20.6973    5.1149       0      0.4719      1.0000\n",
      "BuzzardLSSTr.res              3             0.6221      0.6133      0.1391    0.1458    0.2557  -21.5085    4.6531       0      0.6165      1.0000\n",
      "BuzzardLSSTi.res              4             0.7541      0.7475      0.1302    0.3662    0.5795  -22.1521    4.5371       0      0.7499      1.0000\n",
      "BuzzardLSSTz.res              5             0.8682      0.8659      0.1011    0.5171    0.7616  -22.6138    4.5165       0      0.8658      1.0000\n",
      "BuzzardLSSTy4.res             6             0.9737      0.9686      0.0883    0.5488    0.7774  -22.8930    4.5092       0      0.9702      1.0000\n"
     ]
    }
   ],
   "source": [
    "base_dir = os.path.abspath(os.path.join(os.getcwd(), '..')) #change to your lephare base_dir\n",
    "filter_path = os.path.join(base_dir, 'simulation_catalogs/buzzard_base/FILTERS')\n",
    "filter_rep = lp.keyword(\"FILTER_REP\", filter_path)\n",
    "filter_list = lp.keyword(\"FILTER_LIST\",\n",
    "\"BuzzardLSSTu.res,BuzzardLSSTg.res,BuzzardLSSTr.res,\\\n",
    "     BuzzardLSSTi.res,BuzzardLSSTz.res,BuzzardLSSTy4.res\")\n",
    "\n",
    "\n",
    "\n",
    "filterLib = lp.Filter(config_keymap={\"FILTER_REP\":filter_rep,\n",
    "                                      \"FILTER_LIST\":filter_list,\n",
    "\"TRANS_TYPE\":lp.keyword(\"TRANS_TYPE\", \"0\"),\n",
    "\"FILTER_CALIB\":lp.keyword(\"FILTER_CALIB\", \"0\"),\n",
    "\"FILTER_FILE\":lp.keyword(\"FILTER_FILE\", \"photozdc1\")\n",
    "                                     })\n",
    "\n",
    "\n",
    "filterLib.run()\n"
   ]
  },
  {
   "cell_type": "markdown",
   "id": "06a07bcb",
   "metadata": {},
   "source": [
    "# Create SED library"
   ]
  },
  {
   "cell_type": "code",
   "execution_count": 4,
   "id": "6610124a",
   "metadata": {},
   "outputs": [
    {
     "data": {
      "text/plain": [
       "(SED_REP, /home/hallouin/Documents/thall_2025/lephare/training_stats/simulation_catalogs/buzzard_base/SEDS/updated_Buzzard_SEDs)"
      ]
     },
     "execution_count": 4,
     "metadata": {},
     "output_type": "execute_result"
    }
   ],
   "source": [
    "import os\n",
    "\n",
    "SED_path = os.path.join(base_dir, 'simulation_catalogs/buzzard_base/SEDS/updated_Buzzard_SEDs')\n",
    "\n",
    "# SED_list = sorted([\n",
    "#     f for f in os.listdir(SED_path)\n",
    "#     if os.path.isfile(os.path.join(SED_path, f)) and f.endswith(\".sed\")\n",
    "# ])\n",
    "\n",
    "SED_list = [f'kmeansbuzzard_{i}.sed' for i in range(0,100)]\n",
    "\n",
    "#save to file.list because we must do it like this\n",
    "SED_list_path = os.path.join(SED_path, \"updated_Buzzard_SEDs.list\")\n",
    "with open(SED_list_path, \"w\") as f:\n",
    "    for sed_file in SED_list:\n",
    "        f.write(sed_file + \"\\n\")\n",
    "\n",
    "###Make directly the list with the associated keywords, only works for filters, not SEDs\n",
    "# SED_list = \",\".join([f for f in os.listdir(SED_path) if os.path.isfile(os.path.join(SED_path, f)) and f.endswith(\".sed\")])\n",
    "\n",
    "SED_rep = lp.keyword(\"SED_REP\", SED_path)\n",
    "# SED_list = lp.keyword(\"SED_LIST\",f\"{SED_list}\")\n",
    "SED_rep"
   ]
  },
  {
   "cell_type": "code",
   "execution_count": 5,
   "id": "9fd0e00b",
   "metadata": {},
   "outputs": [
    {
     "name": "stdout",
     "output_type": "stream",
     "text": [
      "past 100 file.sed and file.list in /home/hallouin/.cache/lephare/data/sed/GAL\n"
     ]
    }
   ],
   "source": [
    "import shutil\n",
    "\n",
    "#Lephare cache file\n",
    "LEPHARE_SED_GAL_PATH = os.path.expanduser(\"~/.cache/lephare/data/sed/GAL\")\n",
    "\n",
    "#Create cache file in case\n",
    "os.makedirs(LEPHARE_SED_GAL_PATH, exist_ok=True)\n",
    "\n",
    "# Cpypast all file to cache\n",
    "for sed_file in SED_list + [\"updated_Buzzard_SEDs.list\"]:\n",
    "    src = os.path.join(SED_path, sed_file)\n",
    "    dst = os.path.join(LEPHARE_SED_GAL_PATH, sed_file)\n",
    "    shutil.copyfile(src, dst)\n",
    "\n",
    "print(f\"past {len(SED_list)} file.sed and file.list in {LEPHARE_SED_GAL_PATH}\")"
   ]
  },
  {
   "cell_type": "code",
   "execution_count": 6,
   "id": "99a7ba38",
   "metadata": {},
   "outputs": [
    {
     "name": "stdout",
     "output_type": "stream",
     "text": [
      "#######################################\n",
      "# It s translating SEDs to binary library #\n",
      "# with the following options :           \n",
      "# Config file     : \n",
      "# Library type     : GAL\n",
      "# GAL_SED    :/home/hallouin/Documents/thall_2025/lephare/training_stats/simulation_catalogs/buzzard_base/SEDS/updated_Buzzard_SEDs/updated_Buzzard_SEDs.list\n",
      "# GAL_LIB    :buzzard_SEDs\n",
      "# GAL_LIB doc:/home/hallouin/.cache/lephare/work/lib_bin/buzzard_SEDs.doc\n",
      "# GAL_LIB phys:/home/hallouin/.cache/lephare/work/lib_bin/buzzard_SEDs.phys\n",
      "# SEL_AGE    :none\n",
      "# GAL_FSCALE :1.0000\n",
      "# AGE_RANGE   -999.0000 -999.0000\n",
      "#######################################\n",
      "Number of SED in the list 100\n"
     ]
    }
   ],
   "source": [
    "sedLib = lp.Sedtolib(config_keymap={\n",
    "    # \"SED_REP\": SED_rep,\n",
    "    \"GAL_SED\": lp.keyword(\"GAL_SED\", SED_list_path),\n",
    "    \"GAL_FSCALE\": lp.keyword(\"GAL_FSCALE\", \"1.0\"),\n",
    "    \"GAL_LIB\": lp.keyword(\"GAL_LIB\", 'buzzard_SEDs')},)\n",
    "sedLib.run(typ=\"G\")"
   ]
  },
  {
   "cell_type": "code",
   "execution_count": 7,
   "id": "b1aae9e8",
   "metadata": {},
   "outputs": [],
   "source": [
    "# lib_bin_dir = os.path.join(base_dir, \"lib_bin\")\n",
    "# os.listdir(lib_bin_dir)"
   ]
  },
  {
   "cell_type": "code",
   "execution_count": 8,
   "id": "dfcd0b44",
   "metadata": {},
   "outputs": [],
   "source": [
    "# doc_path = os.path.join(lib_bin_dir, \"buzzard_SEDs.doc\")\n",
    "# with open(doc_path, \"r\") as f:\n",
    "#     for i, line in enumerate(f):\n",
    "#         if i < 20:\n",
    "#             print(line.strip())\n"
   ]
  },
  {
   "cell_type": "markdown",
   "id": "057457fc",
   "metadata": {},
   "source": [
    "# Create magnitude library"
   ]
  },
  {
   "cell_type": "code",
   "execution_count": null,
   "id": "f4c6209a",
   "metadata": {},
   "outputs": [
    {
     "name": "stdout",
     "output_type": "stream",
     "text": [
      " All files opened \n",
      "#######################################\n",
      "# It s computing the SYNTHETIC MAGNITUDES #\n",
      "# For Gal/QSO libraries with these OPTIONS #\n",
      "# with the following options :           \n",
      "# Config file     : \n",
      "# Filter file     : photozdc1\n",
      "# Magnitude type     : AB\n",
      "# GAL_LIB_IN    :/home/hallouin/.cache/lephare/work/lib_bin/buzzard_SEDs(.doc & .bin)\n",
      "# GAL_LIB_OUT   :/home/hallouin/.cache/lephare/work/lib_mag/buzzard_mags(.doc & .bin)\n",
      "# Z_STEP   :0.0400 0.0000 2.0000\n",
      "# COSMOLOGY   :70.0000,0.3000,0.7000\n",
      "# EXTINC_LAW   :calzetti.dat \n",
      "# MOD_EXTINC   :0 0 \n",
      "# EB_V   :0.0000 \n",
      "# EM_LINES   EMP_UV\n",
      "# EM_DISPERSION   1.0000,\n",
      "# LIB_ASCII   YES\n",
      "# CREATION_DATE Tue Apr 15 15:40:09 2025\n",
      "#############################################\n",
      " SED MOD_18 z 0.8400 Ext law calzetti.dat  E(B-V) 0.0000  Age -999.0000  "
     ]
    },
    {
     "ename": "KeyboardInterrupt",
     "evalue": "",
     "output_type": "error",
     "traceback": [
      "\u001b[31m---------------------------------------------------------------------------\u001b[39m",
      "\u001b[31mKeyboardInterrupt\u001b[39m                         Traceback (most recent call last)",
      "\u001b[36mCell\u001b[39m\u001b[36m \u001b[39m\u001b[32mIn[8]\u001b[39m\u001b[32m, line 21\u001b[39m\n\u001b[32m      2\u001b[39m \u001b[38;5;66;03m# os.environ[\"NUMEXPR_NUM_THREADS\"] = \"3\"\u001b[39;00m\n\u001b[32m      5\u001b[39m magLib = lp.MagGal(config_keymap={\n\u001b[32m      6\u001b[39m     \u001b[33m\"\u001b[39m\u001b[33mCOSMOLOGY\u001b[39m\u001b[33m\"\u001b[39m: lp.keyword(\u001b[33m\"\u001b[39m\u001b[33mCOSMOLOGY\u001b[39m\u001b[33m\"\u001b[39m, \u001b[33m\"\u001b[39m\u001b[33m70,0.3,0.7\u001b[39m\u001b[33m\"\u001b[39m),\n\u001b[32m      7\u001b[39m     \u001b[33m\"\u001b[39m\u001b[33mGAL_LIB_IN\u001b[39m\u001b[33m\"\u001b[39m: lp.keyword(\u001b[33m\"\u001b[39m\u001b[33mGAL_LIB_IN\u001b[39m\u001b[33m\"\u001b[39m, \u001b[33m\"\u001b[39m\u001b[33mbuzzard_SEDs\u001b[39m\u001b[33m\"\u001b[39m), \n\u001b[32m   (...)\u001b[39m\u001b[32m     19\u001b[39m     \u001b[38;5;66;03m# \"ADD_DUSTEM\": lp.keyword(\"ADD_DUSTEM\", \"YES\"),\u001b[39;00m\n\u001b[32m     20\u001b[39m })\n\u001b[32m---> \u001b[39m\u001b[32m21\u001b[39m \u001b[43mmagLib\u001b[49m\u001b[43m.\u001b[49m\u001b[43mrun\u001b[49m\u001b[43m(\u001b[49m\u001b[43mtyp\u001b[49m\u001b[43m=\u001b[49m\u001b[33;43m\"\u001b[39;49m\u001b[33;43mG\u001b[39;49m\u001b[33;43m\"\u001b[39;49m\u001b[43m)\u001b[49m\n",
      "\u001b[36mFile \u001b[39m\u001b[32m~/Documents/thall_2025/lephare/src/lephare/mag_gal.py:91\u001b[39m, in \u001b[36mMagGal.run\u001b[39m\u001b[34m(self, **kwargs)\u001b[39m\n\u001b[32m     89\u001b[39m mag.read_B12()\n\u001b[32m     90\u001b[39m \u001b[38;5;66;03m# Read sed, apply extinction and IGM opacity\u001b[39;00m\n\u001b[32m---> \u001b[39m\u001b[32m91\u001b[39m \u001b[43mmag\u001b[49m\u001b[43m.\u001b[49m\u001b[43mread_SED\u001b[49m\u001b[43m(\u001b[49m\u001b[43m)\u001b[49m\n\u001b[32m     92\u001b[39m mag.write_doc()\n\u001b[32m     93\u001b[39m \u001b[38;5;66;03m# we need to call the close method here because run can\u001b[39;00m\n\u001b[32m     94\u001b[39m \u001b[38;5;66;03m# be called within a python session that stays alive afterwards\u001b[39;00m\n",
      "\u001b[31mKeyboardInterrupt\u001b[39m: "
     ]
    }
   ],
   "source": [
    "os.environ[\"MKL_NUM_THREADS\"] = \"3\"\n",
    "# os.environ[\"NUMEXPR_NUM_THREADS\"] = \"3\"\n",
    "\n",
    "\n",
    "magLib = lp.MagGal(config_keymap={\n",
    "    \"COSMOLOGY\": lp.keyword(\"COSMOLOGY\", \"70,0.3,0.7\"),\n",
    "    \"GAL_LIB_IN\": lp.keyword(\"GAL_LIB_IN\", \"buzzard_SEDs\"), \n",
    "    \"GAL_LIB_OUT\": lp.keyword(\"GAL_LIB_OUT\", \"buzzard_mags\"),\n",
    "    \"FILTER_FILE\":lp.keyword(\"FILTER_FILE\", \"photozdc1\"),\n",
    "    \"MAGTYPE\": lp.keyword(\"MAGTYPE\", \"AB\"),\n",
    "    \"Z_STEP\": lp.keyword(\"Z_STEP\", \"0.04,0,2\"),\n",
    "    #\"ZGRID_TYPE\": lp.keyword(\"ZGRID_TYPE\", \"0\"),\n",
    "    \"EXTINC_LAW\": lp.keyword(\"EXTINC_LAW\", \"calzetti.dat\"),\n",
    "    \"EB_V\": lp.keyword(\"EB_V\", \"0.0\"),\n",
    "    \"MOD_EXTINC\": lp.keyword(\"MOD_EXTINC\", \"0\"),\n",
    "    \"LIB_ASCII\": lp.keyword(\"LIB_ASCII\", \"YES\"),\n",
    "    # \"EM_LINES\": lp.keyword(\"EM_LINES\", \"EMP_UV\"),\n",
    "    # \"EM_DISPERSION\": lp.keyword(\"EM_DISPERSION\", \"1\"),\n",
    "    # \"ADD_DUSTEM\": lp.keyword(\"ADD_DUSTEM\", \"YES\"),\n",
    "})\n",
    "magLib.run(typ=\"G\")"
   ]
  },
  {
   "cell_type": "code",
   "execution_count": null,
   "id": "8599efb7",
   "metadata": {},
   "outputs": [],
   "source": []
  }
 ],
 "metadata": {
  "kernelspec": {
   "display_name": "lephare",
   "language": "python",
   "name": "python3"
  },
  "language_info": {
   "codemirror_mode": {
    "name": "ipython",
    "version": 3
   },
   "file_extension": ".py",
   "mimetype": "text/x-python",
   "name": "python",
   "nbconvert_exporter": "python",
   "pygments_lexer": "ipython3",
   "version": "3.12.9"
  }
 },
 "nbformat": 4,
 "nbformat_minor": 5
}
