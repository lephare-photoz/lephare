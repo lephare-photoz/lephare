{
 "cells": [
  {
   "cell_type": "markdown",
   "id": "5b7eaa8f",
   "metadata": {},
   "source": [
    "# StarGal Full Run\n",
    "\n",
    "Fully detailed run to compute photometric redshift of a,mixed catalog (star+galaxy)"
   ]
  },
  {
   "cell_type": "code",
   "execution_count": 1,
   "id": "33523e0e",
   "metadata": {},
   "outputs": [
    {
     "name": "stdout",
     "output_type": "stream",
     "text": [
      "LEPHAREDIR is being set to the default cache directory:\n",
      "/home/hallouin/.cache/lephare/data\n",
      "More than 1Gb may be written there.\n",
      "LEPHAREWORK is being set to the default cache directory:\n",
      "/home/hallouin/.cache/lephare/work\n",
      "Default work cache is already linked. \n",
      "This is linked to the run directory:\n",
      "/home/hallouin/.cache/lephare/runs/20251013T115331\n",
      "User defined LEPHAREDIR is set. Code runs depend on all required\n",
      "auxiliary data being present at /home/hallouin/.cache/lephare/data.\n",
      "User defined LEPHAREWORK is set. All intermediate files will be written to:\n",
      " /home/hallouin/.cache/lephare/work\n",
      "/home/hallouin/Documents/t_hall/lephare\n"
     ]
    }
   ],
   "source": [
    "import os\n",
    "from importlib import reload\n",
    "import lephare as lp; reload(lp)\n",
    "import numpy as np\n",
    "from matplotlib import pylab as plt\n",
    "\n",
    "%matplotlib inline\n",
    "\n",
    "base_dir = os.path.abspath(os.path.join(os.getcwd(), '../..')) #change to your lephare base_dir\n",
    "print(base_dir)"
   ]
  },
  {
   "cell_type": "code",
   "execution_count": 2,
   "id": "286f54a0",
   "metadata": {},
   "outputs": [],
   "source": [
    "config = lp.default_stargal_config.copy()\n",
    "\n",
    "config.update({\"VERBOSE\": \"NO\", \"Z_STEP\": \"0.01,0.,2.\",})\n",
    "\n",
    "config = lp.default_stargal_config.copy()"
   ]
  },
  {
   "cell_type": "markdown",
   "id": "6c7ef8fa",
   "metadata": {},
   "source": [
    "## Prepare MagGal libraries"
   ]
  },
  {
   "cell_type": "markdown",
   "id": "10ce265c",
   "metadata": {},
   "source": [
    "### DC1 - Make filter library"
   ]
  },
  {
   "cell_type": "code",
   "execution_count": 3,
   "id": "602486b2",
   "metadata": {},
   "outputs": [
    {
     "name": "stdout",
     "output_type": "stream",
     "text": [
      "/home/hallouin/Documents/t_hall/lephare/training_stats/simulation_catalogs/buzzard_base/filt\n",
      "# NAME                        IDENT      Lbda_mean Lbeff(Vega)       FWHM     AB-cor    TG-cor      VEGA M_sun(AB)   CALIB      Lb_eff    Fac_corr\n",
      "BuzzardLSSTu.res              1             0.3733      0.3800      0.0530    0.5173   -0.3186  -20.7758    6.2286       0      0.3711      1.0000\n",
      "BuzzardLSSTg.res              2             0.4799      0.4700      0.1453   -0.0893   -0.2698  -20.6973    5.1149       0      0.4719      1.0000\n",
      "BuzzardLSSTr.res              3             0.6221      0.6133      0.1391    0.1458    0.2557  -21.5085    4.6531       0      0.6165      1.0000\n",
      "BuzzardLSSTi.res              4             0.7541      0.7475      0.1302    0.3662    0.5795  -22.1521    4.5371       0      0.7499      1.0000\n",
      "BuzzardLSSTz.res              5             0.8682      0.8659      0.1011    0.5171    0.7616  -22.6138    4.5165       0      0.8658      1.0000\n",
      "BuzzardLSSTy4.res             6             0.9737      0.9686      0.0883    0.5488    0.7774  -22.8930    4.5092       0      0.9702      1.0000\n"
     ]
    }
   ],
   "source": [
    "##### Create filter library #####\n",
    "filter_path = os.path.join(base_dir, 'training_stats/simulation_catalogs/buzzard_base/filt') \n",
    "print(filter_path)\n",
    "filter_rep = lp.keyword(\"FILTER_REP\", filter_path)\n",
    "filter_list = lp.keyword(\"FILTER_LIST\",\n",
    "\"BuzzardLSSTu.res,BuzzardLSSTg.res,BuzzardLSSTr.res,\\\n",
    "     BuzzardLSSTi.res,BuzzardLSSTz.res,BuzzardLSSTy4.res\")\n",
    "\n",
    "filterLib = lp.Filter(config_keymap={\"FILTER_REP\":filter_rep,\n",
    "                                   \"FILTER_LIST\":filter_list,\n",
    "                                   \"TRANS_TYPE\":lp.keyword(\"TRANS_TYPE\", \"0\"),\n",
    "                                   \"FILTER_CALIB\":lp.keyword(\"FILTER_CALIB\", \"0\"), #\"0,0,0,0,0,0\"\n",
    "                                   \"FILTER_FILE\":lp.keyword(\"FILTER_FILE\", \"photozdc1\")\n",
    "                                     })\n",
    "\n",
    "filterLib.run()"
   ]
  },
  {
   "cell_type": "markdown",
   "id": "721175e2",
   "metadata": {},
   "source": [
    "### DC1- Make SED library"
   ]
  },
  {
   "cell_type": "code",
   "execution_count": 4,
   "id": "cfb877f2",
   "metadata": {},
   "outputs": [
    {
     "name": "stdout",
     "output_type": "stream",
     "text": [
      "(SED_REP, /home/hallouin/Documents/t_hall/lephare/training_stats/simulation_catalogs/buzzard_base/lib_bin/updated_Buzzard_SEDs)\n",
      "past 100 file.sed and file.list in /home/hallouin/.cache/lephare/data/sed/GAL/Buzzard\n",
      "#######################################\n",
      "# It s translating SEDs to binary library #\n",
      "# with the following options :           \n",
      "# Config file     : \n",
      "# Library type     : GAL\n",
      "# GAL_SED    :/home/hallouin/Documents/t_hall/lephare/training_stats/simulation_catalogs/buzzard_base/lib_bin/updated_Buzzard_SEDs/updated_Buzzard_SEDs.list\n",
      "# GAL_LIB    :buzzard_SEDs\n",
      "# GAL_LIB doc:/home/hallouin/.cache/lephare/work/lib_bin/buzzard_SEDs.doc\n",
      "# GAL_LIB phys:/home/hallouin/.cache/lephare/work/lib_bin/buzzard_SEDs.phys\n",
      "# SEL_AGE    :none\n",
      "# GAL_FSCALE :1.0000\n",
      "# AGE_RANGE   -999.0000 -999.0000\n",
      "#######################################\n",
      "Number of SED in the list 100\n"
     ]
    }
   ],
   "source": [
    "##### Create SED library #####\n",
    "\n",
    "SED_path = os.path.join(base_dir, 'training_stats/simulation_catalogs/buzzard_base/lib_bin/updated_Buzzard_SEDs')\n",
    "\n",
    "# SED_list = sorted([\n",
    "#     f for f in os.listdir(SED_path)\n",
    "#     if os.path.isfile(os.path.join(SED_path, f)) and f.endswith(\".sed\")\n",
    "# ])\n",
    "\n",
    "SED_list = [f'kmeansbuzzard_{i}.sed' for i in range(0,100)]\n",
    "\n",
    "#save to file.list because we must do it like this\n",
    "SED_list_path = os.path.join(SED_path, \"updated_Buzzard_SEDs.list\")\n",
    "with open(SED_list_path, \"w\") as f:\n",
    "    for sed_file in SED_list:\n",
    "        f.write(\"Buzzard/\"+sed_file + \"\\n\")\n",
    "\n",
    "SED_rep = lp.keyword(\"SED_REP\", SED_path)\n",
    "print(SED_rep)\n",
    "\n",
    "###add SED to cahe file because ...###\n",
    "import shutil\n",
    "\n",
    "#Lephare cache file\n",
    "LEPHARE_SED_GAL_PATH = os.path.expanduser(\"~/.cache/lephare/data/sed/GAL/Buzzard\")\n",
    "\n",
    "#Create cache file in case\n",
    "os.makedirs(LEPHARE_SED_GAL_PATH, exist_ok=True)\n",
    "\n",
    "# Cpypast all file to cache\n",
    "for sed_file in SED_list + [\"updated_Buzzard_SEDs.list\"]:\n",
    "    src = os.path.join(SED_path, sed_file)\n",
    "    dst = os.path.join(LEPHARE_SED_GAL_PATH, sed_file)\n",
    "    shutil.copyfile(src, dst)\n",
    "\n",
    "print(f\"past {len(SED_list)} file.sed and file.list in {LEPHARE_SED_GAL_PATH}\")\n",
    "\n",
    "\n",
    "\n",
    "SED_list_path = f\"{base_dir}/training_stats/simulation_catalogs/buzzard_base/lib_bin/updated_Buzzard_SEDs/updated_Buzzard_SEDs.list\"\n",
    "sedLib = lp.Sedtolib(config_keymap={\n",
    "    \"SED_REP\": SED_rep,\n",
    "    \"GAL_SED\": lp.keyword(\"GAL_SED\", SED_list_path),\n",
    "    \"GAL_FSCALE\": lp.keyword(\"GAL_FSCALE\", \"1.0\"),\n",
    "    \"GAL_LIB\": lp.keyword(\"GAL_LIB\", 'buzzard_SEDs')},)\n",
    "sedLib.run(typ=\"G\")"
   ]
  },
  {
   "cell_type": "markdown",
   "id": "b6044012",
   "metadata": {},
   "source": [
    "### STARS - Make filter library"
   ]
  },
  {
   "cell_type": "code",
   "execution_count": 5,
   "id": "205f2a2b",
   "metadata": {},
   "outputs": [
    {
     "name": "stdout",
     "output_type": "stream",
     "text": [
      "/home/hallouin/Documents/t_hall/lephare/training_stats/simulation_catalogs/DES/DES_STARCAT/WORK_COMPLETE2/filt\n",
      "# NAME                        IDENT      Lbda_mean Lbeff(Vega)       FWHM     AB-cor    TG-cor      VEGA M_sun(AB)   CALIB      Lb_eff    Fac_corr\n",
      "DES_filter_g.res              1             0.4827      0.4735      0.1299   -0.0867   -0.2558  -20.7147    5.0926       0      0.4753      1.0000\n",
      "DES_filter_r.res              2             0.6432      0.6343      0.1484    0.1835    0.3154  -21.6187    4.6235       0      0.6375      1.0000\n",
      "DES_filter_i.res              3             0.7827      0.7749      0.1482    0.4149    0.6384  -22.2807    4.5296       0      0.7779      1.0000\n",
      "DES_filter_z.res              4             0.9179      0.9139      0.1471    0.5235    0.7629  -22.7383    4.5124       0      0.9139      1.0000\n",
      "DES_filter_Y.res              5             0.9900      0.9880      0.0661    0.5722    0.7890  -22.9560    4.5088       0      0.9886      1.0000\n"
     ]
    }
   ],
   "source": [
    "filter_path = os.path.join(base_dir, 'training_stats/simulation_catalogs/DES/DES_STARCAT/WORK_COMPLETE2/filt') #paste your relative filter path\n",
    "print(filter_path)\n",
    "filter_rep = lp.keyword(\"FILTER_REP\", filter_path)\n",
    "filter_list = lp.keyword(\"FILTER_LIST\",\n",
    "                         \"DES_filter_g.res,DES_filter_r.res,\\\n",
    "                         DES_filter_i.res,DES_filter_z.res,DES_filter_Y.res\") #edit your filter list\n",
    "#crash if add comma\n",
    "\n",
    "filterLib2 = lp.Filter(config_keymap={\"FILTER_REP\":filter_rep,\n",
    "                                   \"FILTER_LIST\":filter_list,\n",
    "                                   \"TRANS_TYPE\":lp.keyword(\"TRANS_TYPE\", \"0\"),\n",
    "                                   \"FILTER_CALIB\":lp.keyword(\"FILTER_CALIB\", \"0\"),\n",
    "                                   \"FILTER_FILE\":lp.keyword(\"FILTER_FILE\", \"photozDES\")})\n",
    "\n",
    "\n",
    "filterLib2.run()"
   ]
  },
  {
   "cell_type": "markdown",
   "id": "5547831a",
   "metadata": {},
   "source": [
    "### STARS - Make SED library"
   ]
  },
  {
   "cell_type": "code",
   "execution_count": 6,
   "id": "9362ef32",
   "metadata": {},
   "outputs": [
    {
     "name": "stdout",
     "output_type": "stream",
     "text": [
      "#######################################\n",
      "# It s translating SEDs to binary library #\n",
      "# with the following options :           \n",
      "# Config file     : \n",
      "# Library type     : STAR\n",
      "# STAR_SED    :/home/hallouin/Documents/t_hall/lephare/training_stats/simulation_catalogs/DES/DES_STARCAT/WORK_COMPLETE2/lib_bin/DES_STAR.list\n",
      "# STAR_LIB    :PICKLES_SEDs\n",
      "# STAR_LIB doc:/home/hallouin/.cache/lephare/work/lib_bin/PICKLES_SEDs.doc\n",
      "# STAR_FSCALE :0.0000\n",
      "#######################################\n",
      "Number of SED in the list 42\n"
     ]
    }
   ],
   "source": [
    "#### Create SED library #####\n",
    "#ready in lephare data\n",
    "#replace by STAR_MOD.list if you want full list\n",
    "SED_list_path = f\"{base_dir}/training_stats/simulation_catalogs/DES/DES_STARCAT/WORK_COMPLETE2/lib_bin/DES_STAR.list\"\n",
    "sedLib = lp.Sedtolib(config_keymap={\n",
    "    \"STAR_SED\": lp.keyword(\"STAR_SED\", SED_list_path),\n",
    "    \"STAR_FSCALE\": lp.keyword(\"STAR_FSCALE\", \"3.0e-9\"),\n",
    "    \"STAR_LIB\": lp.keyword(\"STAR_LIB\", 'PICKLES_SEDs')},)\n",
    "sedLib.run(typ=\"S\")"
   ]
  },
  {
   "cell_type": "markdown",
   "id": "cc266581",
   "metadata": {},
   "source": [
    "## Run MagGal\n",
    "\n",
    "Create a magnitude library from the SED and filter libraries.\n",
    "To compare properly our available libraries, we need to run 4 times mag_gal. "
   ]
  },
  {
   "cell_type": "code",
   "execution_count": 7,
   "id": "4a2903f7",
   "metadata": {},
   "outputs": [],
   "source": [
    "maglib = lp.MagGal(config_keymap=lp.all_types_to_keymap(config))"
   ]
  },
  {
   "cell_type": "markdown",
   "id": "8791e2d1",
   "metadata": {},
   "source": [
    "### buzzard in LSST filters (for DC1, only gal)"
   ]
  },
  {
   "cell_type": "code",
   "execution_count": 8,
   "id": "11cf0120",
   "metadata": {},
   "outputs": [
    {
     "name": "stdout",
     "output_type": "stream",
     "text": [
      "#######################################\n",
      "# It s computing the SYNTHETIC MAGNITUDES #\n",
      "# For Gal/QSO libraries with these OPTIONS #\n",
      "# with the following options :           \n",
      "# Config file     : \n",
      "# Filter file     : photozdc1\n",
      "# Magnitude type     : AB\n",
      "# GAL_LIB_IN    :/home/hallouin/.cache/lephare/work/lib_bin/buzzard_SEDs(.doc & .bin)\n",
      "# GAL_LIB_OUT   :/home/hallouin/.cache/lephare/work/lib_mag/buzzard_LSST(.doc & .bin)\n",
      "# Z_STEP   :0.0100 0.0000 2.0000\n",
      "# COSMOLOGY   :70.0000,0.3000,0.7000\n",
      "# EXTINC_LAW   :calzetti.dat \n",
      "# MOD_EXTINC   :0 0 \n",
      "# EB_V   :0.0000 \n",
      "# EM_LINES   NO\n",
      "# EM_DISPERSION   1.0000,\n",
      "# LIB_ASCII   YES\n",
      "# CREATION_DATE Wed Oct 22 12:03:07 2025\n",
      "#############################################\n"
     ]
    }
   ],
   "source": [
    "maglib.run(\n",
    "    typ=\"G\",\n",
    "    gal_lib_in=\"buzzard_SEDs\",\n",
    "    gal_lib_out=\"buzzard_LSST\",\n",
    "    filter_file=\"photozdc1\",\n",
    "    magtype=\"AB\",\n",
    "    mod_extinc=\"0\",\n",
    "    extinc_law=\"calzetti.dat\",\n",
    "    em_dispersion=\"0\",\n",
    "    lib_ascii=\"YES\",\n",
    "    z_step=\"0.01,0.,2.\"\n",
    ")\n"
   ]
  },
  {
   "cell_type": "markdown",
   "id": "034ddf0a",
   "metadata": {},
   "source": [
    "### buzzard in DES filters (for DESstars, star-gal)"
   ]
  },
  {
   "cell_type": "code",
   "execution_count": 9,
   "id": "0d878fd4",
   "metadata": {},
   "outputs": [
    {
     "name": "stdout",
     "output_type": "stream",
     "text": [
      "#######################################\n",
      "# It s computing the SYNTHETIC MAGNITUDES #\n",
      "# For Gal/QSO libraries with these OPTIONS #\n",
      "# with the following options :           \n",
      "# Config file     : \n",
      "# Filter file     : photozDES\n",
      "# Magnitude type     : AB\n",
      "# GAL_LIB_IN    :/home/hallouin/.cache/lephare/work/lib_bin/buzzard_SEDs(.doc & .bin)\n",
      "# GAL_LIB_OUT   :/home/hallouin/.cache/lephare/work/lib_mag/buzzard_DES(.doc & .bin)\n",
      "# Z_STEP   :0.0100 0.0000 2.0000\n",
      "# COSMOLOGY   :70.0000,0.3000,0.7000\n",
      "# EXTINC_LAW   :calzetti.dat \n",
      "# MOD_EXTINC   :0 0 \n",
      "# EB_V   :0.0000 \n",
      "# EM_LINES   NO\n",
      "# EM_DISPERSION   1.0000,\n",
      "# LIB_ASCII   YES\n",
      "# CREATION_DATE Wed Oct 22 12:03:09 2025\n",
      "#############################################\n"
     ]
    }
   ],
   "source": [
    "maglib.run(\n",
    "    typ=\"G\",\n",
    "    gal_lib_in=\"buzzard_SEDs\",\n",
    "    gal_lib_out=\"buzzard_DES\",\n",
    "    filter_file=\"photozDES\",\n",
    "    magtype=\"AB\",\n",
    "    mod_extinc=\"0\",\n",
    "    extinc_law=\"calzetti.dat\",\n",
    "    em_dispersion=\"0\",\n",
    "    lib_ascii=\"YES\",\n",
    "    z_step=\"0.01,0.,2.\"\n",
    ")"
   ]
  },
  {
   "cell_type": "markdown",
   "id": "28c3c9a4",
   "metadata": {},
   "source": [
    "### PICKLES in DES filters (for DESstars, only star)"
   ]
  },
  {
   "cell_type": "code",
   "execution_count": 10,
   "id": "126e5f4e",
   "metadata": {},
   "outputs": [
    {
     "name": "stdout",
     "output_type": "stream",
     "text": [
      "#######################################\n",
      "# It s computing the SYNTHETIC MAGNITUDES #\n",
      "# For Gal/QSO libraries with these OPTIONS #\n",
      "# with the following options :           \n",
      "# Config file     : \n",
      "# Filter file     : photozDES\n",
      "# Magnitude type     : AB\n",
      "# COSMOLOGY   :70.0000,0.3000,0.7000\n",
      "# STAR_LIB_IN    :/home/hallouin/.cache/lephare/work/lib_bin/PICKLES_SEDs(.doc & .bin)\n",
      "# STAR_LIB_OUT   :/home/hallouin/.cache/lephare/work/lib_mag/PICKLES_DES(.doc & .bin)\n",
      "# LIB_ASCII   YES\n",
      "# CREATION_DATE Wed Oct 22 12:03:10 2025\n",
      "#############################################\n"
     ]
    }
   ],
   "source": [
    "maglib.run(\n",
    "    typ=\"S\",\n",
    "    star_lib_in=\"PICKLES_SEDs\",\n",
    "    star_lib_out=\"PICKLES_DES\",\n",
    "    filter_file=\"photozDES\",\n",
    "    magtype=\"AB\",\n",
    "    mod_extinc=\"0\",\n",
    "    extinc_law=\"calzetti.dat\",\n",
    "    em_dispersion=\"0\",\n",
    "    lib_ascii=\"YES\",\n",
    "    z_step=\"0.0,0,0\"\n",
    ")"
   ]
  },
  {
   "cell_type": "markdown",
   "id": "51e519f6",
   "metadata": {},
   "source": [
    "### PICKLES in LSST filters (for DC1, star-gal)"
   ]
  },
  {
   "cell_type": "code",
   "execution_count": 11,
   "id": "ba9b170c",
   "metadata": {},
   "outputs": [
    {
     "name": "stdout",
     "output_type": "stream",
     "text": [
      "#######################################\n",
      "# It s computing the SYNTHETIC MAGNITUDES #\n",
      "# For Gal/QSO libraries with these OPTIONS #\n",
      "# with the following options :           \n",
      "# Config file     : \n",
      "# Filter file     : photozdc1\n",
      "# Magnitude type     : AB\n",
      "# COSMOLOGY   :70.0000,0.3000,0.7000\n",
      "# STAR_LIB_IN    :/home/hallouin/.cache/lephare/work/lib_bin/PICKLES_SEDs(.doc & .bin)\n",
      "# STAR_LIB_OUT   :/home/hallouin/.cache/lephare/work/lib_mag/PICKLES_LSST(.doc & .bin)\n",
      "# LIB_ASCII   YES\n",
      "# CREATION_DATE Wed Oct 22 12:03:10 2025\n",
      "#############################################\n"
     ]
    }
   ],
   "source": [
    "maglib.run(\n",
    "    typ=\"S\",\n",
    "    star_lib_in=\"PICKLES_SEDs\",\n",
    "    star_lib_out=\"PICKLES_LSST\",\n",
    "    filter_file=\"photozdc1\",\n",
    "    magtype=\"AB\",\n",
    "    mod_extinc=\"0\",\n",
    "    extinc_law=\"calzetti.dat\",\n",
    "    em_dispersion=\"0\",\n",
    "    lib_ascii=\"YES\",\n",
    "    z_step=\"0.0,0,0\"\n",
    ")"
   ]
  },
  {
   "cell_type": "markdown",
   "id": "92fbe1da",
   "metadata": {},
   "source": [
    "## Run photoz"
   ]
  },
  {
   "cell_type": "markdown",
   "id": "1a26be68",
   "metadata": {},
   "source": [
    "Finally run the photoz. We try it for two different photometry catalogs: calibrated star from DES catalog (in DES filters) and DC1 simulation catalog (in LSST filters)."
   ]
  },
  {
   "cell_type": "markdown",
   "id": "1d49f0d0",
   "metadata": {},
   "source": [
    "### DC1\n"
   ]
  },
  {
   "cell_type": "markdown",
   "id": "cb4bc499",
   "metadata": {},
   "source": [
    "Initialization"
   ]
  },
  {
   "cell_type": "code",
   "execution_count": 12,
   "id": "2116554f",
   "metadata": {},
   "outputs": [
    {
     "name": "stdout",
     "output_type": "stream",
     "text": [
      "####################################### \n",
      "# PHOTOMETRIC REDSHIFT with OPTIONS   # \n",
      "# Config file            : \n",
      "# CAT_IN                 : /home/hallouin/Documents/t_hall/lephare/training_stats/simulation_catalogs/buzzard_base/Shuffle_Buzzard_training_file.dat\n",
      "# CAT_OUT                : /home/hallouin/Documents/t_hall/lephare/training_stats/simulation_catalogs/star_gal/DC1_Buzzard_PICKLES_LSST.out\n",
      "# CAT_LINES              : 0 1000000000\n",
      "# PARA_OUT               : /home/hallouin/Documents/t_hall/lephare/training_stats/simulation_catalogs/star_gal/stargal.para\n",
      "# INP_TYPE               : M\n",
      "# CAT_FMT[0:MEME 1:MMEE] : 1\n",
      "# CAT_MAG                : AB\n",
      "# ZPHOTLIB               : buzzard_LSST PICKLES_LSST \n",
      "# FIR_LIB                : \n",
      "# FIR_LMIN               : 7.000000\n",
      "# FIR_CONT               : -1.000000\n",
      "# FIR_SCALE              : -1.000000\n",
      "# FIR_FREESCALE          : YES\n",
      "# FIR_SUBSTELLAR         : NO\n",
      "# ERR_SCALE              : 0.000000 \n",
      "# ERR_FACTOR             : 1.000000 \n",
      "# GLB_CONTEXT            : -1\n",
      "# FORB_CONTEXT           : -1\n",
      "# DZ_WIN                 : 1.000000\n",
      "# MIN_THRES              : 0.020000\n",
      "# MAG_ABS                : -24.000000 -5.000000\n",
      "# MAG_ABS_AGN            : -30.000000 -10.000000\n",
      "# MAG_REF                : 3\n",
      "# NZ_PRIOR               : -1 -2\n",
      "# Z_INTERP               : YES\n",
      "# Z_METHOD               : BEST\n",
      "# MABS_METHOD            : 1\n",
      "# MABS_CONTEXT           : 33556478 \n",
      "# MABS_REF               : 11 \n",
      "# AUTO_ADAPT             : NO\n",
      "# ADAPT_BAND             : 5\n",
      "# ADAPT_LIM              : 1.500000 23.000000\n",
      "# ADAPT_ZBIN             : 0.010000 6.000000\n",
      "# ZFIX                   : NO\n",
      "# SPEC_OUT               : NO\n",
      "# CHI_OUT                : NO\n",
      "# PDZ_OUT                : /home/hallouin/Documents/t_hall/lephare/training_stats/simulation_catalogs/star_gal/PDZs/DC1_Buzzard_PICKLES_LSST_piton\n",
      "# STAR_PDF_OUT           : /home/hallouin/Documents/t_hall/lephare/training_stats/simulation_catalogs/star_gal/PDFs/DC1_Buzzard_PICKLES_LSST_kk\n",
      "####################################### \n",
      "Reading input librairies ...\n",
      "Read lib \n",
      "Number of keywords to be read in the doc: 13\n",
      "Number of keywords read at the command line (excluding -c config): 0\n",
      "Reading keywords from /home/hallouin/.cache/lephare/work/lib_mag/PICKLES_LSST.doc\n",
      "Number of keywords read in the config file: 16\n",
      "Keyword NUMBER_ROWS not provided \n",
      "Keyword NUMBER_SED not provided \n",
      "Keyword Z_FORM not provided \n",
      "Reading library: /home/hallouin/.cache/lephare/work/lib_mag/PICKLES_LSST.bin\n",
      " Done with the library reading with 42 SED read. \n",
      "Number of keywords to be read in the doc: 13\n",
      "Number of keywords read at the command line (excluding -c config): 0\n",
      "Reading keywords from /home/hallouin/.cache/lephare/work/lib_mag/buzzard_LSST.doc\n",
      "Number of keywords read in the config file: 16\n",
      "Keyword NUMBER_ROWS not provided \n",
      "Keyword NUMBER_SED not provided \n",
      "Keyword Z_FORM not provided \n",
      "Reading library: /home/hallouin/.cache/lephare/work/lib_mag/buzzard_LSST.bin\n",
      " Done with the library reading with 20142 SED read. \n",
      "Read lib out \n",
      "Read filt \n",
      "# NAME                        IDENT      Lbda_mean Lbeff(Vega)       FWHM     AB-cor      VEGA   CALIB    Fac_corr\n",
      "BuzzardLSSTu.res              1             0.3733      0.3800      0.0530    0.5173  -20.7800       0      1.0000\n",
      "BuzzardLSSTg.res              2             0.4799      0.4700      0.1453   -0.0893  -20.7000       0      1.0000\n",
      "BuzzardLSSTr.res              3             0.6221      0.6133      0.1391    0.1458  -21.5100       0      1.0000\n",
      "BuzzardLSSTi.res              4             0.7541      0.7475      0.1302    0.3662  -22.1500       0      1.0000\n",
      "BuzzardLSSTz.res              5             0.8682      0.8659      0.1011    0.5171  -22.6100       0      1.0000\n",
      "BuzzardLSSTy4.res             6             0.9737      0.9686      0.0883    0.5488  -22.8900       0      1.0000\n"
     ]
    }
   ],
   "source": [
    "config.update(\n",
    "    {\n",
    "        \"ZPHOTLIB\": \"buzzard_LSST,PICKLES_LSST\",\n",
    "        \"SPEC_OUT\": \"NO\",\n",
    "        \"CAT_IN\": f\"{base_dir}/training_stats/simulation_catalogs/buzzard_base/Shuffle_Buzzard_training_file.dat\",\n",
    "        \"INP_TYPE\": \"M\",\n",
    "        \"CAT_TYPE\": \"LONG\",\n",
    "        \"CAT_MAG\": \"AB\",\n",
    "        \"PARA_OUT\": f\"{base_dir}/training_stats/simulation_catalogs/star_gal/stargal.para\",\n",
    "        \"CAT_OUT\": f\"{base_dir}/training_stats/simulation_catalogs/star_gal/DC1_Buzzard_PICKLES_LSST.out\",\n",
    "        \"ZPHOTLIB\": \"buzzard_LSST,PICKLES_LSST\",\n",
    "        \"AUTO_ADAPT\": \"NO\",\n",
    "        \"STAR_PDF_OUT\": f\"{base_dir}/training_stats/simulation_catalogs/star_gal/PDFs/DC1_Buzzard_PICKLES_LSST_kk\",\n",
    "        \"PDZ_OUT\": f\"{base_dir}/training_stats/simulation_catalogs/star_gal/PDZs/DC1_Buzzard_PICKLES_LSST_piton\",\n",
    "        \"PDZ_TYPE\": \"MIN_ZG\",\n",
    "        \"CAT_FMT\": \"MMEE\",\n",
    "        \"ERR_SCALE\": 0,\n",
    "        \"SPEC_OUT\": \"NO\",\n",
    "        \"CHI2_OUT\": \"NO\"\n",
    "    }\n",
    ")\n",
    "\n",
    "zphota = lp.PhotoZ(lp.all_types_to_keymap(config))"
   ]
  },
  {
   "cell_type": "markdown",
   "id": "532d8eca",
   "metadata": {},
   "source": [
    "Load catalog"
   ]
  },
  {
   "cell_type": "code",
   "execution_count": 13,
   "id": "0532b85b",
   "metadata": {},
   "outputs": [
    {
     "name": "stdout",
     "output_type": "stream",
     "text": [
      "Check format with context and zspec : [0. 0. 0. ... 0. 0. 0.] [0.21434 0.30069 0.36735 ... 1.62676 0.38128 0.62006]\n"
     ]
    }
   ],
   "source": [
    "cat = np.loadtxt(f\"{base_dir}/training_stats/simulation_catalogs/buzzard_base/Shuffle_Buzzard_training_file.dat\")\n",
    "id = cat[:, 0]\n",
    "mag = cat[:, 1:7]\n",
    "emag = cat[:, 7:13]\n",
    "context = cat[:, 13]\n",
    "zspec = cat[:, 14]\n",
    "print(\"Check format with context and zspec :\", context, zspec)"
   ]
  },
  {
   "cell_type": "markdown",
   "id": "263accbd",
   "metadata": {},
   "source": [
    "Turn rows into lephare onsources"
   ]
  },
  {
   "cell_type": "code",
   "execution_count": 14,
   "id": "ba9a48b8",
   "metadata": {},
   "outputs": [
    {
     "name": "stdout",
     "output_type": "stream",
     "text": [
      "Sources with a spec-z:  10\n"
     ]
    }
   ],
   "source": [
    "srclist = []\n",
    "n = 10\n",
    "for i in range(n):\n",
    "    oneObj = lp.onesource(i, zphota.gridz)\n",
    "    oneObj.readsource(str(id[i]), mag[i, :], emag[i, :], int(context[i]), zspec[i], \" \")\n",
    "    zphota.prep_data(oneObj)\n",
    "    srclist.append(oneObj)\n",
    "print(\"Sources with a spec-z: \", len(srclist))"
   ]
  },
  {
   "cell_type": "code",
   "execution_count": 15,
   "id": "f40c06c6",
   "metadata": {},
   "outputs": [],
   "source": [
    "zphota.run_photoz(srclist[:n], [])\n",
    "\n",
    "# photz.run_photoz(photozlist, a0) #if autao adapt on"
   ]
  },
  {
   "cell_type": "markdown",
   "id": "a7e0f136",
   "metadata": {},
   "source": [
    "## Turn output in fits"
   ]
  },
  {
   "cell_type": "code",
   "execution_count": 16,
   "id": "a496bec4",
   "metadata": {},
   "outputs": [
    {
     "ename": "AttributeError",
     "evalue": "'lephare._lephare.onesource' object has no attribute 'fulllib'",
     "output_type": "error",
     "traceback": [
      "\u001b[31m---------------------------------------------------------------------------\u001b[39m",
      "\u001b[31mAttributeError\u001b[39m                            Traceback (most recent call last)",
      "\u001b[36mCell\u001b[39m\u001b[36m \u001b[39m\u001b[32mIn[16]\u001b[39m\u001b[32m, line 1\u001b[39m\n\u001b[32m----> \u001b[39m\u001b[32m1\u001b[39m t = \u001b[43mzphota\u001b[49m\u001b[43m.\u001b[49m\u001b[43mbuild_output_tables\u001b[49m\u001b[43m(\u001b[49m\u001b[43msrclist\u001b[49m\u001b[43m[\u001b[49m\u001b[43m:\u001b[49m\u001b[43mn\u001b[49m\u001b[43m]\u001b[49m\u001b[43m,\u001b[49m\u001b[43m \u001b[49m\u001b[43mpara_out\u001b[49m\u001b[43m=\u001b[49m\u001b[33;43mf\u001b[39;49m\u001b[33;43m\"\u001b[39;49m\u001b[38;5;132;43;01m{\u001b[39;49;00m\u001b[43mbase_dir\u001b[49m\u001b[38;5;132;43;01m}\u001b[39;49;00m\u001b[33;43m/training_stats/simulation_catalogs/star_gal/stargal.para\u001b[39;49m\u001b[33;43m\"\u001b[39;49m\u001b[43m,\u001b[49m\u001b[43m \u001b[49m\u001b[43mfilename\u001b[49m\u001b[43m=\u001b[49m\u001b[33;43m\"\u001b[39;49m\u001b[33;43mDESstars_Buzzard_PICKLES_DES.fits\u001b[39;49m\u001b[33;43m\"\u001b[39;49m\u001b[43m)\u001b[49m\n",
      "\u001b[36mFile \u001b[39m\u001b[32m~/Documents/t_hall/lephare/src/lephare/_photoz.py:73\u001b[39m, in \u001b[36mPhotoZ.build_output_tables\u001b[39m\u001b[34m(self, srclist, para_out, filename)\u001b[39m\n\u001b[32m     71\u001b[39m chi2_arr = []\n\u001b[32m     72\u001b[39m \u001b[38;5;28;01mfor\u001b[39;00m src \u001b[38;5;129;01min\u001b[39;00m srclist:\n\u001b[32m---> \u001b[39m\u001b[32m73\u001b[39m     \u001b[38;5;28mprint\u001b[39m(\u001b[43msrc\u001b[49m\u001b[43m.\u001b[49m\u001b[43mfulllib\u001b[49m)\n\u001b[32m     74\u001b[39m     \u001b[38;5;28;01mtry\u001b[39;00m:\n\u001b[32m     75\u001b[39m         chi2_list = [sed.chi2 \u001b[38;5;28;01mfor\u001b[39;00m sed \u001b[38;5;129;01min\u001b[39;00m src.fulllib]\n",
      "\u001b[31mAttributeError\u001b[39m: 'lephare._lephare.onesource' object has no attribute 'fulllib'"
     ]
    }
   ],
   "source": [
    "t = zphota.build_output_tables(srclist[:n], para_out=f\"{base_dir}/training_stats/simulation_catalogs/star_gal/stargal.para\", filename=\"DESstars_Buzzard_PICKLES_DES.fits\")"
   ]
  },
  {
   "cell_type": "code",
   "execution_count": null,
   "id": "f5c7f103",
   "metadata": {},
   "outputs": [],
   "source": [
    "t[:5]"
   ]
  },
  {
   "cell_type": "code",
   "execution_count": null,
   "id": "681d58de",
   "metadata": {},
   "outputs": [],
   "source": [
    "import time\n",
    "\n",
    "zphota.write_outputs(srclist[:1], int(time.time()))"
   ]
  },
  {
   "cell_type": "code",
   "execution_count": null,
   "id": "183f066e",
   "metadata": {},
   "outputs": [],
   "source": [
    "# This created the output ascii file specified in the config CAT_OUT parameter\n",
    "!ls -al zphota.out"
   ]
  },
  {
   "cell_type": "code",
   "execution_count": null,
   "id": "19b2a655",
   "metadata": {},
   "outputs": [],
   "source": []
  }
 ],
 "metadata": {
  "kernelspec": {
   "display_name": "lephare",
   "language": "python",
   "name": "python3"
  },
  "language_info": {
   "codemirror_mode": {
    "name": "ipython",
    "version": 3
   },
   "file_extension": ".py",
   "mimetype": "text/x-python",
   "name": "python",
   "nbconvert_exporter": "python",
   "pygments_lexer": "ipython3",
   "version": "3.12.11"
  }
 },
 "nbformat": 4,
 "nbformat_minor": 5
}
